{
 "cells": [
  {
   "cell_type": "markdown",
   "metadata": {},
   "source": [
    "# TRAINING with TPU and TRANSFER LEARNING from 11th Model: Resnet"
   ]
  },
  {
   "cell_type": "code",
   "execution_count": 1,
   "metadata": {
    "_cell_guid": "b1076dfc-b9ad-4769-8c92-a6c4dae69d19",
    "_uuid": "8f2839f25d086af736a60e9eeb907d3b93b6e0e5",
    "execution": {
     "iopub.execute_input": "2021-09-02T17:11:05.618735Z",
     "iopub.status.busy": "2021-09-02T17:11:05.618272Z",
     "iopub.status.idle": "2021-09-02T17:11:13.353952Z",
     "shell.execute_reply": "2021-09-02T17:11:13.352730Z",
     "shell.execute_reply.started": "2021-09-02T17:11:05.618644Z"
    }
   },
   "outputs": [
    {
     "name": "stdout",
     "output_type": "stream",
     "text": [
      "Tensorflow version 2.4.1\n"
     ]
    }
   ],
   "source": [
    "import re\n",
    "import tensorflow as tf\n",
    "import tensorflow_hub as hub\n",
    "import numpy as np\n",
    "from matplotlib import pyplot as plt\n",
    "import os\n",
    "import glob\n",
    "from tqdm import tqdm\n",
    "\n",
    "print(\"Tensorflow version \" + tf.__version__)\n",
    "AUTO = tf.data.experimental.AUTOTUNE"
   ]
  },
  {
   "cell_type": "code",
   "execution_count": 2,
   "metadata": {
    "execution": {
     "iopub.execute_input": "2021-09-02T17:11:18.052372Z",
     "iopub.status.busy": "2021-09-02T17:11:18.052010Z",
     "iopub.status.idle": "2021-09-02T17:11:23.882753Z",
     "shell.execute_reply": "2021-09-02T17:11:23.881513Z",
     "shell.execute_reply.started": "2021-09-02T17:11:18.052338Z"
    }
   },
   "outputs": [
    {
     "name": "stdout",
     "output_type": "stream",
     "text": [
      "Number of accelerators:  8\n"
     ]
    }
   ],
   "source": [
    "# NEW on TPU in TensorFlow 24: \n",
    "# shorter cross-compatible TPU/GPU/multi-GPU/\n",
    "# GPU detection code\n",
    "\n",
    "try: # detect TPUs\n",
    "#TPU detection\n",
    "    tpu = tf.distribute.cluster_resolver.TPUClusterResolver.connect()\n",
    "    strategy = tf.distribute.TPUStrategy(tpu)\n",
    "\n",
    "except ValueError: # detect GPUs\n",
    "    strategy = tf.distribute.MirroredStrategy() \n",
    "    #for GPU or multi-GPU machines\n",
    "    \n",
    "    #strategy = tf.distribute.get_strategy() # default strategy that works on\n",
    "    # CPU and single GPU\n",
    "    \n",
    "    #strategy = tf.distribute.experimental.MultiWorkerMirroredStrategy()\n",
    "    # for clusters of multi-GPU machines\n",
    "    \n",
    "print(\"Number of accelerators: \", strategy.num_replicas_in_sync)"
   ]
  },
  {
   "cell_type": "markdown",
   "metadata": {},
   "source": [
    "# Making Ethnicity Model\n",
    "\n",
    "### Loading the Model"
   ]
  },
  {
   "cell_type": "code",
   "execution_count": 3,
   "metadata": {
    "execution": {
     "iopub.execute_input": "2021-09-02T17:11:44.016204Z",
     "iopub.status.busy": "2021-09-02T17:11:44.015803Z",
     "iopub.status.idle": "2021-09-02T17:11:44.020727Z",
     "shell.execute_reply": "2021-09-02T17:11:44.019777Z",
     "shell.execute_reply.started": "2021-09-02T17:11:44.016166Z"
    }
   },
   "outputs": [],
   "source": [
    "from keras.applications import VGG19 as OurModel"
   ]
  },
  {
   "cell_type": "code",
   "execution_count": 4,
   "metadata": {
    "execution": {
     "iopub.execute_input": "2021-09-02T17:11:47.803483Z",
     "iopub.status.busy": "2021-09-02T17:11:47.802941Z",
     "iopub.status.idle": "2021-09-02T17:11:50.031280Z",
     "shell.execute_reply": "2021-09-02T17:11:50.030132Z",
     "shell.execute_reply.started": "2021-09-02T17:11:47.803439Z"
    }
   },
   "outputs": [
    {
     "name": "stdin",
     "output_type": "stream",
     "text": [
      "What is the size of model input? 224\n"
     ]
    }
   ],
   "source": [
    "size_of_input = int(input('What is the size of model input?'))"
   ]
  },
  {
   "cell_type": "markdown",
   "metadata": {},
   "source": [
    "Inspecting Each layer"
   ]
  },
  {
   "cell_type": "markdown",
   "metadata": {},
   "source": [
    "### Let's freeze all layers except the top X"
   ]
  },
  {
   "cell_type": "code",
   "execution_count": 5,
   "metadata": {
    "execution": {
     "iopub.execute_input": "2021-09-02T17:11:59.682923Z",
     "iopub.status.busy": "2021-09-02T17:11:59.682542Z",
     "iopub.status.idle": "2021-09-02T17:12:03.167986Z",
     "shell.execute_reply": "2021-09-02T17:12:03.166380Z",
     "shell.execute_reply.started": "2021-09-02T17:11:59.682891Z"
    }
   },
   "outputs": [
    {
     "name": "stdout",
     "output_type": "stream",
     "text": [
      "Downloading data from https://storage.googleapis.com/tensorflow/keras-applications/vgg19/vgg19_weights_tf_dim_ordering_tf_kernels_notop.h5\n",
      "80142336/80134624 [==============================] - 1s 0us/step\n",
      "0 InputLayer False\n",
      "1 Conv2D False\n",
      "2 Conv2D False\n",
      "3 MaxPooling2D False\n",
      "4 Conv2D False\n",
      "5 Conv2D False\n",
      "6 MaxPooling2D False\n",
      "7 Conv2D False\n",
      "8 Conv2D False\n",
      "9 Conv2D False\n",
      "10 Conv2D False\n",
      "11 MaxPooling2D False\n",
      "12 Conv2D False\n",
      "13 Conv2D False\n",
      "14 Conv2D False\n",
      "15 Conv2D False\n",
      "16 MaxPooling2D False\n",
      "17 Conv2D False\n",
      "18 Conv2D False\n",
      "19 Conv2D False\n",
      "20 Conv2D False\n",
      "21 MaxPooling2D False\n"
     ]
    }
   ],
   "source": [
    "with strategy.scope():\n",
    "    #  was designed to work on 224 x 224 pixel input images sizes\n",
    "    img_rows = size_of_input\n",
    "    img_cols = size_of_input \n",
    "\n",
    "    # Re-loads the model without the top or FC layers\n",
    "    derived_model = OurModel(weights = 'imagenet', \n",
    "                     include_top = False, \n",
    "                     input_shape = (img_rows, img_cols, 3))\n",
    "\n",
    "    # Here we freeze the last 4 layers \n",
    "    # Layers are set to trainable as True by default\n",
    "    for layer in derived_model.layers:\n",
    "        layer.trainable = False\n",
    "    \n",
    "# Let's print our layers \n",
    "for (i,layer) in enumerate(derived_model.layers):\n",
    "    print(str(i) + \" \"+ layer.__class__.__name__, layer.trainable)"
   ]
  },
  {
   "attachments": {
    "13f4ed6d-93f5-4136-9c16-592a854f233a.png": {
     "image/png": "[encoded data removed]"
    }
   },
   "cell_type": "markdown",
   "metadata": {},
   "source": [
    "### Proposed Top Layer (type 2)\n",
    "![image.png](attachment:13f4ed6d-93f5-4136-9c16-592a854f233a.png)"
   ]
  },
  {
   "cell_type": "code",
   "execution_count": 6,
   "metadata": {
    "execution": {
     "iopub.execute_input": "2021-09-02T17:12:31.101297Z",
     "iopub.status.busy": "2021-09-02T17:12:31.100844Z",
     "iopub.status.idle": "2021-09-02T17:12:31.107604Z",
     "shell.execute_reply": "2021-09-02T17:12:31.106478Z",
     "shell.execute_reply.started": "2021-09-02T17:12:31.101260Z"
    }
   },
   "outputs": [],
   "source": [
    "def addTopModelVGG19(bottom_model, num_classes, D=size_of_input):\n",
    "    top_model = bottom_model.output\n",
    "    top_model = Flatten(name = \"flatten\")(top_model)\n",
    "    top_model = Dense(D, activation = \"relu\")(top_model)\n",
    "    top_model = Dropout(0.3)(top_model)\n",
    "    top_model = Dense(num_classes, activation = \"softmax\")(top_model)\n",
    "    return top_model"
   ]
  },
  {
   "cell_type": "markdown",
   "metadata": {},
   "source": [
    "## Let's add our FC Head back"
   ]
  },
  {
   "cell_type": "code",
   "execution_count": 7,
   "metadata": {
    "execution": {
     "iopub.execute_input": "2021-09-02T17:12:35.144030Z",
     "iopub.status.busy": "2021-09-02T17:12:35.143626Z",
     "iopub.status.idle": "2021-09-02T17:12:35.150320Z",
     "shell.execute_reply": "2021-09-02T17:12:35.148985Z",
     "shell.execute_reply.started": "2021-09-02T17:12:35.143990Z"
    }
   },
   "outputs": [],
   "source": [
    "from keras.models import Sequential\n",
    "from keras.layers import Dense, Dropout, Activation, Flatten\n",
    "from keras.layers import Conv2D, MaxPooling2D, ZeroPadding2D\n",
    "from keras.layers.normalization import BatchNormalization\n",
    "from keras.models import Model\n",
    "from keras.optimizers import RMSprop\n",
    "from keras.callbacks import ModelCheckpoint, EarlyStopping\n",
    "from keras.layers import GlobalAveragePooling2D"
   ]
  },
  {
   "cell_type": "code",
   "execution_count": 8,
   "metadata": {
    "execution": {
     "iopub.execute_input": "2021-09-02T17:13:11.332123Z",
     "iopub.status.busy": "2021-09-02T17:13:11.331576Z",
     "iopub.status.idle": "2021-09-02T17:13:14.041192Z",
     "shell.execute_reply": "2021-09-02T17:13:14.040217Z",
     "shell.execute_reply.started": "2021-09-02T17:13:11.332079Z"
    }
   },
   "outputs": [
    {
     "name": "stdin",
     "output_type": "stream",
     "text": [
      "How Many classes? 6\n"
     ]
    },
    {
     "name": "stdout",
     "output_type": "stream",
     "text": [
      "Model: \"model\"\n",
      "_________________________________________________________________\n",
      "Layer (type)                 Output Shape              Param #   \n",
      "=================================================================\n",
      "input_1 (InputLayer)         [(None, 224, 224, 3)]     0         \n",
      "_________________________________________________________________\n",
      "block1_conv1 (Conv2D)        (None, 224, 224, 64)      1792      \n",
      "_________________________________________________________________\n",
      "block1_conv2 (Conv2D)        (None, 224, 224, 64)      36928     \n",
      "_________________________________________________________________\n",
      "block1_pool (MaxPooling2D)   (None, 112, 112, 64)      0         \n",
      "_________________________________________________________________\n",
      "block2_conv1 (Conv2D)        (None, 112, 112, 128)     73856     \n",
      "_________________________________________________________________\n",
      "block2_conv2 (Conv2D)        (None, 112, 112, 128)     147584    \n",
      "_________________________________________________________________\n",
      "block2_pool (MaxPooling2D)   (None, 56, 56, 128)       0         \n",
      "_________________________________________________________________\n",
      "block3_conv1 (Conv2D)        (None, 56, 56, 256)       295168    \n",
      "_________________________________________________________________\n",
      "block3_conv2 (Conv2D)        (None, 56, 56, 256)       590080    \n",
      "_________________________________________________________________\n",
      "block3_conv3 (Conv2D)        (None, 56, 56, 256)       590080    \n",
      "_________________________________________________________________\n",
      "block3_conv4 (Conv2D)        (None, 56, 56, 256)       590080    \n",
      "_________________________________________________________________\n",
      "block3_pool (MaxPooling2D)   (None, 28, 28, 256)       0         \n",
      "_________________________________________________________________\n",
      "block4_conv1 (Conv2D)        (None, 28, 28, 512)       1180160   \n",
      "_________________________________________________________________\n",
      "block4_conv2 (Conv2D)        (None, 28, 28, 512)       2359808   \n",
      "_________________________________________________________________\n",
      "block4_conv3 (Conv2D)        (None, 28, 28, 512)       2359808   \n",
      "_________________________________________________________________\n",
      "block4_conv4 (Conv2D)        (None, 28, 28, 512)       2359808   \n",
      "_________________________________________________________________\n",
      "block4_pool (MaxPooling2D)   (None, 14, 14, 512)       0         \n",
      "_________________________________________________________________\n",
      "block5_conv1 (Conv2D)        (None, 14, 14, 512)       2359808   \n",
      "_________________________________________________________________\n",
      "block5_conv2 (Conv2D)        (None, 14, 14, 512)       2359808   \n",
      "_________________________________________________________________\n",
      "block5_conv3 (Conv2D)        (None, 14, 14, 512)       2359808   \n",
      "_________________________________________________________________\n",
      "block5_conv4 (Conv2D)        (None, 14, 14, 512)       2359808   \n",
      "_________________________________________________________________\n",
      "block5_pool (MaxPooling2D)   (None, 7, 7, 512)         0         \n",
      "_________________________________________________________________\n",
      "flatten (Flatten)            (None, 25088)             0         \n",
      "_________________________________________________________________\n",
      "dense (Dense)                (None, 224)               5619936   \n",
      "_________________________________________________________________\n",
      "dropout (Dropout)            (None, 224)               0         \n",
      "_________________________________________________________________\n",
      "dense_1 (Dense)              (None, 6)                 1350      \n",
      "=================================================================\n",
      "Total params: 25,645,670\n",
      "Trainable params: 5,621,286\n",
      "Non-trainable params: 20,024,384\n",
      "_________________________________________________________________\n",
      "None\n"
     ]
    }
   ],
   "source": [
    "with strategy.scope():\n",
    "    num_classes = int(input('How Many classes?'))\n",
    "\n",
    "    FC_Head = addTopModelVGG19(derived_model, num_classes)\n",
    "\n",
    "    model = Model(inputs=derived_model.input, outputs=FC_Head)\n",
    "    \n",
    "    checkpoint = ModelCheckpoint(\"./03_SixRace_Woman_VGG19_top2_tpu.h5\",\n",
    "                                 monitor=\"val_loss\",\n",
    "                                 mode=\"min\",\n",
    "                                 save_best_only = True,\n",
    "                                 verbose=1)\n",
    "\n",
    "    earlystop = EarlyStopping(monitor = 'val_loss', \n",
    "                              min_delta = 0, \n",
    "                              patience = 25,\n",
    "                              verbose = 1,\n",
    "                              restore_best_weights = True)\n",
    "\n",
    "    # we put our call backs into a callback list\n",
    "    callbacks = [earlystop, checkpoint]\n",
    "    \n",
    "    # Note we use a very small learning rate \n",
    "    model.compile(loss = 'categorical_crossentropy',\n",
    "                  optimizer = RMSprop(lr = 0.001),\n",
    "                  metrics = ['accuracy'])\n",
    "\n",
    "print(model.summary())"
   ]
  },
  {
   "cell_type": "code",
   "execution_count": null,
   "metadata": {},
   "outputs": [],
   "source": [
    "from keras.utils.vis_utils import plot_model\n",
    "#model\n",
    "plot_model(model, to_file='ethnicity_mmix_gmix_Mobnet_topv1.png', show_shapes=True, show_layer_names=True)"
   ]
  },
  {
   "cell_type": "markdown",
   "metadata": {},
   "source": [
    "## Load Dataset"
   ]
  },
  {
   "cell_type": "code",
   "execution_count": 9,
   "metadata": {
    "execution": {
     "iopub.execute_input": "2021-09-02T17:13:46.742314Z",
     "iopub.status.busy": "2021-09-02T17:13:46.741944Z",
     "iopub.status.idle": "2021-09-02T17:14:28.403532Z",
     "shell.execute_reply": "2021-09-02T17:14:28.402512Z",
     "shell.execute_reply.started": "2021-09-02T17:13:46.742281Z"
    }
   },
   "outputs": [
    {
     "name": "stderr",
     "output_type": "stream",
     "text": [
      "  0%|          | 0/6 [00:00<?, ?it/s]"
     ]
    },
    {
     "name": "stdout",
     "output_type": "stream",
     "text": [
      "Loading...\n"
     ]
    },
    {
     "name": "stderr",
     "output_type": "stream",
     "text": [
      "100%|██████████| 6/6 [00:41<00:00,  6.90s/it]"
     ]
    },
    {
     "name": "stdout",
     "output_type": "stream",
     "text": [
      "Training Data And Labels Are Built!!\n"
     ]
    },
    {
     "name": "stderr",
     "output_type": "stream",
     "text": [
      "\n"
     ]
    }
   ],
   "source": [
    "import numpy as np\n",
    "import matplotlib.pyplot as plt\n",
    "import os\n",
    "import cv2\n",
    "import random\n",
    "\n",
    "DATADIR = '../input/ds-race-mixmask-gensep/Female_Train/'\n",
    "path_folder = glob.glob(str(DATADIR)+'*')\n",
    "\n",
    "CATEGORIES = []\n",
    "\n",
    "for content in path_folder:\n",
    "    CATEGORIES.append(content.split('/')[-1])\n",
    "\n",
    "IMG_SIZE = size_of_input\n",
    "\n",
    "training_data_color = []\n",
    "class_index = []\n",
    "\n",
    "def build_training_data():\n",
    "    #count = 0\n",
    "    for category in tqdm(CATEGORIES):\n",
    "        path = os.path.join (DATADIR, category) # path to each\n",
    "        class_num = CATEGORIES.index(category)\n",
    "        class_index.append(class_num)\n",
    "        for img in os.listdir(path):\n",
    "            try:\n",
    "                img_array = cv2.imread (os.path.join(path,img))\n",
    "                new_array = cv2.resize (img_array, (IMG_SIZE,IMG_SIZE))\n",
    "                training_data_color.append([new_array,class_num])\n",
    "                \n",
    "                #if (count %600 == 0):\n",
    "                #    print('PROGRESS:',round(100*count/6000,2),'%')\n",
    "                #count +=1\n",
    "                \n",
    "            except Exception as e:\n",
    "                count +=1\n",
    "                pass\n",
    "\n",
    "print('Loading...')\n",
    "build_training_data()\n",
    "print('Training Data And Labels Are Built!!')"
   ]
  },
  {
   "cell_type": "code",
   "execution_count": 10,
   "metadata": {
    "execution": {
     "iopub.execute_input": "2021-09-02T17:14:42.180834Z",
     "iopub.status.busy": "2021-09-02T17:14:42.180456Z",
     "iopub.status.idle": "2021-09-02T17:14:42.201715Z",
     "shell.execute_reply": "2021-09-02T17:14:42.200578Z",
     "shell.execute_reply.started": "2021-09-02T17:14:42.180802Z"
    }
   },
   "outputs": [
    {
     "name": "stdout",
     "output_type": "stream",
     "text": [
      "True\n"
     ]
    }
   ],
   "source": [
    "a = os.listdir('../input/ds-race-mixmask-gensep/Female_Test')\n",
    "b = os.listdir('../input/ds-race-mixmask-gensep/Female_Train')\n",
    "print(a==b)"
   ]
  },
  {
   "cell_type": "code",
   "execution_count": 11,
   "metadata": {
    "execution": {
     "iopub.execute_input": "2021-09-02T17:14:44.641127Z",
     "iopub.status.busy": "2021-09-02T17:14:44.640758Z",
     "iopub.status.idle": "2021-09-02T17:14:44.646928Z",
     "shell.execute_reply": "2021-09-02T17:14:44.645951Z",
     "shell.execute_reply.started": "2021-09-02T17:14:44.641098Z"
    }
   },
   "outputs": [
    {
     "name": "stdout",
     "output_type": "stream",
     "text": [
      "['Arab', 'African', 'East_Asian', 'Caucasian', 'ASEAN', 'South_Asian']\n",
      "[0, 1, 2, 3, 4, 5]\n",
      "0\n",
      "1\n",
      "2\n",
      "3\n",
      "4\n",
      "5\n"
     ]
    }
   ],
   "source": [
    "print(CATEGORIES)\n",
    "print(class_index)\n",
    "\n",
    "for kk in CATEGORIES:\n",
    "    print(CATEGORIES.index(kk))"
   ]
  },
  {
   "cell_type": "code",
   "execution_count": 12,
   "metadata": {
    "execution": {
     "iopub.execute_input": "2021-09-02T17:14:47.632601Z",
     "iopub.status.busy": "2021-09-02T17:14:47.632220Z",
     "iopub.status.idle": "2021-09-02T17:14:47.839855Z",
     "shell.execute_reply": "2021-09-02T17:14:47.838525Z",
     "shell.execute_reply.started": "2021-09-02T17:14:47.632571Z"
    }
   },
   "outputs": [
    {
     "name": "stdout",
     "output_type": "stream",
     "text": [
      "1. Shuffling The Training Data\n",
      "2. Separate Features and Labels\n",
      "3. Convert Them into np.array\n",
      "4. Check their size/shape\n",
      "(3000, 224, 224, 3)\n",
      "(3000,)\n"
     ]
    }
   ],
   "source": [
    "#Shuffle\n",
    "print('1. Shuffling The Training Data')\n",
    "random.shuffle (training_data_color)\n",
    "\n",
    "print('2. Separate Features and Labels')\n",
    "X_train_color = []\n",
    "y_train_color = []\n",
    "\n",
    "for features, labels in training_data_color:\n",
    "    X_train_color.append(features)\n",
    "    y_train_color.append (labels)\n",
    "    \n",
    "print('3. Convert Them into np.array')\n",
    "X_train_color = np.array (X_train_color)\n",
    "y_train_color = np.array (y_train_color)\n",
    "print('4. Check their size/shape')\n",
    "print (X_train_color.shape)\n",
    "print (y_train_color.shape)"
   ]
  },
  {
   "cell_type": "markdown",
   "metadata": {},
   "source": [
    "#### Load Testing Dataset"
   ]
  },
  {
   "cell_type": "code",
   "execution_count": 13,
   "metadata": {
    "execution": {
     "iopub.execute_input": "2021-09-02T17:14:52.509414Z",
     "iopub.status.busy": "2021-09-02T17:14:52.508890Z",
     "iopub.status.idle": "2021-09-02T17:15:04.537977Z",
     "shell.execute_reply": "2021-09-02T17:15:04.536912Z",
     "shell.execute_reply.started": "2021-09-02T17:14:52.509366Z"
    }
   },
   "outputs": [
    {
     "name": "stderr",
     "output_type": "stream",
     "text": [
      "100%|██████████| 6/6 [00:12<00:00,  2.00s/it]"
     ]
    },
    {
     "name": "stdout",
     "output_type": "stream",
     "text": [
      "Testing Data And Labels Are Built!!\n"
     ]
    },
    {
     "name": "stderr",
     "output_type": "stream",
     "text": [
      "\n"
     ]
    }
   ],
   "source": [
    "#create test dataset for colored images\n",
    "#print('--Loading testing Dataset--')\n",
    "#print('...wait...')\n",
    "import numpy as np\n",
    "import matplotlib.pyplot as plt\n",
    "import os\n",
    "import cv2\n",
    "import random\n",
    "\n",
    "DATADIR = '../input/ds-race-mixmask-gensep/Female_Test/'\n",
    "\n",
    "testing_data_color = []\n",
    "\n",
    "def build_testing_data():\n",
    "    for category in tqdm(CATEGORIES):\n",
    "        path = os.path.join (DATADIR, category) # path to each\n",
    "        class_num = CATEGORIES.index(category)\n",
    "        for img in os.listdir(path):\n",
    "            try:\n",
    "                img_array = cv2.imread (os.path.join(path,img))\n",
    "                new_array = cv2.resize (img_array, (IMG_SIZE,IMG_SIZE))\n",
    "                testing_data_color.append([new_array,class_num])\n",
    "            except Exception as e:\n",
    "                pass\n",
    "\n",
    "build_testing_data()\n",
    "print('Testing Data And Labels Are Built!!')"
   ]
  },
  {
   "cell_type": "code",
   "execution_count": 14,
   "metadata": {
    "execution": {
     "iopub.execute_input": "2021-09-02T17:15:07.324941Z",
     "iopub.status.busy": "2021-09-02T17:15:07.324350Z",
     "iopub.status.idle": "2021-09-02T17:15:07.335731Z",
     "shell.execute_reply": "2021-09-02T17:15:07.334176Z",
     "shell.execute_reply.started": "2021-09-02T17:15:07.324890Z"
    }
   },
   "outputs": [
    {
     "name": "stdout",
     "output_type": "stream",
     "text": [
      "['Arab', 'African', 'East_Asian', 'Caucasian', 'ASEAN', 'South_Asian']\n",
      "['Arab', 'African', 'East_Asian', 'Caucasian', 'ASEAN', 'South_Asian']\n",
      "0\n",
      "1\n",
      "2\n",
      "3\n",
      "4\n",
      "5\n"
     ]
    }
   ],
   "source": [
    "print(CATEGORIES)\n",
    "print(os.listdir(DATADIR))\n",
    "\n",
    "for kk in CATEGORIES:\n",
    "    print(CATEGORIES.index(kk))"
   ]
  },
  {
   "cell_type": "code",
   "execution_count": 15,
   "metadata": {
    "execution": {
     "iopub.execute_input": "2021-09-02T17:15:10.135212Z",
     "iopub.status.busy": "2021-09-02T17:15:10.134825Z",
     "iopub.status.idle": "2021-09-02T17:15:10.224751Z",
     "shell.execute_reply": "2021-09-02T17:15:10.223620Z",
     "shell.execute_reply.started": "2021-09-02T17:15:10.135182Z"
    }
   },
   "outputs": [
    {
     "name": "stdout",
     "output_type": "stream",
     "text": [
      "0. Overview of Testing Dataset:  1200\n",
      "1. Shuffled\n",
      "2. Testing Labels and Features Separated\n",
      "3. Each Testing Labels and Features Are converted into np.array\n",
      "4. Overview after type conversion:\n",
      "(1200, 224, 224, 3)\n",
      "(1200,)\n"
     ]
    }
   ],
   "source": [
    "print('0. Overview of Testing Dataset: ',len(testing_data_color))\n",
    "random.shuffle(testing_data_color)\n",
    "print('1. Shuffled')\n",
    "X_test_color = [] #feature set\n",
    "y_test_color = [] # label\n",
    "\n",
    "for features, labels in testing_data_color:\n",
    "    X_test_color.append(features)\n",
    "    y_test_color.append (labels)\n",
    "    \n",
    "print('2. Testing Labels and Features Separated')\n",
    "\n",
    "X_test_color = np.array(X_test_color)\n",
    "y_test_color = np.array(y_test_color)\n",
    "\n",
    "print('3. Each Testing Labels and Features Are converted into np.array')\n",
    "\n",
    "print('4. Overview after type conversion:')\n",
    "print (X_test_color.shape)\n",
    "print (y_test_color.shape)"
   ]
  },
  {
   "cell_type": "markdown",
   "metadata": {},
   "source": [
    "## Step 2A: Examine the size and image dimenions\n",
    "\n",
    "- Check the number of samples, dimenions and whether images are color or grayscale\n",
    "- We see that our training data consist of 1200 samples of training data, 216 samples of test data\n",
    "- Our labels are appropriately sized as well\n",
    "- Our Image dimenions are 224 x 224, with 3 color channels (i.e. they are BGR, so not grayscale channel)"
   ]
  },
  {
   "cell_type": "code",
   "execution_count": 16,
   "metadata": {
    "execution": {
     "iopub.execute_input": "2021-09-02T17:15:15.192835Z",
     "iopub.status.busy": "2021-09-02T17:15:15.192467Z",
     "iopub.status.idle": "2021-09-02T17:15:15.202888Z",
     "shell.execute_reply": "2021-09-02T17:15:15.201091Z",
     "shell.execute_reply.started": "2021-09-02T17:15:15.192804Z"
    }
   },
   "outputs": [
    {
     "name": "stdout",
     "output_type": "stream",
     "text": [
      "Initial shape or dimensions of x_train (3000, 224, 224, 3)\n",
      "Number of samples in our training data: 3000\n",
      "Number of labels in our training data: 3000\n",
      "Number of samples in our test data: 1200\n",
      "Number of labels in our test data: 1200\n",
      "\n",
      "Dimensions of x_train:(224, 224, 3)\n",
      "Labels in x_train:(3000,)\n",
      "\n",
      "Dimensions of x_test:(224, 224, 3)\n",
      "Labels in y_test:(1200,)\n"
     ]
    }
   ],
   "source": [
    "# printing the number of samples in x_train, x_test, y_train, y_test\n",
    "print(\"Initial shape or dimensions of x_train\", str(X_train_color.shape))\n",
    "\n",
    "print (\"Number of samples in our training data: \" + str(len(X_train_color)))\n",
    "print (\"Number of labels in our training data: \" + str(len(y_train_color)))\n",
    "print (\"Number of samples in our test data: \" + str(len(X_test_color)))\n",
    "print (\"Number of labels in our test data: \" + str(len(y_test_color)))\n",
    "print()\n",
    "print (\"Dimensions of x_train:\" + str(X_train_color[0].shape))\n",
    "print (\"Labels in x_train:\" + str(y_train_color.shape))\n",
    "print()\n",
    "print (\"Dimensions of x_test:\" + str(X_test_color[0].shape))\n",
    "print (\"Labels in y_test:\" + str(y_test_color.shape))"
   ]
  },
  {
   "cell_type": "markdown",
   "metadata": {},
   "source": [
    "### Step 2B - Let's take a look at some of images in this dataset\n",
    "- Using OpenCV\n",
    "- Using Matplotlib"
   ]
  },
  {
   "cell_type": "code",
   "execution_count": 17,
   "metadata": {
    "execution": {
     "iopub.execute_input": "2021-09-02T17:15:19.913118Z",
     "iopub.status.busy": "2021-09-02T17:15:19.912760Z",
     "iopub.status.idle": "2021-09-02T17:15:20.505832Z",
     "shell.execute_reply": "2021-09-02T17:15:20.503918Z",
     "shell.execute_reply.started": "2021-09-02T17:15:19.913087Z"
    }
   },
   "outputs": [
    {
     "data": {
      "image/png": "[encoded data removed]",
      "text/plain": [
       "<Figure size 432x288 with 6 Axes>"
      ]
     },
     "metadata": {
      "needs_background": "light"
     },
     "output_type": "display_data"
    }
   ],
   "source": [
    "# importing matplot lib\n",
    "import matplotlib.pyplot as plt\n",
    "\n",
    "# Plots 6 images, note subplot's arugments are nrows,ncols,index\n",
    "# we set the color map to grey since our image dataset is grayscale\n",
    "plt.subplot(331)\n",
    "random_num = np.random.randint(0,len(X_train_color))\n",
    "plt.imshow(X_train_color[random_num], cmap=plt.get_cmap('gray'))\n",
    "\n",
    "plt.subplot(332)\n",
    "random_num = np.random.randint(0,len(X_train_color))\n",
    "plt.imshow(X_train_color[random_num], cmap=plt.get_cmap('gray'))\n",
    "\n",
    "plt.subplot(333)\n",
    "random_num = np.random.randint(0,len(X_train_color))\n",
    "plt.imshow(X_train_color[random_num], cmap=plt.get_cmap('gray'))\n",
    "\n",
    "plt.subplot(334)\n",
    "random_num = np.random.randint(0,len(X_train_color))\n",
    "plt.imshow(X_train_color[random_num], cmap=plt.get_cmap('gray'))\n",
    "\n",
    "plt.subplot(335)\n",
    "random_num = np.random.randint(0,len(X_train_color))\n",
    "plt.imshow(X_train_color[random_num], cmap=plt.get_cmap('gray'))\n",
    "\n",
    "plt.subplot(336)\n",
    "random_num = np.random.randint(0,len(X_train_color))\n",
    "plt.imshow(X_train_color[random_num], cmap=plt.get_cmap('gray'))\n",
    "\n",
    "# Display out plots\n",
    "plt.show()"
   ]
  },
  {
   "cell_type": "markdown",
   "metadata": {},
   "source": [
    "### Convert X_train and X_test into Keras format and shape"
   ]
  },
  {
   "cell_type": "code",
   "execution_count": 18,
   "metadata": {
    "execution": {
     "iopub.execute_input": "2021-09-02T17:15:25.313422Z",
     "iopub.status.busy": "2021-09-02T17:15:25.313046Z",
     "iopub.status.idle": "2021-09-02T17:15:26.458989Z",
     "shell.execute_reply": "2021-09-02T17:15:26.457869Z",
     "shell.execute_reply.started": "2021-09-02T17:15:25.313377Z"
    }
   },
   "outputs": [
    {
     "name": "stdout",
     "output_type": "stream",
     "text": [
      "X_train_color shape: (3000, 224, 224, 3)\n",
      "3000 train samples\n",
      "1200 test samples\n"
     ]
    }
   ],
   "source": [
    "# Lets store the number of rows and columns\n",
    "img_rows = X_train_color[0].shape[0]\n",
    "img_cols = X_train_color[0].shape[1]\n",
    "\n",
    "# Getting our date in the right 'shape' needed for Keras\n",
    "# We need to add a 4th dimenion to our date thereby changing our\n",
    "# Our original image shape of (60000,28,28) to (60000,28,28,1)\n",
    "X_train_color = X_train_color.reshape(X_train_color.shape[0], img_rows, img_cols, 3)\n",
    "X_test_color = X_test_color.reshape(X_test_color.shape[0], img_rows, img_cols, 3)\n",
    "\n",
    "# store the shape of a single image \n",
    "input_shape = (img_rows, img_cols, 3)\n",
    "\n",
    "# change our image type to float32 data type\n",
    "X_train_color = X_train_color.astype('float32')\n",
    "X_test_color = X_test_color.astype('float32')\n",
    "\n",
    "# Normalize our data by changing the range from (0 to 255) to (0 to 1)\n",
    "X_train_color /= 255\n",
    "X_test_color /= 255\n",
    "\n",
    "print('X_train_color shape:', X_train_color.shape)\n",
    "print(X_train_color.shape[0], 'train samples')\n",
    "print(X_test_color.shape[0], 'test samples')\n"
   ]
  },
  {
   "cell_type": "markdown",
   "metadata": {},
   "source": [
    "## One-hot encode the labels of both train and test dataset"
   ]
  },
  {
   "cell_type": "code",
   "execution_count": 19,
   "metadata": {
    "execution": {
     "iopub.execute_input": "2021-09-02T17:15:30.280139Z",
     "iopub.status.busy": "2021-09-02T17:15:30.279638Z",
     "iopub.status.idle": "2021-09-02T17:15:30.288935Z",
     "shell.execute_reply": "2021-09-02T17:15:30.287714Z",
     "shell.execute_reply.started": "2021-09-02T17:15:30.280106Z"
    }
   },
   "outputs": [
    {
     "name": "stdout",
     "output_type": "stream",
     "text": [
      "Number of Classes: 6\n"
     ]
    }
   ],
   "source": [
    "import tensorflow as tf\n",
    "from tensorflow import keras \n",
    "from keras.utils import np_utils\n",
    "\n",
    "# Now we one hot encode outputs\n",
    "y_train_color = np_utils.to_categorical(y_train_color)\n",
    "y_test_color = np_utils.to_categorical(y_test_color)\n",
    "\n",
    "# Let's count the number columns in our hot encoded matrix \n",
    "print (\"Number of Classes: \" + str(y_test_color.shape[1]))\n",
    "\n",
    "num_classes = y_test_color.shape[1]\n",
    "num_pixels = X_train_color.shape[1] * X_train_color.shape[2]"
   ]
  },
  {
   "cell_type": "markdown",
   "metadata": {},
   "source": [
    "## THEN TRAINING"
   ]
  },
  {
   "cell_type": "code",
   "execution_count": 20,
   "metadata": {
    "execution": {
     "iopub.execute_input": "2021-09-02T17:15:35.169311Z",
     "iopub.status.busy": "2021-09-02T17:15:35.168774Z",
     "iopub.status.idle": "2021-09-02T17:18:07.033251Z",
     "shell.execute_reply": "2021-09-02T17:18:07.032075Z",
     "shell.execute_reply.started": "2021-09-02T17:15:35.169272Z"
    }
   },
   "outputs": [
    {
     "name": "stdout",
     "output_type": "stream",
     "text": [
      "Training started, with epoch plan:  500\n",
      "........wait until finish........\n",
      "Epoch 1/500\n",
      "23/23 [==============================] - 33s 1s/step - loss: 12.7854 - accuracy: 0.1997 - val_loss: 1.7821 - val_accuracy: 0.2875\n",
      "\n",
      "Epoch 00001: val_loss improved from inf to 1.78210, saving model to ./03_SixRace_Woman_VGG19_top2_tpu.h5\n",
      "Epoch 2/500\n",
      "23/23 [==============================] - 2s 86ms/step - loss: 1.6117 - accuracy: 0.3542 - val_loss: 1.5593 - val_accuracy: 0.3917\n",
      "\n",
      "Epoch 00002: val_loss improved from 1.78210 to 1.55932, saving model to ./03_SixRace_Woman_VGG19_top2_tpu.h5\n",
      "Epoch 3/500\n",
      "23/23 [==============================] - 2s 84ms/step - loss: 1.5318 - accuracy: 0.3527 - val_loss: 1.2190 - val_accuracy: 0.5533\n",
      "\n",
      "Epoch 00003: val_loss improved from 1.55932 to 1.21899, saving model to ./03_SixRace_Woman_VGG19_top2_tpu.h5\n",
      "Epoch 4/500\n",
      "23/23 [==============================] - 2s 83ms/step - loss: 1.2539 - accuracy: 0.5175 - val_loss: 1.3239 - val_accuracy: 0.4667\n",
      "\n",
      "Epoch 00004: val_loss did not improve from 1.21899\n",
      "Epoch 5/500\n",
      "23/23 [==============================] - 2s 88ms/step - loss: 1.2244 - accuracy: 0.5265 - val_loss: 1.1249 - val_accuracy: 0.6092\n",
      "\n",
      "Epoch 00005: val_loss improved from 1.21899 to 1.12489, saving model to ./03_SixRace_Woman_VGG19_top2_tpu.h5\n",
      "Epoch 6/500\n",
      "23/23 [==============================] - 2s 85ms/step - loss: 1.1194 - accuracy: 0.5658 - val_loss: 1.1411 - val_accuracy: 0.5733\n",
      "\n",
      "Epoch 00006: val_loss did not improve from 1.12489\n",
      "Epoch 7/500\n",
      "23/23 [==============================] - 2s 84ms/step - loss: 1.0190 - accuracy: 0.6141 - val_loss: 1.0823 - val_accuracy: 0.5683\n",
      "\n",
      "Epoch 00007: val_loss improved from 1.12489 to 1.08228, saving model to ./03_SixRace_Woman_VGG19_top2_tpu.h5\n",
      "Epoch 8/500\n",
      "23/23 [==============================] - 2s 79ms/step - loss: 1.0301 - accuracy: 0.6079 - val_loss: 1.0736 - val_accuracy: 0.5750\n",
      "\n",
      "Epoch 00008: val_loss improved from 1.08228 to 1.07360, saving model to ./03_SixRace_Woman_VGG19_top2_tpu.h5\n",
      "Epoch 9/500\n",
      "23/23 [==============================] - 2s 80ms/step - loss: 0.8637 - accuracy: 0.6721 - val_loss: 0.9548 - val_accuracy: 0.6642\n",
      "\n",
      "Epoch 00009: val_loss improved from 1.07360 to 0.95480, saving model to ./03_SixRace_Woman_VGG19_top2_tpu.h5\n",
      "Epoch 10/500\n",
      "23/23 [==============================] - 2s 81ms/step - loss: 0.7862 - accuracy: 0.7000 - val_loss: 0.8697 - val_accuracy: 0.6892\n",
      "\n",
      "Epoch 00010: val_loss improved from 0.95480 to 0.86972, saving model to ./03_SixRace_Woman_VGG19_top2_tpu.h5\n",
      "Epoch 11/500\n",
      "23/23 [==============================] - 2s 82ms/step - loss: 0.8159 - accuracy: 0.6874 - val_loss: 0.8976 - val_accuracy: 0.6825\n",
      "\n",
      "Epoch 00011: val_loss did not improve from 0.86972\n",
      "Epoch 12/500\n",
      "23/23 [==============================] - 2s 83ms/step - loss: 0.7566 - accuracy: 0.7111 - val_loss: 0.9217 - val_accuracy: 0.6767\n",
      "\n",
      "Epoch 00012: val_loss did not improve from 0.86972\n",
      "Epoch 13/500\n",
      "23/23 [==============================] - 2s 81ms/step - loss: 0.7221 - accuracy: 0.7285 - val_loss: 0.9583 - val_accuracy: 0.6483\n",
      "\n",
      "Epoch 00013: val_loss did not improve from 0.86972\n",
      "Epoch 14/500\n",
      "23/23 [==============================] - 2s 83ms/step - loss: 0.6451 - accuracy: 0.7634 - val_loss: 0.9158 - val_accuracy: 0.6717\n",
      "\n",
      "Epoch 00014: val_loss did not improve from 0.86972\n",
      "Epoch 15/500\n",
      "23/23 [==============================] - 2s 80ms/step - loss: 0.6872 - accuracy: 0.7435 - val_loss: 0.9198 - val_accuracy: 0.6517\n",
      "\n",
      "Epoch 00015: val_loss did not improve from 0.86972\n",
      "Epoch 16/500\n",
      "23/23 [==============================] - 2s 84ms/step - loss: 0.6310 - accuracy: 0.7507 - val_loss: 0.8621 - val_accuracy: 0.6983\n",
      "\n",
      "Epoch 00016: val_loss improved from 0.86972 to 0.86207, saving model to ./03_SixRace_Woman_VGG19_top2_tpu.h5\n",
      "Epoch 17/500\n",
      "23/23 [==============================] - 2s 79ms/step - loss: 0.5791 - accuracy: 0.7781 - val_loss: 0.8320 - val_accuracy: 0.7083\n",
      "\n",
      "Epoch 00017: val_loss improved from 0.86207 to 0.83203, saving model to ./03_SixRace_Woman_VGG19_top2_tpu.h5\n",
      "Epoch 18/500\n",
      "23/23 [==============================] - 2s 82ms/step - loss: 0.5168 - accuracy: 0.8065 - val_loss: 0.7278 - val_accuracy: 0.7433\n",
      "\n",
      "Epoch 00018: val_loss improved from 0.83203 to 0.72776, saving model to ./03_SixRace_Woman_VGG19_top2_tpu.h5\n",
      "Epoch 19/500\n",
      "23/23 [==============================] - 2s 83ms/step - loss: 0.5495 - accuracy: 0.7831 - val_loss: 0.7970 - val_accuracy: 0.7217\n",
      "\n",
      "Epoch 00019: val_loss did not improve from 0.72776\n",
      "Epoch 20/500\n",
      "23/23 [==============================] - 2s 82ms/step - loss: 0.4628 - accuracy: 0.8366 - val_loss: 0.8162 - val_accuracy: 0.7008\n",
      "\n",
      "Epoch 00020: val_loss did not improve from 0.72776\n",
      "Epoch 21/500\n",
      "23/23 [==============================] - 2s 83ms/step - loss: 0.5098 - accuracy: 0.8149 - val_loss: 0.7403 - val_accuracy: 0.7500\n",
      "\n",
      "Epoch 00021: val_loss did not improve from 0.72776\n",
      "Epoch 22/500\n",
      "23/23 [==============================] - 2s 82ms/step - loss: 0.4237 - accuracy: 0.8327 - val_loss: 0.8453 - val_accuracy: 0.7008\n",
      "\n",
      "Epoch 00022: val_loss did not improve from 0.72776\n",
      "Epoch 23/500\n",
      "23/23 [==============================] - 2s 82ms/step - loss: 0.4998 - accuracy: 0.8134 - val_loss: 0.8289 - val_accuracy: 0.6833\n",
      "\n",
      "Epoch 00023: val_loss did not improve from 0.72776\n",
      "Epoch 24/500\n",
      "23/23 [==============================] - 2s 82ms/step - loss: 0.4372 - accuracy: 0.8330 - val_loss: 0.7999 - val_accuracy: 0.7258\n",
      "\n",
      "Epoch 00024: val_loss did not improve from 0.72776\n",
      "Epoch 25/500\n",
      "23/23 [==============================] - 2s 82ms/step - loss: 0.3979 - accuracy: 0.8467 - val_loss: 0.8095 - val_accuracy: 0.7125\n",
      "\n",
      "Epoch 00025: val_loss did not improve from 0.72776\n",
      "Epoch 26/500\n",
      "23/23 [==============================] - 2s 81ms/step - loss: 0.3536 - accuracy: 0.8681 - val_loss: 0.9952 - val_accuracy: 0.6767\n",
      "\n",
      "Epoch 00026: val_loss did not improve from 0.72776\n",
      "Epoch 27/500\n",
      "23/23 [==============================] - 2s 101ms/step - loss: 0.3429 - accuracy: 0.8720 - val_loss: 0.7123 - val_accuracy: 0.7442\n",
      "\n",
      "Epoch 00027: val_loss improved from 0.72776 to 0.71231, saving model to ./03_SixRace_Woman_VGG19_top2_tpu.h5\n",
      "Epoch 28/500\n",
      "23/23 [==============================] - 2s 80ms/step - loss: 0.3025 - accuracy: 0.8946 - val_loss: 0.7733 - val_accuracy: 0.7425\n",
      "\n",
      "Epoch 00028: val_loss did not improve from 0.71231\n",
      "Epoch 29/500\n",
      "23/23 [==============================] - 2s 85ms/step - loss: 0.2868 - accuracy: 0.8974 - val_loss: 0.8577 - val_accuracy: 0.7025\n",
      "\n",
      "Epoch 00029: val_loss did not improve from 0.71231\n",
      "Epoch 30/500\n",
      "23/23 [==============================] - 2s 84ms/step - loss: 0.3521 - accuracy: 0.8582 - val_loss: 0.7423 - val_accuracy: 0.7483\n",
      "\n",
      "Epoch 00030: val_loss did not improve from 0.71231\n",
      "Epoch 31/500\n",
      "23/23 [==============================] - 2s 84ms/step - loss: 0.2590 - accuracy: 0.9119 - val_loss: 0.8946 - val_accuracy: 0.7083\n",
      "\n",
      "Epoch 00031: val_loss did not improve from 0.71231\n",
      "Epoch 32/500\n",
      "23/23 [==============================] - 2s 84ms/step - loss: 0.2751 - accuracy: 0.9024 - val_loss: 0.7183 - val_accuracy: 0.7667\n",
      "\n",
      "Epoch 00032: val_loss did not improve from 0.71231\n",
      "Epoch 33/500\n",
      "23/23 [==============================] - 2s 82ms/step - loss: 0.2924 - accuracy: 0.8922 - val_loss: 0.8951 - val_accuracy: 0.7158\n",
      "\n",
      "Epoch 00033: val_loss did not improve from 0.71231\n",
      "Epoch 34/500\n",
      "23/23 [==============================] - 2s 83ms/step - loss: 0.2329 - accuracy: 0.9164 - val_loss: 0.8846 - val_accuracy: 0.7350\n",
      "\n",
      "Epoch 00034: val_loss did not improve from 0.71231\n",
      "Epoch 35/500\n",
      "23/23 [==============================] - 2s 81ms/step - loss: 0.2594 - accuracy: 0.9087 - val_loss: 0.9968 - val_accuracy: 0.6858\n",
      "\n",
      "Epoch 00035: val_loss did not improve from 0.71231\n",
      "Epoch 36/500\n",
      "23/23 [==============================] - 2s 83ms/step - loss: 0.2728 - accuracy: 0.8953 - val_loss: 1.0873 - val_accuracy: 0.6658\n",
      "\n",
      "Epoch 00036: val_loss did not improve from 0.71231\n",
      "Epoch 37/500\n",
      "23/23 [==============================] - 2s 80ms/step - loss: 0.3035 - accuracy: 0.8852 - val_loss: 0.7470 - val_accuracy: 0.7592\n",
      "\n",
      "Epoch 00037: val_loss did not improve from 0.71231\n",
      "Epoch 38/500\n",
      "23/23 [==============================] - 2s 81ms/step - loss: 0.1773 - accuracy: 0.9394 - val_loss: 1.1006 - val_accuracy: 0.6925\n",
      "\n",
      "Epoch 00038: val_loss did not improve from 0.71231\n",
      "Epoch 39/500\n",
      "23/23 [==============================] - 2s 81ms/step - loss: 0.2498 - accuracy: 0.9077 - val_loss: 0.9250 - val_accuracy: 0.6950\n",
      "\n",
      "Epoch 00039: val_loss did not improve from 0.71231\n",
      "Epoch 40/500\n",
      "23/23 [==============================] - 2s 80ms/step - loss: 0.2246 - accuracy: 0.9164 - val_loss: 1.1207 - val_accuracy: 0.6900\n",
      "\n",
      "Epoch 00040: val_loss did not improve from 0.71231\n",
      "Epoch 41/500\n",
      "23/23 [==============================] - 2s 82ms/step - loss: 0.2407 - accuracy: 0.9090 - val_loss: 0.8404 - val_accuracy: 0.7492\n",
      "\n",
      "Epoch 00041: val_loss did not improve from 0.71231\n",
      "Epoch 42/500\n",
      "23/23 [==============================] - 2s 80ms/step - loss: 0.1702 - accuracy: 0.9397 - val_loss: 0.7902 - val_accuracy: 0.7658\n",
      "\n",
      "Epoch 00042: val_loss did not improve from 0.71231\n",
      "Epoch 43/500\n",
      "23/23 [==============================] - 2s 82ms/step - loss: 0.2205 - accuracy: 0.9120 - val_loss: 0.9334 - val_accuracy: 0.7317\n",
      "\n",
      "Epoch 00043: val_loss did not improve from 0.71231\n",
      "Epoch 44/500\n",
      "23/23 [==============================] - 2s 79ms/step - loss: 0.2216 - accuracy: 0.9175 - val_loss: 1.1120 - val_accuracy: 0.7100\n",
      "\n",
      "Epoch 00044: val_loss did not improve from 0.71231\n",
      "Epoch 45/500\n",
      "23/23 [==============================] - 2s 80ms/step - loss: 0.2791 - accuracy: 0.8936 - val_loss: 0.9112 - val_accuracy: 0.7533\n",
      "\n",
      "Epoch 00045: val_loss did not improve from 0.71231\n",
      "Epoch 46/500\n",
      "23/23 [==============================] - 2s 79ms/step - loss: 0.1979 - accuracy: 0.9283 - val_loss: 0.8848 - val_accuracy: 0.7542\n",
      "\n",
      "Epoch 00046: val_loss did not improve from 0.71231\n",
      "Epoch 47/500\n",
      "23/23 [==============================] - 2s 81ms/step - loss: 0.1599 - accuracy: 0.9375 - val_loss: 0.9414 - val_accuracy: 0.7500\n",
      "\n",
      "Epoch 00047: val_loss did not improve from 0.71231\n",
      "Epoch 48/500\n",
      "23/23 [==============================] - 2s 80ms/step - loss: 0.3578 - accuracy: 0.8824 - val_loss: 0.9332 - val_accuracy: 0.7508\n",
      "\n",
      "Epoch 00048: val_loss did not improve from 0.71231\n",
      "Epoch 49/500\n",
      "23/23 [==============================] - 2s 79ms/step - loss: 0.1372 - accuracy: 0.9517 - val_loss: 0.9027 - val_accuracy: 0.7508\n",
      "\n",
      "Epoch 00049: val_loss did not improve from 0.71231\n",
      "Epoch 50/500\n",
      "23/23 [==============================] - 2s 80ms/step - loss: 0.1269 - accuracy: 0.9529 - val_loss: 1.3895 - val_accuracy: 0.6792\n",
      "\n",
      "Epoch 00050: val_loss did not improve from 0.71231\n",
      "Epoch 51/500\n",
      "23/23 [==============================] - 2s 99ms/step - loss: 0.2273 - accuracy: 0.9139 - val_loss: 0.8407 - val_accuracy: 0.7458\n",
      "\n",
      "Epoch 00051: val_loss did not improve from 0.71231\n",
      "Epoch 52/500\n",
      "23/23 [==============================] - 2s 83ms/step - loss: 0.2089 - accuracy: 0.9216 - val_loss: 1.0310 - val_accuracy: 0.7450\n",
      "Restoring model weights from the end of the best epoch.\n",
      "\n",
      "Epoch 00052: val_loss did not improve from 0.71231\n",
      "Epoch 00052: early stopping\n",
      "--FINISH--\n",
      "Total time:  2 minutes 31 seconds\n"
     ]
    }
   ],
   "source": [
    "import timeit\n",
    "# We only train 5 EPOCHS\n",
    "nb_train_samples = X_train_color.shape[0]\n",
    "nb_validation_samples = X_test_color.shape[0]\n",
    "\n",
    "EPOCHS = 500\n",
    "batch_size = 16*strategy.num_replicas_in_sync\n",
    "#batch_size = 128\n",
    "\n",
    "start = timeit.default_timer()\n",
    "print('Training started, with epoch plan: ', EPOCHS)\n",
    "print('........wait until finish........')\n",
    "\n",
    "#history = model.fit_generator( <--is deprecated and will be removed in a future version\n",
    "history = model.fit(\n",
    "    X_train_color, y_train_color,\n",
    "    steps_per_epoch = nb_train_samples // batch_size,\n",
    "    epochs = EPOCHS,\n",
    "    callbacks = callbacks,\n",
    "    validation_data = (X_test_color, y_test_color),\n",
    "    validation_steps = nb_validation_samples // batch_size)\n",
    "\n",
    "stop = timeit.default_timer()\n",
    "print('--FINISH--')\n",
    "print('Total time: ',int((stop-start)//60),'minutes',int((stop-start)%60),'seconds')\n"
   ]
  },
  {
   "cell_type": "code",
   "execution_count": 28,
   "metadata": {
    "execution": {
     "iopub.execute_input": "2021-09-02T17:23:13.098472Z",
     "iopub.status.busy": "2021-09-02T17:23:13.098055Z",
     "iopub.status.idle": "2021-09-02T17:23:16.544323Z",
     "shell.execute_reply": "2021-09-02T17:23:16.543516Z",
     "shell.execute_reply.started": "2021-09-02T17:23:13.098433Z"
    }
   },
   "outputs": [
    {
     "name": "stdin",
     "output_type": "stream",
     "text": [
      "How many epochs last?__ 52\n"
     ]
    },
    {
     "name": "stdout",
     "output_type": "stream",
     "text": [
      "Time consumed: 2.92 second/epoch\n",
      "Training Speed: 21.0 epochs/minutes\n",
      "total time (seconds) =  151.854632219\n"
     ]
    }
   ],
   "source": [
    "numberOfEpoch = int(input('How many epochs last?__'))\n",
    "print('Time consumed:',round((stop-start)/numberOfEpoch,2),'second/epoch')\n",
    "print('Training Speed:',round(numberOfEpoch*60/(stop-start),0),'epochs/minutes')\n",
    "print('total time (seconds) = ', stop - start)"
   ]
  },
  {
   "cell_type": "markdown",
   "metadata": {},
   "source": [
    "## Calculate Training and model Performance"
   ]
  },
  {
   "cell_type": "code",
   "execution_count": 22,
   "metadata": {
    "execution": {
     "iopub.execute_input": "2021-09-02T17:19:05.471823Z",
     "iopub.status.busy": "2021-09-02T17:19:05.471433Z",
     "iopub.status.idle": "2021-09-02T17:19:05.677443Z",
     "shell.execute_reply": "2021-09-02T17:19:05.676510Z",
     "shell.execute_reply.started": "2021-09-02T17:19:05.471791Z"
    }
   },
   "outputs": [
    {
     "name": "stdout",
     "output_type": "stream",
     "text": [
      "--Loss curve after trained by TPU--\n"
     ]
    },
    {
     "data": {
      "image/png": "[encoded data removed]",
      "text/plain": [
       "<Figure size 432x288 with 1 Axes>"
      ]
     },
     "metadata": {
      "needs_background": "light"
     },
     "output_type": "display_data"
    }
   ],
   "source": [
    "# Plotting our loss charts\n",
    "import matplotlib.pyplot as plt\n",
    "print('--Loss curve after trained by TPU--')\n",
    "history_dict = history.history\n",
    "\n",
    "loss_values = history_dict['loss']\n",
    "val_loss_values = history_dict['val_loss']\n",
    "epochs = range(1, len(loss_values) + 1)\n",
    "\n",
    "line1 = plt.plot(epochs, val_loss_values, label='Validation/Test Loss')\n",
    "line2 = plt.plot(epochs, loss_values, label='Training Loss')\n",
    "plt.setp(line1, linewidth=2.0, marker = '+', markersize=10.0)\n",
    "plt.setp(line2, linewidth=2.0, marker = '4', markersize=10.0)\n",
    "plt.xlabel('Epochs') \n",
    "plt.ylabel('Loss')\n",
    "plt.grid(True)\n",
    "plt.legend()\n",
    "plt.show()\n"
   ]
  },
  {
   "cell_type": "code",
   "execution_count": 23,
   "metadata": {
    "execution": {
     "iopub.execute_input": "2021-09-02T17:19:09.312796Z",
     "iopub.status.busy": "2021-09-02T17:19:09.312078Z",
     "iopub.status.idle": "2021-09-02T17:19:09.506153Z",
     "shell.execute_reply": "2021-09-02T17:19:09.505267Z",
     "shell.execute_reply.started": "2021-09-02T17:19:09.312758Z"
    }
   },
   "outputs": [
    {
     "name": "stdout",
     "output_type": "stream",
     "text": [
      "--Accuracy curve after trained by TPU--\n"
     ]
    },
    {
     "data": {
      "image/png": "[encoded data removed]",
      "text/plain": [
       "<Figure size 432x288 with 1 Axes>"
      ]
     },
     "metadata": {
      "needs_background": "light"
     },
     "output_type": "display_data"
    }
   ],
   "source": [
    "# Plotting our accuracy charts\n",
    "import matplotlib.pyplot as plt\n",
    "\n",
    "history_dict = history.history\n",
    "print('--Accuracy curve after trained by TPU--')\n",
    "acc_values = history_dict['accuracy']\n",
    "val_acc_values = history_dict['val_accuracy']\n",
    "epochs = range(1, len(loss_values) + 1)\n",
    "\n",
    "line1 = plt.plot(epochs, val_acc_values, label='Validation/Test Accuracy')\n",
    "line2 = plt.plot(epochs, acc_values, label='Training Accuracy')\n",
    "plt.setp(line1, linewidth=2.0, marker = '+', markersize=10.0)\n",
    "plt.setp(line2, linewidth=2.0, marker = '4', markersize=10.0)\n",
    "plt.xlabel('Epochs') \n",
    "plt.ylabel('Accuracy')\n",
    "plt.grid(True)\n",
    "plt.legend()\n",
    "plt.show()\n"
   ]
  },
  {
   "cell_type": "code",
   "execution_count": 24,
   "metadata": {
    "execution": {
     "iopub.execute_input": "2021-09-02T17:19:15.794236Z",
     "iopub.status.busy": "2021-09-02T17:19:15.793720Z",
     "iopub.status.idle": "2021-09-02T17:19:30.245200Z",
     "shell.execute_reply": "2021-09-02T17:19:30.243777Z",
     "shell.execute_reply.started": "2021-09-02T17:19:15.794193Z"
    }
   },
   "outputs": [
    {
     "name": "stdout",
     "output_type": "stream",
     "text": [
      "Best condition:\n",
      "Test loss: 0.7123169898986816\n",
      "Test accuracy: 0.7441666722297668\n"
     ]
    }
   ],
   "source": [
    "#Accuracy and Loss print\n",
    "score = model.evaluate(X_test_color, y_test_color, verbose=0)\n",
    "print('Best condition:')\n",
    "print('Test loss:', score[0])\n",
    "print('Test accuracy:', score[1])"
   ]
  },
  {
   "cell_type": "markdown",
   "metadata": {},
   "source": [
    "## Confusion Matrix "
   ]
  },
  {
   "cell_type": "code",
   "execution_count": 25,
   "metadata": {
    "execution": {
     "iopub.execute_input": "2021-09-02T17:20:56.721533Z",
     "iopub.status.busy": "2021-09-02T17:20:56.721140Z",
     "iopub.status.idle": "2021-09-02T17:21:12.855797Z",
     "shell.execute_reply": "2021-09-02T17:21:12.854697Z",
     "shell.execute_reply.started": "2021-09-02T17:20:56.721499Z"
    }
   },
   "outputs": [
    {
     "data": {
      "text/plain": [
       "<AxesSubplot:>"
      ]
     },
     "execution_count": 25,
     "metadata": {},
     "output_type": "execute_result"
    },
    {
     "data": {
      "image/png": "[encoded data removed]",
      "text/plain": [
       "<Figure size 432x432 with 2 Axes>"
      ]
     },
     "metadata": {
      "needs_background": "light"
     },
     "output_type": "display_data"
    }
   ],
   "source": [
    "import sklearn.metrics as metrics\n",
    "from sklearn.metrics import classification_report, confusion_matrix\n",
    "import seaborn as sn\n",
    "import pandas as pd\n",
    "import matplotlib.pyplot as plt\n",
    "\n",
    "\n",
    "label = tf.argmax(y_test_color, axis = 1)\n",
    "#prediction1 = model.predict_classes(X_test_color) <-- IF Sequential\n",
    "prediction1 = np.argmax(model.predict(X_test_color),axis=1) # <-- IF NOT Sequential\n",
    "\n",
    "matrix = metrics.confusion_matrix(label, prediction1)\n",
    "\n",
    "\n",
    "# CATEGORIES = \n",
    "\n",
    "df_cm = pd.DataFrame(matrix, index = [i for i in CATEGORIES],\n",
    "                  columns = [i for i in CATEGORIES])\n",
    "plt.figure(figsize = (6,6))\n",
    "sn.heatmap(df_cm, annot=True)"
   ]
  },
  {
   "cell_type": "code",
   "execution_count": 26,
   "metadata": {
    "execution": {
     "iopub.execute_input": "2021-09-02T17:21:18.877952Z",
     "iopub.status.busy": "2021-09-02T17:21:18.877427Z",
     "iopub.status.idle": "2021-09-02T17:21:18.896629Z",
     "shell.execute_reply": "2021-09-02T17:21:18.895456Z",
     "shell.execute_reply.started": "2021-09-02T17:21:18.877916Z"
    }
   },
   "outputs": [
    {
     "name": "stdout",
     "output_type": "stream",
     "text": [
      "Classification Report\n",
      "              precision    recall  f1-score   support\n",
      "\n",
      "        Arab       0.73      0.78      0.75       200\n",
      "     African       0.72      0.81      0.76       200\n",
      "  East_Asian       0.80      0.72      0.76       200\n",
      "   Caucasian       0.91      0.68      0.78       200\n",
      "       ASEAN       0.76      0.79      0.77       200\n",
      " South_Asian       0.61      0.68      0.64       200\n",
      "\n",
      "    accuracy                           0.74      1200\n",
      "   macro avg       0.76      0.74      0.75      1200\n",
      "weighted avg       0.76      0.74      0.75      1200\n",
      "\n"
     ]
    }
   ],
   "source": [
    "from sklearn.metrics import classification_report, confusion_matrix\n",
    "import numpy as np\n",
    "\n",
    "print('Classification Report')\n",
    "#target_names = CATEGORIES\n",
    "print(classification_report(label, prediction1, target_names=CATEGORIES))"
   ]
  },
  {
   "cell_type": "code",
   "execution_count": 27,
   "metadata": {
    "execution": {
     "iopub.execute_input": "2021-09-02T17:21:22.660681Z",
     "iopub.status.busy": "2021-09-02T17:21:22.660281Z",
     "iopub.status.idle": "2021-09-02T17:21:23.152793Z",
     "shell.execute_reply": "2021-09-02T17:21:23.151672Z",
     "shell.execute_reply.started": "2021-09-02T17:21:22.660641Z"
    }
   },
   "outputs": [
    {
     "name": "stdout",
     "output_type": "stream",
     "text": [
      "--Normalized Version of Confusion Matrix--\n"
     ]
    },
    {
     "data": {
      "text/plain": [
       "<AxesSubplot:>"
      ]
     },
     "execution_count": 27,
     "metadata": {},
     "output_type": "execute_result"
    },
    {
     "data": {
      "image/png": "[encoded data removed]",
      "text/plain": [
       "<Figure size 648x648 with 2 Axes>"
      ]
     },
     "metadata": {
      "needs_background": "light"
     },
     "output_type": "display_data"
    }
   ],
   "source": [
    "print('--Normalized Version of Confusion Matrix--')\n",
    "\n",
    "matrix = metrics.confusion_matrix(label, prediction1, normalize='true')\n",
    "\n",
    "df_cm = pd.DataFrame(matrix, index = [i for i in CATEGORIES],\n",
    "                  columns = [i for i in CATEGORIES])\n",
    "plt.figure(figsize = (9,9))\n",
    "sn.heatmap(df_cm, annot=True)\n"
   ]
  },
  {
   "cell_type": "code",
   "execution_count": null,
   "metadata": {},
   "outputs": [],
   "source": []
  },
  {
   "cell_type": "code",
   "execution_count": null,
   "metadata": {},
   "outputs": [],
   "source": []
  },
  {
   "cell_type": "code",
   "execution_count": null,
   "metadata": {},
   "outputs": [],
   "source": []
  },
  {
   "cell_type": "code",
   "execution_count": null,
   "metadata": {},
   "outputs": [],
   "source": []
  },
  {
   "cell_type": "code",
   "execution_count": null,
   "metadata": {},
   "outputs": [],
   "source": []
  },
  {
   "cell_type": "code",
   "execution_count": null,
   "metadata": {},
   "outputs": [],
   "source": []
  }
 ],
 "metadata": {
  "kernelspec": {
   "display_name": "Python 3",
   "language": "python",
   "name": "python3"
  },
  "language_info": {
   "codemirror_mode": {
    "name": "ipython",
    "version": 3
   },
   "file_extension": ".py",
   "mimetype": "text/x-python",
   "name": "python",
   "nbconvert_exporter": "python",
   "pygments_lexer": "ipython3",
   "version": "3.8.8"
  }
 },
 "nbformat": 4,
 "nbformat_minor": 4
}
