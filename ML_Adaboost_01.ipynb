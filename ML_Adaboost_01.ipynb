{
 "cells": [
  {
   "cell_type": "code",
   "execution_count": 1,
   "id": "f6eef2c9",
   "metadata": {},
   "outputs": [],
   "source": [
    "import pandas as pd\n",
    "import matplotlib.pyplot as plt"
   ]
  },
  {
   "cell_type": "code",
   "execution_count": null,
   "id": "b9bc11e3",
   "metadata": {},
   "outputs": [],
   "source": [
    "pwd"
   ]
  },
  {
   "cell_type": "code",
   "execution_count": 2,
   "id": "0698624c",
   "metadata": {},
   "outputs": [],
   "source": [
    "path = './chefboost-master/tests/dataset/adaboost.txt'"
   ]
  },
  {
   "cell_type": "code",
   "execution_count": 3,
   "id": "4af891ed",
   "metadata": {},
   "outputs": [
    {
     "data": {
      "text/html": [
       "<div>\n",
       "<style scoped>\n",
       "    .dataframe tbody tr th:only-of-type {\n",
       "        vertical-align: middle;\n",
       "    }\n",
       "\n",
       "    .dataframe tbody tr th {\n",
       "        vertical-align: top;\n",
       "    }\n",
       "\n",
       "    .dataframe thead th {\n",
       "        text-align: right;\n",
       "    }\n",
       "</style>\n",
       "<table border=\"1\" class=\"dataframe\">\n",
       "  <thead>\n",
       "    <tr style=\"text-align: right;\">\n",
       "      <th></th>\n",
       "      <th>x1</th>\n",
       "      <th>x2</th>\n",
       "      <th>Decision</th>\n",
       "    </tr>\n",
       "  </thead>\n",
       "  <tbody>\n",
       "    <tr>\n",
       "      <th>0</th>\n",
       "      <td>2.0</td>\n",
       "      <td>3.0</td>\n",
       "      <td>1</td>\n",
       "    </tr>\n",
       "    <tr>\n",
       "      <th>1</th>\n",
       "      <td>2.1</td>\n",
       "      <td>2.0</td>\n",
       "      <td>1</td>\n",
       "    </tr>\n",
       "    <tr>\n",
       "      <th>2</th>\n",
       "      <td>4.5</td>\n",
       "      <td>6.0</td>\n",
       "      <td>1</td>\n",
       "    </tr>\n",
       "    <tr>\n",
       "      <th>3</th>\n",
       "      <td>4.0</td>\n",
       "      <td>3.5</td>\n",
       "      <td>-1</td>\n",
       "    </tr>\n",
       "    <tr>\n",
       "      <th>4</th>\n",
       "      <td>3.5</td>\n",
       "      <td>1.0</td>\n",
       "      <td>-1</td>\n",
       "    </tr>\n",
       "  </tbody>\n",
       "</table>\n",
       "</div>"
      ],
      "text/plain": [
       "    x1   x2  Decision\n",
       "0  2.0  3.0         1\n",
       "1  2.1  2.0         1\n",
       "2  4.5  6.0         1\n",
       "3  4.0  3.5        -1\n",
       "4  3.5  1.0        -1"
      ]
     },
     "execution_count": 3,
     "metadata": {},
     "output_type": "execute_result"
    }
   ],
   "source": [
    "df = pd.read_csv(path)\n",
    "df.head()"
   ]
  },
  {
   "cell_type": "code",
   "execution_count": 4,
   "id": "51cca3f9",
   "metadata": {},
   "outputs": [
    {
     "data": {
      "image/png": "[encoded data removed]",
      "text/plain": [
       "<Figure size 432x288 with 1 Axes>"
      ]
     },
     "metadata": {
      "needs_background": "light"
     },
     "output_type": "display_data"
    }
   ],
   "source": [
    "positives = df[df['Decision'] >= 0]\n",
    "negatives = df[df['Decision'] < 0]\n",
    "plt.scatter(positives['x1'],positives['x2'], marker='+',s=500, c='blue')\n",
    "plt.scatter(negatives['x1'],negatives['x2'], marker='_',s=500, c='red')\n",
    "plt.xlabel('x1')\n",
    "plt.ylabel('x2')\n",
    "plt.show()"
   ]
  },
  {
   "cell_type": "code",
   "execution_count": 6,
   "id": "5c11f5df",
   "metadata": {},
   "outputs": [],
   "source": [
    "from chefboost import Chefboost as chef\n",
    "#!pip install chefboost"
   ]
  },
  {
   "cell_type": "code",
   "execution_count": 7,
   "id": "4dd737f3",
   "metadata": {},
   "outputs": [],
   "source": [
    "config = {'enableAdaboost':True, 'num_of_weak_classifier':4}"
   ]
  },
  {
   "cell_type": "code",
   "execution_count": 8,
   "id": "e4138f42",
   "metadata": {},
   "outputs": [
    {
     "name": "stderr",
     "output_type": "stream",
     "text": [
      "\r",
      "Adaboosting:   0%|                                                                               | 0/4 [00:00<?, ?it/s]"
     ]
    },
    {
     "name": "stdout",
     "output_type": "stream",
     "text": [
      "WARNING: You set the algorithm to  ID3  but the Decision column of your data set has non-object type.\n",
      "That's why, the algorithm is set to Regression to handle the data set.\n",
      "Regression  tree is going to be built...\n"
     ]
    },
    {
     "name": "stderr",
     "output_type": "stream",
     "text": [
      "Epoch 4. Loss: 0. Process: : 100%|███████████████████████████████████████████████████████| 4/4 [00:00<00:00,  4.65it/s]"
     ]
    },
    {
     "name": "stdout",
     "output_type": "stream",
     "text": [
      "The best epoch is  3  with the  0.0  MAE score\n",
      "-------------------------\n",
      "finished in  0.8704991340637207  seconds\n",
      "-------------------------\n",
      "Evaluate  train set\n",
      "-------------------------\n",
      "Accuracy:  100.0 % on  10  instances\n",
      "Labels:  ['1' '-1']\n",
      "Confusion matrix:  [[5, 0], [0, 5]]\n",
      "Precision:  100.0 %, Recall:  100.0 %, F1:  100.0 %\n"
     ]
    },
    {
     "name": "stderr",
     "output_type": "stream",
     "text": [
      "\n"
     ]
    }
   ],
   "source": [
    "model = chef.fit(df,config)"
   ]
  },
  {
   "cell_type": "code",
   "execution_count": 11,
   "id": "7772e1bc",
   "metadata": {},
   "outputs": [],
   "source": [
    "import math"
   ]
  },
  {
   "cell_type": "code",
   "execution_count": 13,
   "id": "cc58b6bf",
   "metadata": {},
   "outputs": [],
   "source": [
    "import numpy as np"
   ]
  },
  {
   "cell_type": "code",
   "execution_count": 15,
   "id": "f578d67e",
   "metadata": {},
   "outputs": [
    {
     "data": {
      "text/plain": [
       "0.9969486348916096"
      ]
     },
     "execution_count": 15,
     "metadata": {},
     "output_type": "execute_result"
    }
   ],
   "source": [
    "np.log(2.71)"
   ]
  },
  {
   "cell_type": "code",
   "execution_count": 16,
   "id": "47e93c17",
   "metadata": {},
   "outputs": [
    {
     "data": {
      "text/plain": [
       "0.9969486348916096"
      ]
     },
     "execution_count": 16,
     "metadata": {},
     "output_type": "execute_result"
    }
   ],
   "source": [
    "math.log(2.71)"
   ]
  },
  {
   "cell_type": "code",
   "execution_count": 17,
   "id": "fe7ea027",
   "metadata": {},
   "outputs": [
    {
     "data": {
      "text/plain": [
       "True"
      ]
     },
     "execution_count": 17,
     "metadata": {},
     "output_type": "execute_result"
    }
   ],
   "source": [
    "np.log(2.71) == math.log(2.71)"
   ]
  },
  {
   "cell_type": "code",
   "execution_count": 21,
   "id": "724eb454",
   "metadata": {},
   "outputs": [
    {
     "data": {
      "text/plain": [
       "array([0.99694863, 1.69009582])"
      ]
     },
     "execution_count": 21,
     "metadata": {},
     "output_type": "execute_result"
    }
   ],
   "source": [
    "np.log ([2.71,5.42])"
   ]
  },
  {
   "cell_type": "code",
   "execution_count": 26,
   "id": "5dc65fac",
   "metadata": {},
   "outputs": [
    {
     "name": "stdout",
     "output_type": "stream",
     "text": [
      "0.6931471805599453\n"
     ]
    }
   ],
   "source": [
    "err = 1/5\n",
    "alpha = 0.5*math.log((1-err)/err)\n",
    "print(alpha)"
   ]
  },
  {
   "cell_type": "code",
   "execution_count": 28,
   "id": "ccee8c1b",
   "metadata": {},
   "outputs": [
    {
     "data": {
      "text/plain": [
       "0.6931471805599453"
      ]
     },
     "execution_count": 28,
     "metadata": {},
     "output_type": "execute_result"
    }
   ],
   "source": [
    "1/2*math.log((1-err)/err)"
   ]
  },
  {
   "cell_type": "code",
   "execution_count": 31,
   "id": "778856f6",
   "metadata": {},
   "outputs": [],
   "source": [
    "A = np.array([[0,0,1],[1,0,0],[0,1,0]])"
   ]
  },
  {
   "cell_type": "code",
   "execution_count": 33,
   "id": "d6b0b3cb",
   "metadata": {},
   "outputs": [
    {
     "data": {
      "text/plain": [
       "(3, 3)"
      ]
     },
     "execution_count": 33,
     "metadata": {},
     "output_type": "execute_result"
    }
   ],
   "source": [
    "A.shape"
   ]
  },
  {
   "cell_type": "code",
   "execution_count": 38,
   "id": "735f6fdd",
   "metadata": {},
   "outputs": [],
   "source": [
    "Pie = np.array([[1],[0],[0]])"
   ]
  },
  {
   "cell_type": "code",
   "execution_count": 43,
   "id": "1de17ee5",
   "metadata": {},
   "outputs": [],
   "source": [
    "Pie = np.array([1,0,0])"
   ]
  },
  {
   "cell_type": "code",
   "execution_count": 44,
   "id": "6475ddef",
   "metadata": {},
   "outputs": [
    {
     "data": {
      "text/plain": [
       "(3,)"
      ]
     },
     "execution_count": 44,
     "metadata": {},
     "output_type": "execute_result"
    }
   ],
   "source": [
    "Pie.shape"
   ]
  },
  {
   "cell_type": "code",
   "execution_count": 46,
   "id": "d2fb9cfb",
   "metadata": {},
   "outputs": [],
   "source": [
    "C = np.dot(A,Pie)"
   ]
  },
  {
   "cell_type": "code",
   "execution_count": 47,
   "id": "27633ae5",
   "metadata": {},
   "outputs": [
    {
     "name": "stdout",
     "output_type": "stream",
     "text": [
      "[0 1 0]\n",
      "(3,)\n"
     ]
    }
   ],
   "source": [
    "print(C)\n",
    "print(C.shape)"
   ]
  },
  {
   "cell_type": "code",
   "execution_count": 42,
   "id": "1a39fb10",
   "metadata": {},
   "outputs": [
    {
     "name": "stdout",
     "output_type": "stream",
     "text": [
      "(3, 3)\n",
      "(3, 1)\n"
     ]
    }
   ],
   "source": [
    "print(A.shape)\n",
    "print(Pie.shape)"
   ]
  },
  {
   "cell_type": "code",
   "execution_count": null,
   "id": "88eb349e",
   "metadata": {},
   "outputs": [],
   "source": [
    "D = np.matmul(A,Pie)\n",
    "print(D)\n",
    "print(D.shape)"
   ]
  },
  {
   "cell_type": "markdown",
   "id": "30c5642c",
   "metadata": {},
   "source": [
    "### PCA"
   ]
  },
  {
   "cell_type": "code",
   "execution_count": 49,
   "id": "a926b9f3",
   "metadata": {},
   "outputs": [],
   "source": [
    "# -*- coding: utf-8 -*-\n",
    "import numpy as np\n",
    "import pandas as pd\n",
    "import scipy.linalg as la\n",
    "from sklearn.decomposition import PCA\n",
    "\n",
    "'''\n",
    "Data\n",
    "'''\n",
    "data = np.matrix([[1,2,4],\n",
    "               [4,1,2],\n",
    "               [5,4,8]])\n",
    "\n",
    "df = pd.DataFrame(data)\n",
    "\n"
   ]
  },
  {
   "cell_type": "code",
   "execution_count": 50,
   "id": "06762f36",
   "metadata": {},
   "outputs": [
    {
     "data": {
      "text/html": [
       "<div>\n",
       "<style scoped>\n",
       "    .dataframe tbody tr th:only-of-type {\n",
       "        vertical-align: middle;\n",
       "    }\n",
       "\n",
       "    .dataframe tbody tr th {\n",
       "        vertical-align: top;\n",
       "    }\n",
       "\n",
       "    .dataframe thead th {\n",
       "        text-align: right;\n",
       "    }\n",
       "</style>\n",
       "<table border=\"1\" class=\"dataframe\">\n",
       "  <thead>\n",
       "    <tr style=\"text-align: right;\">\n",
       "      <th></th>\n",
       "      <th>0</th>\n",
       "      <th>1</th>\n",
       "      <th>2</th>\n",
       "    </tr>\n",
       "  </thead>\n",
       "  <tbody>\n",
       "    <tr>\n",
       "      <th>0</th>\n",
       "      <td>1</td>\n",
       "      <td>2</td>\n",
       "      <td>4</td>\n",
       "    </tr>\n",
       "    <tr>\n",
       "      <th>1</th>\n",
       "      <td>4</td>\n",
       "      <td>1</td>\n",
       "      <td>2</td>\n",
       "    </tr>\n",
       "    <tr>\n",
       "      <th>2</th>\n",
       "      <td>5</td>\n",
       "      <td>4</td>\n",
       "      <td>8</td>\n",
       "    </tr>\n",
       "  </tbody>\n",
       "</table>\n",
       "</div>"
      ],
      "text/plain": [
       "   0  1  2\n",
       "0  1  2  4\n",
       "1  4  1  2\n",
       "2  5  4  8"
      ]
     },
     "execution_count": 50,
     "metadata": {},
     "output_type": "execute_result"
    }
   ],
   "source": [
    "df"
   ]
  },
  {
   "cell_type": "code",
   "execution_count": 51,
   "id": "e713b999",
   "metadata": {},
   "outputs": [
    {
     "data": {
      "text/html": [
       "<div>\n",
       "<style scoped>\n",
       "    .dataframe tbody tr th:only-of-type {\n",
       "        vertical-align: middle;\n",
       "    }\n",
       "\n",
       "    .dataframe tbody tr th {\n",
       "        vertical-align: top;\n",
       "    }\n",
       "\n",
       "    .dataframe thead th {\n",
       "        text-align: right;\n",
       "    }\n",
       "</style>\n",
       "<table border=\"1\" class=\"dataframe\">\n",
       "  <thead>\n",
       "    <tr style=\"text-align: right;\">\n",
       "      <th></th>\n",
       "      <th>0</th>\n",
       "      <th>1</th>\n",
       "      <th>2</th>\n",
       "    </tr>\n",
       "  </thead>\n",
       "  <tbody>\n",
       "    <tr>\n",
       "      <th>0</th>\n",
       "      <td>-1.120897</td>\n",
       "      <td>-0.218218</td>\n",
       "      <td>-0.218218</td>\n",
       "    </tr>\n",
       "    <tr>\n",
       "      <th>1</th>\n",
       "      <td>0.320256</td>\n",
       "      <td>-0.872872</td>\n",
       "      <td>-0.872872</td>\n",
       "    </tr>\n",
       "    <tr>\n",
       "      <th>2</th>\n",
       "      <td>0.800641</td>\n",
       "      <td>1.091089</td>\n",
       "      <td>1.091089</td>\n",
       "    </tr>\n",
       "  </tbody>\n",
       "</table>\n",
       "</div>"
      ],
      "text/plain": [
       "          0         1         2\n",
       "0 -1.120897 -0.218218 -0.218218\n",
       "1  0.320256 -0.872872 -0.872872\n",
       "2  0.800641  1.091089  1.091089"
      ]
     },
     "execution_count": 51,
     "metadata": {},
     "output_type": "execute_result"
    }
   ],
   "source": [
    "'''\n",
    "Manual calculation\n",
    "'''\n",
    "\n",
    "# standardize data \n",
    "standardized_data  = (df - df.mean()) / (df.std())\n",
    "\n",
    "standardized_data"
   ]
  },
  {
   "cell_type": "code",
   "execution_count": 52,
   "id": "79532a92",
   "metadata": {},
   "outputs": [
    {
     "name": "stdout",
     "output_type": "stream",
     "text": [
      "Finding covariance\n"
     ]
    },
    {
     "data": {
      "text/plain": [
       "array([[0.66666667, 0.27954262, 0.27954262],\n",
       "       [0.27954262, 0.66666667, 0.66666667],\n",
       "       [0.27954262, 0.66666667, 0.66666667]])"
      ]
     },
     "execution_count": 52,
     "metadata": {},
     "output_type": "execute_result"
    }
   ],
   "source": [
    "# Finding covariance\n",
    "print('Finding covariance')\n",
    "covarance = np.cov(standardized_data.T, bias = 1)\n",
    "\n",
    "covarance"
   ]
  },
  {
   "cell_type": "code",
   "execution_count": 54,
   "id": "16885dcb",
   "metadata": {},
   "outputs": [
    {
     "name": "stdout",
     "output_type": "stream",
     "text": [
      "find eigen value& eigen vector\n",
      "eigenvalue =  [ 1.51710663e+00  4.82893369e-01 -7.55515553e-35]\n",
      "\n",
      "eigenvectors =  [[ 4.21537439e-01  9.06810999e-01  4.63797517e-17]\n",
      " [ 6.41212207e-01 -2.98071982e-01 -7.07106781e-01]\n",
      " [ 6.41212207e-01 -2.98071982e-01  7.07106781e-01]]\n"
     ]
    }
   ],
   "source": [
    "# find eigen value& eigen vector\n",
    "print('find eigen value& eigen vector')\n",
    "eigenvalue, eigenvectors = np.linalg.eig(covarance)\n",
    "\n",
    "print('eigenvalue = ',eigenvalue)\n",
    "print()\n",
    "print('eigenvectors = ',eigenvectors)\n"
   ]
  },
  {
   "cell_type": "code",
   "execution_count": 55,
   "id": "d26c6d9b",
   "metadata": {},
   "outputs": [
    {
     "name": "stdout",
     "output_type": "stream",
     "text": [
      "Find PCA\n",
      "pca_manual:  [[-7.52348033e-01 -8.86352520e-01 -8.32667268e-17]\n",
      " [-9.84391775e-01  8.10769054e-01 -1.11022302e-16]\n",
      " [ 1.73673981e+00  7.55834658e-02  2.22044605e-16]]\n"
     ]
    }
   ],
   "source": [
    "# Find PCA\n",
    "print('Find PCA')\n",
    "n_components = 3\n",
    "\n",
    "pca_manual = np.matmul(np.array(standardized_data),eigenvectors)\n",
    "\n",
    "pca_manual  = pca_manual[:,:n_components]\n",
    "\n",
    "print('pca_manual: ',pca_manual)\n"
   ]
  },
  {
   "cell_type": "code",
   "execution_count": 58,
   "id": "5221a4d4",
   "metadata": {},
   "outputs": [
    {
     "data": {
      "text/plain": [
       "9"
      ]
     },
     "execution_count": 58,
     "metadata": {},
     "output_type": "execute_result"
    }
   ],
   "source": [
    "len(pca_manual[0])*len(pca_manual)"
   ]
  },
  {
   "cell_type": "code",
   "execution_count": 59,
   "id": "112ac546",
   "metadata": {},
   "outputs": [
    {
     "name": "stdout",
     "output_type": "stream",
     "text": [
      "PCA\n",
      "pca_sklearn = [[-7.52348033e-01  8.86352520e-01  3.10894964e-17]\n",
      " [-9.84391775e-01 -8.10769054e-01  3.10894964e-17]\n",
      " [ 1.73673981e+00 -7.55834658e-02  3.10894964e-17]]\n"
     ]
    }
   ],
   "source": [
    "'''\n",
    "calculate using SKlearn\n",
    "'''\n",
    "\n",
    "# PCA\n",
    "print('PCA')\n",
    "pca_sklearn = (PCA(n_components).fit_transform(standardized_data))\n",
    "print('pca_sklearn =',pca_sklearn)\n"
   ]
  },
  {
   "cell_type": "code",
   "execution_count": 60,
   "id": "00396343",
   "metadata": {},
   "outputs": [
    {
     "name": "stdout",
     "output_type": "stream",
     "text": [
      "Standardized data\n",
      "      0     1     2\n",
      "0 -1.12 -0.22 -0.22\n",
      "1  0.32 -0.87 -0.87\n",
      "2  0.80  1.09  1.09\n",
      "\n"
     ]
    }
   ],
   "source": [
    "print('Standardized data')\n",
    "print(standardized_data.round(2))\n",
    "print('')\n",
    "\n"
   ]
  },
  {
   "cell_type": "code",
   "execution_count": 61,
   "id": "19672b31",
   "metadata": {},
   "outputs": [
    {
     "name": "stdout",
     "output_type": "stream",
     "text": [
      "Covariance\n",
      "[[0.67 0.28 0.28]\n",
      " [0.28 0.67 0.67]\n",
      " [0.28 0.67 0.67]]\n",
      "\n"
     ]
    }
   ],
   "source": [
    "print('Covariance')\n",
    "print(covarance.round(2))\n",
    "print('')"
   ]
  },
  {
   "cell_type": "code",
   "execution_count": 62,
   "id": "7d4194e1",
   "metadata": {},
   "outputs": [
    {
     "name": "stdout",
     "output_type": "stream",
     "text": [
      "eigen_value\n",
      "[ 1.5171  0.4829 -0.    ]\n",
      "\n"
     ]
    }
   ],
   "source": [
    "print('eigen_value')\n",
    "print(eigenvalue.round(4))\n",
    "print('')"
   ]
  },
  {
   "cell_type": "code",
   "execution_count": 63,
   "id": "8852d872",
   "metadata": {},
   "outputs": [
    {
     "name": "stdout",
     "output_type": "stream",
     "text": [
      "eigen_vector\n",
      "[[ 0.4215  0.9068  0.    ]\n",
      " [ 0.6412 -0.2981 -0.7071]\n",
      " [ 0.6412 -0.2981  0.7071]]\n",
      "\n"
     ]
    }
   ],
   "source": [
    "print('eigen_vector')\n",
    "print(eigenvectors.round(4))\n",
    "print('')"
   ]
  },
  {
   "cell_type": "code",
   "execution_count": 64,
   "id": "4cbf3e3f",
   "metadata": {},
   "outputs": [
    {
     "name": "stdout",
     "output_type": "stream",
     "text": [
      "PCA manually calculated\n",
      "[[-0.75 -0.89 -0.  ]\n",
      " [-0.98  0.81 -0.  ]\n",
      " [ 1.74  0.08  0.  ]]\n",
      "\n"
     ]
    }
   ],
   "source": [
    "print('PCA manually calculated')\n",
    "print(pca_manual.round(2))\n",
    "print('')"
   ]
  },
  {
   "cell_type": "code",
   "execution_count": 65,
   "id": "2a83fa91",
   "metadata": {},
   "outputs": [
    {
     "name": "stdout",
     "output_type": "stream",
     "text": [
      "PCA - sklearn\n",
      "[[-0.75  0.89  0.  ]\n",
      " [-0.98 -0.81  0.  ]\n",
      " [ 1.74 -0.08  0.  ]]\n"
     ]
    }
   ],
   "source": [
    "print('PCA - sklearn')\n",
    "print(pca_sklearn.round(2))"
   ]
  },
  {
   "cell_type": "markdown",
   "id": "875b11ae",
   "metadata": {},
   "source": [
    "## FA"
   ]
  },
  {
   "cell_type": "code",
   "execution_count": 66,
   "id": "11ace198",
   "metadata": {},
   "outputs": [],
   "source": [
    "#Explanatry\n",
    "\n",
    "import pandas as pd\n",
    "import numpy as np\n",
    "\n",
    "import sklearn\n",
    "from sklearn.decomposition import FactorAnalysis\n",
    "\n",
    "from sklearn import datasets\n"
   ]
  },
  {
   "cell_type": "code",
   "execution_count": 68,
   "id": "83feae0c",
   "metadata": {},
   "outputs": [],
   "source": [
    "#loading iris\n",
    "iris = datasets.load_iris()"
   ]
  },
  {
   "cell_type": "code",
   "execution_count": 70,
   "id": "d37053b0",
   "metadata": {},
   "outputs": [],
   "source": [
    "X = iris.data\n",
    "variable_names = iris.feature_names"
   ]
  },
  {
   "cell_type": "code",
   "execution_count": 71,
   "id": "e3e167c3",
   "metadata": {},
   "outputs": [
    {
     "data": {
      "text/plain": [
       "array([[5.1, 3.5, 1.4, 0.2],\n",
       "       [4.9, 3. , 1.4, 0.2],\n",
       "       [4.7, 3.2, 1.3, 0.2],\n",
       "       [4.6, 3.1, 1.5, 0.2],\n",
       "       [5. , 3.6, 1.4, 0.2],\n",
       "       [5.4, 3.9, 1.7, 0.4],\n",
       "       [4.6, 3.4, 1.4, 0.3],\n",
       "       [5. , 3.4, 1.5, 0.2],\n",
       "       [4.4, 2.9, 1.4, 0.2],\n",
       "       [4.9, 3.1, 1.5, 0.1]])"
      ]
     },
     "execution_count": 71,
     "metadata": {},
     "output_type": "execute_result"
    }
   ],
   "source": [
    "X[0:10,]"
   ]
  },
  {
   "cell_type": "code",
   "execution_count": 73,
   "id": "e7a4e4ab",
   "metadata": {},
   "outputs": [],
   "source": [
    "factor = FactorAnalysis().fit(X)\n"
   ]
  },
  {
   "cell_type": "code",
   "execution_count": 74,
   "id": "8ccec5a7",
   "metadata": {},
   "outputs": [
    {
     "data": {
      "text/plain": [
       "FactorAnalysis()"
      ]
     },
     "execution_count": 74,
     "metadata": {},
     "output_type": "execute_result"
    }
   ],
   "source": [
    "factor"
   ]
  },
  {
   "cell_type": "code",
   "execution_count": 75,
   "id": "c8a82d5f",
   "metadata": {},
   "outputs": [
    {
     "data": {
      "text/html": [
       "<div>\n",
       "<style scoped>\n",
       "    .dataframe tbody tr th:only-of-type {\n",
       "        vertical-align: middle;\n",
       "    }\n",
       "\n",
       "    .dataframe tbody tr th {\n",
       "        vertical-align: top;\n",
       "    }\n",
       "\n",
       "    .dataframe thead th {\n",
       "        text-align: right;\n",
       "    }\n",
       "</style>\n",
       "<table border=\"1\" class=\"dataframe\">\n",
       "  <thead>\n",
       "    <tr style=\"text-align: right;\">\n",
       "      <th></th>\n",
       "      <th>sepal length (cm)</th>\n",
       "      <th>sepal width (cm)</th>\n",
       "      <th>petal length (cm)</th>\n",
       "      <th>petal width (cm)</th>\n",
       "    </tr>\n",
       "  </thead>\n",
       "  <tbody>\n",
       "    <tr>\n",
       "      <th>0</th>\n",
       "      <td>0.706989</td>\n",
       "      <td>-0.158005</td>\n",
       "      <td>1.654236</td>\n",
       "      <td>0.70085</td>\n",
       "    </tr>\n",
       "    <tr>\n",
       "      <th>1</th>\n",
       "      <td>0.115161</td>\n",
       "      <td>0.159635</td>\n",
       "      <td>-0.044321</td>\n",
       "      <td>-0.01403</td>\n",
       "    </tr>\n",
       "    <tr>\n",
       "      <th>2</th>\n",
       "      <td>-0.000000</td>\n",
       "      <td>0.000000</td>\n",
       "      <td>0.000000</td>\n",
       "      <td>0.00000</td>\n",
       "    </tr>\n",
       "    <tr>\n",
       "      <th>3</th>\n",
       "      <td>-0.000000</td>\n",
       "      <td>0.000000</td>\n",
       "      <td>0.000000</td>\n",
       "      <td>-0.00000</td>\n",
       "    </tr>\n",
       "  </tbody>\n",
       "</table>\n",
       "</div>"
      ],
      "text/plain": [
       "   sepal length (cm)  sepal width (cm)  petal length (cm)  petal width (cm)\n",
       "0           0.706989         -0.158005           1.654236           0.70085\n",
       "1           0.115161          0.159635          -0.044321          -0.01403\n",
       "2          -0.000000          0.000000           0.000000           0.00000\n",
       "3          -0.000000          0.000000           0.000000          -0.00000"
      ]
     },
     "execution_count": 75,
     "metadata": {},
     "output_type": "execute_result"
    }
   ],
   "source": [
    "pd.DataFrame(factor.components_, columns = variable_names)"
   ]
  },
  {
   "attachments": {
    "image.png": {
     "image/png": "[encoded data removed]"
    }
   },
   "cell_type": "markdown",
   "id": "95f54139",
   "metadata": {},
   "source": [
    "![image.png](attachment:image.png)"
   ]
  },
  {
   "cell_type": "code",
   "execution_count": 76,
   "id": "c95da2f3",
   "metadata": {},
   "outputs": [
    {
     "data": {
      "text/plain": [
       "'G:\\\\DLCV_Practice'"
      ]
     },
     "execution_count": 76,
     "metadata": {},
     "output_type": "execute_result"
    }
   ],
   "source": [
    "pwd"
   ]
  },
  {
   "cell_type": "code",
   "execution_count": 84,
   "id": "f462c206",
   "metadata": {},
   "outputs": [
    {
     "name": "stdout",
     "output_type": "stream",
     "text": [
      "    x1   x2  Decision\n",
      "0  1.0  2.0         1\n",
      "1  2.0  1.5         1\n",
      "2  1.5  1.0         1\n",
      "3  1.0  1.0        -1\n",
      "4  2.0  1.0        -1\n"
     ]
    }
   ],
   "source": [
    "import pandas as pd\n",
    "import matplotlib.pyplot as plt\n",
    "path = './chefboost-master/tests/dataset/ujian_no_1.txt'\n",
    "df = pd.read_csv(path)\n",
    "print(df)"
   ]
  },
  {
   "cell_type": "code",
   "execution_count": 85,
   "id": "02702b25",
   "metadata": {},
   "outputs": [
    {
     "data": {
      "text/html": [
       "<div>\n",
       "<style scoped>\n",
       "    .dataframe tbody tr th:only-of-type {\n",
       "        vertical-align: middle;\n",
       "    }\n",
       "\n",
       "    .dataframe tbody tr th {\n",
       "        vertical-align: top;\n",
       "    }\n",
       "\n",
       "    .dataframe thead th {\n",
       "        text-align: right;\n",
       "    }\n",
       "</style>\n",
       "<table border=\"1\" class=\"dataframe\">\n",
       "  <thead>\n",
       "    <tr style=\"text-align: right;\">\n",
       "      <th></th>\n",
       "      <th>x1</th>\n",
       "      <th>x2</th>\n",
       "      <th>Decision</th>\n",
       "    </tr>\n",
       "  </thead>\n",
       "  <tbody>\n",
       "    <tr>\n",
       "      <th>0</th>\n",
       "      <td>1.0</td>\n",
       "      <td>2.0</td>\n",
       "      <td>1</td>\n",
       "    </tr>\n",
       "    <tr>\n",
       "      <th>1</th>\n",
       "      <td>2.0</td>\n",
       "      <td>1.5</td>\n",
       "      <td>1</td>\n",
       "    </tr>\n",
       "    <tr>\n",
       "      <th>2</th>\n",
       "      <td>1.5</td>\n",
       "      <td>1.0</td>\n",
       "      <td>1</td>\n",
       "    </tr>\n",
       "    <tr>\n",
       "      <th>3</th>\n",
       "      <td>1.0</td>\n",
       "      <td>1.0</td>\n",
       "      <td>-1</td>\n",
       "    </tr>\n",
       "    <tr>\n",
       "      <th>4</th>\n",
       "      <td>2.0</td>\n",
       "      <td>1.0</td>\n",
       "      <td>-1</td>\n",
       "    </tr>\n",
       "  </tbody>\n",
       "</table>\n",
       "</div>"
      ],
      "text/plain": [
       "    x1   x2  Decision\n",
       "0  1.0  2.0         1\n",
       "1  2.0  1.5         1\n",
       "2  1.5  1.0         1\n",
       "3  1.0  1.0        -1\n",
       "4  2.0  1.0        -1"
      ]
     },
     "execution_count": 85,
     "metadata": {},
     "output_type": "execute_result"
    }
   ],
   "source": [
    "df"
   ]
  },
  {
   "cell_type": "code",
   "execution_count": 86,
   "id": "e3484c88",
   "metadata": {},
   "outputs": [
    {
     "data": {
      "image/png": "[encoded data removed]",
      "text/plain": [
       "<Figure size 432x288 with 1 Axes>"
      ]
     },
     "metadata": {
      "needs_background": "light"
     },
     "output_type": "display_data"
    }
   ],
   "source": [
    "positives = df[df['Decision'] >= 0]\n",
    "negatives = df[df['Decision'] < 0]\n",
    "plt.scatter(positives['x1'],positives['x2'], marker='+',s=500, c='blue')\n",
    "plt.scatter(negatives['x1'],negatives['x2'], marker='_',s=500, c='red')\n",
    "plt.xlabel('x1')\n",
    "plt.ylabel('x2')\n",
    "plt.show()"
   ]
  },
  {
   "cell_type": "code",
   "execution_count": 87,
   "id": "8b94288f",
   "metadata": {},
   "outputs": [
    {
     "name": "stderr",
     "output_type": "stream",
     "text": [
      "\r",
      "Adaboosting:   0%|                                                                               | 0/4 [00:00<?, ?it/s]"
     ]
    },
    {
     "name": "stdout",
     "output_type": "stream",
     "text": [
      "WARNING: You set the algorithm to  ID3  but the Decision column of your data set has non-object type.\n",
      "That's why, the algorithm is set to Regression to handle the data set.\n",
      "Regression  tree is going to be built...\n"
     ]
    },
    {
     "name": "stderr",
     "output_type": "stream",
     "text": [
      "Epoch 4. Loss: 0. Process: : 100%|███████████████████████████████████████████████████████| 4/4 [00:00<00:00,  4.18it/s]"
     ]
    },
    {
     "name": "stdout",
     "output_type": "stream",
     "text": [
      "The best epoch is  0  with the  0.2  MAE score\n",
      "-------------------------\n",
      "finished in  0.9637227058410645  seconds\n",
      "-------------------------\n",
      "Evaluate  train set\n",
      "-------------------------\n",
      "Accuracy:  80.0 % on  5  instances\n",
      "Labels:  ['1' '-1']\n",
      "Confusion matrix:  [[2, 0], [1, 2]]\n",
      "Precision:  100.0 %, Recall:  66.6667 %, F1:  80.0 %\n"
     ]
    },
    {
     "name": "stderr",
     "output_type": "stream",
     "text": [
      "\n"
     ]
    }
   ],
   "source": [
    "config = {'enableAdaboost':True, 'num_of_weak_classifier':4}\n",
    "model = chef.fit(df,config)"
   ]
  },
  {
   "cell_type": "code",
   "execution_count": 89,
   "id": "fb23948b",
   "metadata": {},
   "outputs": [
    {
     "data": {
      "text/plain": [
       "0.9969486348916096"
      ]
     },
     "execution_count": 89,
     "metadata": {},
     "output_type": "execute_result"
    }
   ],
   "source": [
    "math.log(2.71)"
   ]
  },
  {
   "cell_type": "code",
   "execution_count": 90,
   "id": "ad4d6ffa",
   "metadata": {},
   "outputs": [
    {
     "data": {
      "text/plain": [
       "0.2027325540540821"
      ]
     },
     "execution_count": 90,
     "metadata": {},
     "output_type": "execute_result"
    }
   ],
   "source": [
    "err = 0.4\n",
    "0.5*math.log((1-err)/err)"
   ]
  },
  {
   "cell_type": "code",
   "execution_count": null,
   "id": "bc9b2a91",
   "metadata": {},
   "outputs": [],
   "source": []
  }
 ],
 "metadata": {
  "kernelspec": {
   "display_name": "Python 3",
   "language": "python",
   "name": "python3"
  },
  "language_info": {
   "codemirror_mode": {
    "name": "ipython",
    "version": 3
   },
   "file_extension": ".py",
   "mimetype": "text/x-python",
   "name": "python",
   "nbconvert_exporter": "python",
   "pygments_lexer": "ipython3",
   "version": "3.8.8"
  }
 },
 "nbformat": 4,
 "nbformat_minor": 5
}
