{
 "cells": [
  {
   "cell_type": "markdown",
   "metadata": {},
   "source": [
    "# TRAINING with TPU and TRANSFER LEARNING from 11th Model: Resnet"
   ]
  },
  {
   "cell_type": "code",
   "execution_count": 1,
   "metadata": {
    "_cell_guid": "b1076dfc-b9ad-4769-8c92-a6c4dae69d19",
    "_uuid": "8f2839f25d086af736a60e9eeb907d3b93b6e0e5",
    "execution": {
     "iopub.execute_input": "2021-09-02T17:53:35.519742Z",
     "iopub.status.busy": "2021-09-02T17:53:35.519287Z",
     "iopub.status.idle": "2021-09-02T17:53:41.894002Z",
     "shell.execute_reply": "2021-09-02T17:53:41.893176Z",
     "shell.execute_reply.started": "2021-09-02T17:53:35.519648Z"
    }
   },
   "outputs": [
    {
     "name": "stdout",
     "output_type": "stream",
     "text": [
      "Tensorflow version 2.4.1\n"
     ]
    }
   ],
   "source": [
    "import re\n",
    "import tensorflow as tf\n",
    "import tensorflow_hub as hub\n",
    "import numpy as np\n",
    "from matplotlib import pyplot as plt\n",
    "import os\n",
    "import glob\n",
    "from tqdm import tqdm\n",
    "\n",
    "print(\"Tensorflow version \" + tf.__version__)\n",
    "AUTO = tf.data.experimental.AUTOTUNE"
   ]
  },
  {
   "cell_type": "code",
   "execution_count": 2,
   "metadata": {
    "execution": {
     "iopub.execute_input": "2021-09-02T17:54:25.557060Z",
     "iopub.status.busy": "2021-09-02T17:54:25.556417Z",
     "iopub.status.idle": "2021-09-02T17:54:31.477216Z",
     "shell.execute_reply": "2021-09-02T17:54:31.476140Z",
     "shell.execute_reply.started": "2021-09-02T17:54:25.557023Z"
    }
   },
   "outputs": [
    {
     "name": "stdout",
     "output_type": "stream",
     "text": [
      "Number of accelerators:  8\n"
     ]
    }
   ],
   "source": [
    "# NEW on TPU in TensorFlow 24: \n",
    "# shorter cross-compatible TPU/GPU/multi-GPU/\n",
    "# GPU detection code\n",
    "\n",
    "try: # detect TPUs\n",
    "#TPU detection\n",
    "    tpu = tf.distribute.cluster_resolver.TPUClusterResolver.connect()\n",
    "    strategy = tf.distribute.TPUStrategy(tpu)\n",
    "\n",
    "except ValueError: # detect GPUs\n",
    "    strategy = tf.distribute.MirroredStrategy() \n",
    "    #for GPU or multi-GPU machines\n",
    "    \n",
    "    #strategy = tf.distribute.get_strategy() # default strategy that works on\n",
    "    # CPU and single GPU\n",
    "    \n",
    "    #strategy = tf.distribute.experimental.MultiWorkerMirroredStrategy()\n",
    "    # for clusters of multi-GPU machines\n",
    "    \n",
    "print(\"Number of accelerators: \", strategy.num_replicas_in_sync)"
   ]
  },
  {
   "cell_type": "markdown",
   "metadata": {},
   "source": [
    "# Making Ethnicity Model\n",
    "\n",
    "### Loading the Model"
   ]
  },
  {
   "cell_type": "code",
   "execution_count": 3,
   "metadata": {
    "execution": {
     "iopub.execute_input": "2021-09-02T17:55:11.394404Z",
     "iopub.status.busy": "2021-09-02T17:55:11.394031Z",
     "iopub.status.idle": "2021-09-02T17:55:11.399472Z",
     "shell.execute_reply": "2021-09-02T17:55:11.398317Z",
     "shell.execute_reply.started": "2021-09-02T17:55:11.394363Z"
    }
   },
   "outputs": [],
   "source": [
    "from keras.applications import VGG16 as OurModel"
   ]
  },
  {
   "cell_type": "code",
   "execution_count": 4,
   "metadata": {
    "execution": {
     "iopub.execute_input": "2021-09-02T17:55:15.487268Z",
     "iopub.status.busy": "2021-09-02T17:55:15.486917Z",
     "iopub.status.idle": "2021-09-02T17:55:17.822242Z",
     "shell.execute_reply": "2021-09-02T17:55:17.821471Z",
     "shell.execute_reply.started": "2021-09-02T17:55:15.487237Z"
    }
   },
   "outputs": [
    {
     "name": "stdin",
     "output_type": "stream",
     "text": [
      "What is the size of model input? 224\n"
     ]
    }
   ],
   "source": [
    "size_of_input = int(input('What is the size of model input?'))"
   ]
  },
  {
   "cell_type": "markdown",
   "metadata": {},
   "source": [
    "Inspecting Each layer"
   ]
  },
  {
   "cell_type": "markdown",
   "metadata": {},
   "source": [
    "### Let's freeze all layers except the top X"
   ]
  },
  {
   "cell_type": "code",
   "execution_count": 5,
   "metadata": {
    "execution": {
     "iopub.execute_input": "2021-09-02T17:55:32.815840Z",
     "iopub.status.busy": "2021-09-02T17:55:32.815354Z",
     "iopub.status.idle": "2021-09-02T17:55:35.317235Z",
     "shell.execute_reply": "2021-09-02T17:55:35.313211Z",
     "shell.execute_reply.started": "2021-09-02T17:55:32.815807Z"
    }
   },
   "outputs": [
    {
     "name": "stdout",
     "output_type": "stream",
     "text": [
      "Downloading data from https://storage.googleapis.com/tensorflow/keras-applications/vgg16/vgg16_weights_tf_dim_ordering_tf_kernels_notop.h5\n",
      "58892288/58889256 [==============================] - 0s 0us/step\n",
      "0 InputLayer False\n",
      "1 Conv2D False\n",
      "2 Conv2D False\n",
      "3 MaxPooling2D False\n",
      "4 Conv2D False\n",
      "5 Conv2D False\n",
      "6 MaxPooling2D False\n",
      "7 Conv2D False\n",
      "8 Conv2D False\n",
      "9 Conv2D False\n",
      "10 MaxPooling2D False\n",
      "11 Conv2D False\n",
      "12 Conv2D False\n",
      "13 Conv2D False\n",
      "14 MaxPooling2D False\n",
      "15 Conv2D False\n",
      "16 Conv2D False\n",
      "17 Conv2D False\n",
      "18 MaxPooling2D False\n"
     ]
    }
   ],
   "source": [
    "with strategy.scope():\n",
    "    #  was designed to work on 224 x 224 pixel input images sizes\n",
    "    img_rows = size_of_input\n",
    "    img_cols = size_of_input \n",
    "\n",
    "    # Re-loads the model without the top or FC layers\n",
    "    derived_model = OurModel(weights = 'imagenet', \n",
    "                     include_top = False, \n",
    "                     input_shape = (img_rows, img_cols, 3))\n",
    "\n",
    "    # Here we freeze the last 4 layers \n",
    "    # Layers are set to trainable as True by default\n",
    "    for layer in derived_model.layers:\n",
    "        layer.trainable = False\n",
    "    \n",
    "# Let's print our layers \n",
    "for (i,layer) in enumerate(derived_model.layers):\n",
    "    print(str(i) + \" \"+ layer.__class__.__name__, layer.trainable)"
   ]
  },
  {
   "attachments": {
    "13f4ed6d-93f5-4136-9c16-592a854f233a.png": {
     "image/png": "[encoded data removed]"
    }
   },
   "cell_type": "markdown",
   "metadata": {},
   "source": [
    "### Proposed Top Layer (type 2)\n",
    "![image.png](attachment:13f4ed6d-93f5-4136-9c16-592a854f233a.png)"
   ]
  },
  {
   "cell_type": "code",
   "execution_count": 6,
   "metadata": {
    "execution": {
     "iopub.execute_input": "2021-09-02T17:56:09.627229Z",
     "iopub.status.busy": "2021-09-02T17:56:09.626847Z",
     "iopub.status.idle": "2021-09-02T17:56:09.637375Z",
     "shell.execute_reply": "2021-09-02T17:56:09.635544Z",
     "shell.execute_reply.started": "2021-09-02T17:56:09.627190Z"
    }
   },
   "outputs": [],
   "source": [
    "def addTopModelVGG16(bottom_model, num_classes, D=size_of_input):\n",
    "    top_model = bottom_model.output\n",
    "    top_model = Flatten(name = \"flatten\")(top_model)\n",
    "    top_model = Dense(D, activation = \"relu\")(top_model)\n",
    "    top_model = Dropout(0.3)(top_model)\n",
    "    top_model = Dense(num_classes, activation = \"softmax\")(top_model)\n",
    "    return top_model"
   ]
  },
  {
   "cell_type": "markdown",
   "metadata": {},
   "source": [
    "## Let's add our FC Head back"
   ]
  },
  {
   "cell_type": "code",
   "execution_count": 7,
   "metadata": {
    "execution": {
     "iopub.execute_input": "2021-09-02T17:56:13.403676Z",
     "iopub.status.busy": "2021-09-02T17:56:13.403261Z",
     "iopub.status.idle": "2021-09-02T17:56:13.409187Z",
     "shell.execute_reply": "2021-09-02T17:56:13.408304Z",
     "shell.execute_reply.started": "2021-09-02T17:56:13.403637Z"
    }
   },
   "outputs": [],
   "source": [
    "from keras.models import Sequential\n",
    "from keras.layers import Dense, Dropout, Activation, Flatten\n",
    "from keras.layers import Conv2D, MaxPooling2D, ZeroPadding2D\n",
    "from keras.layers.normalization import BatchNormalization\n",
    "from keras.models import Model\n",
    "from keras.optimizers import RMSprop\n",
    "from keras.callbacks import ModelCheckpoint, EarlyStopping\n",
    "from keras.layers import GlobalAveragePooling2D"
   ]
  },
  {
   "cell_type": "code",
   "execution_count": 8,
   "metadata": {
    "execution": {
     "iopub.execute_input": "2021-09-02T17:56:43.815660Z",
     "iopub.status.busy": "2021-09-02T17:56:43.815258Z",
     "iopub.status.idle": "2021-09-02T17:56:46.765537Z",
     "shell.execute_reply": "2021-09-02T17:56:46.764723Z",
     "shell.execute_reply.started": "2021-09-02T17:56:43.815622Z"
    }
   },
   "outputs": [
    {
     "name": "stdin",
     "output_type": "stream",
     "text": [
      "How Many classes? 6\n"
     ]
    },
    {
     "name": "stdout",
     "output_type": "stream",
     "text": [
      "Model: \"model\"\n",
      "_________________________________________________________________\n",
      "Layer (type)                 Output Shape              Param #   \n",
      "=================================================================\n",
      "input_1 (InputLayer)         [(None, 224, 224, 3)]     0         \n",
      "_________________________________________________________________\n",
      "block1_conv1 (Conv2D)        (None, 224, 224, 64)      1792      \n",
      "_________________________________________________________________\n",
      "block1_conv2 (Conv2D)        (None, 224, 224, 64)      36928     \n",
      "_________________________________________________________________\n",
      "block1_pool (MaxPooling2D)   (None, 112, 112, 64)      0         \n",
      "_________________________________________________________________\n",
      "block2_conv1 (Conv2D)        (None, 112, 112, 128)     73856     \n",
      "_________________________________________________________________\n",
      "block2_conv2 (Conv2D)        (None, 112, 112, 128)     147584    \n",
      "_________________________________________________________________\n",
      "block2_pool (MaxPooling2D)   (None, 56, 56, 128)       0         \n",
      "_________________________________________________________________\n",
      "block3_conv1 (Conv2D)        (None, 56, 56, 256)       295168    \n",
      "_________________________________________________________________\n",
      "block3_conv2 (Conv2D)        (None, 56, 56, 256)       590080    \n",
      "_________________________________________________________________\n",
      "block3_conv3 (Conv2D)        (None, 56, 56, 256)       590080    \n",
      "_________________________________________________________________\n",
      "block3_pool (MaxPooling2D)   (None, 28, 28, 256)       0         \n",
      "_________________________________________________________________\n",
      "block4_conv1 (Conv2D)        (None, 28, 28, 512)       1180160   \n",
      "_________________________________________________________________\n",
      "block4_conv2 (Conv2D)        (None, 28, 28, 512)       2359808   \n",
      "_________________________________________________________________\n",
      "block4_conv3 (Conv2D)        (None, 28, 28, 512)       2359808   \n",
      "_________________________________________________________________\n",
      "block4_pool (MaxPooling2D)   (None, 14, 14, 512)       0         \n",
      "_________________________________________________________________\n",
      "block5_conv1 (Conv2D)        (None, 14, 14, 512)       2359808   \n",
      "_________________________________________________________________\n",
      "block5_conv2 (Conv2D)        (None, 14, 14, 512)       2359808   \n",
      "_________________________________________________________________\n",
      "block5_conv3 (Conv2D)        (None, 14, 14, 512)       2359808   \n",
      "_________________________________________________________________\n",
      "block5_pool (MaxPooling2D)   (None, 7, 7, 512)         0         \n",
      "_________________________________________________________________\n",
      "flatten (Flatten)            (None, 25088)             0         \n",
      "_________________________________________________________________\n",
      "dense (Dense)                (None, 224)               5619936   \n",
      "_________________________________________________________________\n",
      "dropout (Dropout)            (None, 224)               0         \n",
      "_________________________________________________________________\n",
      "dense_1 (Dense)              (None, 6)                 1350      \n",
      "=================================================================\n",
      "Total params: 20,335,974\n",
      "Trainable params: 5,621,286\n",
      "Non-trainable params: 14,714,688\n",
      "_________________________________________________________________\n",
      "None\n"
     ]
    }
   ],
   "source": [
    "with strategy.scope():\n",
    "    num_classes = int(input('How Many classes?'))\n",
    "\n",
    "    FC_Head = addTopModelVGG16(derived_model, num_classes)\n",
    "\n",
    "    model = Model(inputs=derived_model.input, outputs=FC_Head)\n",
    "    \n",
    "    checkpoint = ModelCheckpoint(\"./12_SixRace_Woman_VGG16_top2_tpu.h5\",\n",
    "                                 monitor=\"val_loss\",\n",
    "                                 mode=\"min\",\n",
    "                                 save_best_only = True,\n",
    "                                 verbose=1)\n",
    "\n",
    "    earlystop = EarlyStopping(monitor = 'val_loss', \n",
    "                              min_delta = 0, \n",
    "                              patience = 25,\n",
    "                              verbose = 1,\n",
    "                              restore_best_weights = True)\n",
    "\n",
    "    # we put our call backs into a callback list\n",
    "    callbacks = [earlystop, checkpoint]\n",
    "    \n",
    "    # Note we use a very small learning rate \n",
    "    model.compile(loss = 'categorical_crossentropy',\n",
    "                  optimizer = RMSprop(lr = 0.001),\n",
    "                  metrics = ['accuracy'])\n",
    "\n",
    "print(model.summary())"
   ]
  },
  {
   "cell_type": "code",
   "execution_count": null,
   "metadata": {},
   "outputs": [],
   "source": [
    "from keras.utils.vis_utils import plot_model\n",
    "#model\n",
    "plot_model(model, to_file='ethnicity_mmix_gmix_Mobnet_topv1.png', show_shapes=True, show_layer_names=True)"
   ]
  },
  {
   "cell_type": "markdown",
   "metadata": {},
   "source": [
    "## Load Dataset"
   ]
  },
  {
   "cell_type": "code",
   "execution_count": 9,
   "metadata": {
    "execution": {
     "iopub.execute_input": "2021-09-02T17:57:07.518996Z",
     "iopub.status.busy": "2021-09-02T17:57:07.518605Z",
     "iopub.status.idle": "2021-09-02T17:58:00.829662Z",
     "shell.execute_reply": "2021-09-02T17:58:00.828660Z",
     "shell.execute_reply.started": "2021-09-02T17:57:07.518963Z"
    }
   },
   "outputs": [
    {
     "name": "stderr",
     "output_type": "stream",
     "text": [
      "  0%|          | 0/6 [00:00<?, ?it/s]"
     ]
    },
    {
     "name": "stdout",
     "output_type": "stream",
     "text": [
      "Loading...\n"
     ]
    },
    {
     "name": "stderr",
     "output_type": "stream",
     "text": [
      "100%|██████████| 6/6 [00:53<00:00,  8.85s/it]"
     ]
    },
    {
     "name": "stdout",
     "output_type": "stream",
     "text": [
      "Training Data And Labels Are Built!!\n"
     ]
    },
    {
     "name": "stderr",
     "output_type": "stream",
     "text": [
      "\n"
     ]
    }
   ],
   "source": [
    "import numpy as np\n",
    "import matplotlib.pyplot as plt\n",
    "import os\n",
    "import cv2\n",
    "import random\n",
    "\n",
    "DATADIR = '../input/ds-race-mixmask-gensep/Female_Train/'\n",
    "path_folder = glob.glob(str(DATADIR)+'*')\n",
    "\n",
    "CATEGORIES = []\n",
    "\n",
    "for content in path_folder:\n",
    "    CATEGORIES.append(content.split('/')[-1])\n",
    "\n",
    "IMG_SIZE = size_of_input\n",
    "\n",
    "training_data_color = []\n",
    "class_index = []\n",
    "\n",
    "def build_training_data():\n",
    "    #count = 0\n",
    "    for category in tqdm(CATEGORIES):\n",
    "        path = os.path.join (DATADIR, category) # path to each\n",
    "        class_num = CATEGORIES.index(category)\n",
    "        class_index.append(class_num)\n",
    "        for img in os.listdir(path):\n",
    "            try:\n",
    "                img_array = cv2.imread (os.path.join(path,img))\n",
    "                new_array = cv2.resize (img_array, (IMG_SIZE,IMG_SIZE))\n",
    "                training_data_color.append([new_array,class_num])\n",
    "                \n",
    "                #if (count %600 == 0):\n",
    "                #    print('PROGRESS:',round(100*count/6000,2),'%')\n",
    "                #count +=1\n",
    "                \n",
    "            except Exception as e:\n",
    "                count +=1\n",
    "                pass\n",
    "\n",
    "print('Loading...')\n",
    "build_training_data()\n",
    "print('Training Data And Labels Are Built!!')"
   ]
  },
  {
   "cell_type": "code",
   "execution_count": 10,
   "metadata": {
    "execution": {
     "iopub.execute_input": "2021-09-02T17:58:05.711546Z",
     "iopub.status.busy": "2021-09-02T17:58:05.711144Z",
     "iopub.status.idle": "2021-09-02T17:58:05.725123Z",
     "shell.execute_reply": "2021-09-02T17:58:05.723935Z",
     "shell.execute_reply.started": "2021-09-02T17:58:05.711511Z"
    }
   },
   "outputs": [
    {
     "name": "stdout",
     "output_type": "stream",
     "text": [
      "True\n"
     ]
    }
   ],
   "source": [
    "a = os.listdir('../input/ds-race-mixmask-gensep/Female_Test')\n",
    "b = os.listdir('../input/ds-race-mixmask-gensep/Female_Train')\n",
    "print(a==b)"
   ]
  },
  {
   "cell_type": "code",
   "execution_count": 11,
   "metadata": {
    "execution": {
     "iopub.execute_input": "2021-09-02T17:58:08.037847Z",
     "iopub.status.busy": "2021-09-02T17:58:08.037452Z",
     "iopub.status.idle": "2021-09-02T17:58:08.044926Z",
     "shell.execute_reply": "2021-09-02T17:58:08.043676Z",
     "shell.execute_reply.started": "2021-09-02T17:58:08.037810Z"
    }
   },
   "outputs": [
    {
     "name": "stdout",
     "output_type": "stream",
     "text": [
      "['Arab', 'African', 'East_Asian', 'Caucasian', 'ASEAN', 'South_Asian']\n",
      "[0, 1, 2, 3, 4, 5]\n",
      "0\n",
      "1\n",
      "2\n",
      "3\n",
      "4\n",
      "5\n"
     ]
    }
   ],
   "source": [
    "print(CATEGORIES)\n",
    "print(class_index)\n",
    "\n",
    "for kk in CATEGORIES:\n",
    "    print(CATEGORIES.index(kk))"
   ]
  },
  {
   "cell_type": "code",
   "execution_count": 12,
   "metadata": {
    "execution": {
     "iopub.execute_input": "2021-09-02T17:58:11.398701Z",
     "iopub.status.busy": "2021-09-02T17:58:11.398329Z",
     "iopub.status.idle": "2021-09-02T17:58:11.596544Z",
     "shell.execute_reply": "2021-09-02T17:58:11.595438Z",
     "shell.execute_reply.started": "2021-09-02T17:58:11.398667Z"
    }
   },
   "outputs": [
    {
     "name": "stdout",
     "output_type": "stream",
     "text": [
      "1. Shuffling The Training Data\n",
      "2. Separate Features and Labels\n",
      "3. Convert Them into np.array\n",
      "4. Check their size/shape\n",
      "(3000, 224, 224, 3)\n",
      "(3000,)\n"
     ]
    }
   ],
   "source": [
    "#Shuffle\n",
    "print('1. Shuffling The Training Data')\n",
    "random.shuffle (training_data_color)\n",
    "\n",
    "print('2. Separate Features and Labels')\n",
    "X_train_color = []\n",
    "y_train_color = []\n",
    "\n",
    "for features, labels in training_data_color:\n",
    "    X_train_color.append(features)\n",
    "    y_train_color.append (labels)\n",
    "    \n",
    "print('3. Convert Them into np.array')\n",
    "X_train_color = np.array (X_train_color)\n",
    "y_train_color = np.array (y_train_color)\n",
    "print('4. Check their size/shape')\n",
    "print (X_train_color.shape)\n",
    "print (y_train_color.shape)"
   ]
  },
  {
   "cell_type": "markdown",
   "metadata": {},
   "source": [
    "#### Load Testing Dataset"
   ]
  },
  {
   "cell_type": "code",
   "execution_count": 13,
   "metadata": {
    "execution": {
     "iopub.execute_input": "2021-09-02T17:58:13.886485Z",
     "iopub.status.busy": "2021-09-02T17:58:13.886137Z",
     "iopub.status.idle": "2021-09-02T17:58:29.972164Z",
     "shell.execute_reply": "2021-09-02T17:58:29.971334Z",
     "shell.execute_reply.started": "2021-09-02T17:58:13.886454Z"
    }
   },
   "outputs": [
    {
     "name": "stderr",
     "output_type": "stream",
     "text": [
      "100%|██████████| 6/6 [00:16<00:00,  2.68s/it]"
     ]
    },
    {
     "name": "stdout",
     "output_type": "stream",
     "text": [
      "Testing Data And Labels Are Built!!\n"
     ]
    },
    {
     "name": "stderr",
     "output_type": "stream",
     "text": [
      "\n"
     ]
    }
   ],
   "source": [
    "#create test dataset for colored images\n",
    "#print('--Loading testing Dataset--')\n",
    "#print('...wait...')\n",
    "import numpy as np\n",
    "import matplotlib.pyplot as plt\n",
    "import os\n",
    "import cv2\n",
    "import random\n",
    "\n",
    "DATADIR = '../input/ds-race-mixmask-gensep/Female_Test/'\n",
    "\n",
    "testing_data_color = []\n",
    "\n",
    "def build_testing_data():\n",
    "    for category in tqdm(CATEGORIES):\n",
    "        path = os.path.join (DATADIR, category) # path to each\n",
    "        class_num = CATEGORIES.index(category)\n",
    "        for img in os.listdir(path):\n",
    "            try:\n",
    "                img_array = cv2.imread (os.path.join(path,img))\n",
    "                new_array = cv2.resize (img_array, (IMG_SIZE,IMG_SIZE))\n",
    "                testing_data_color.append([new_array,class_num])\n",
    "            except Exception as e:\n",
    "                pass\n",
    "\n",
    "build_testing_data()\n",
    "print('Testing Data And Labels Are Built!!')"
   ]
  },
  {
   "cell_type": "code",
   "execution_count": 14,
   "metadata": {
    "execution": {
     "iopub.execute_input": "2021-09-02T17:58:42.604004Z",
     "iopub.status.busy": "2021-09-02T17:58:42.603579Z",
     "iopub.status.idle": "2021-09-02T17:58:42.615193Z",
     "shell.execute_reply": "2021-09-02T17:58:42.614041Z",
     "shell.execute_reply.started": "2021-09-02T17:58:42.603972Z"
    }
   },
   "outputs": [
    {
     "name": "stdout",
     "output_type": "stream",
     "text": [
      "['Arab', 'African', 'East_Asian', 'Caucasian', 'ASEAN', 'South_Asian']\n",
      "['Arab', 'African', 'East_Asian', 'Caucasian', 'ASEAN', 'South_Asian']\n",
      "0\n",
      "1\n",
      "2\n",
      "3\n",
      "4\n",
      "5\n"
     ]
    }
   ],
   "source": [
    "print(CATEGORIES)\n",
    "print(os.listdir(DATADIR))\n",
    "\n",
    "for kk in CATEGORIES:\n",
    "    print(CATEGORIES.index(kk))"
   ]
  },
  {
   "cell_type": "code",
   "execution_count": 15,
   "metadata": {
    "execution": {
     "iopub.execute_input": "2021-09-02T17:58:46.862737Z",
     "iopub.status.busy": "2021-09-02T17:58:46.862372Z",
     "iopub.status.idle": "2021-09-02T17:58:46.951840Z",
     "shell.execute_reply": "2021-09-02T17:58:46.950631Z",
     "shell.execute_reply.started": "2021-09-02T17:58:46.862704Z"
    }
   },
   "outputs": [
    {
     "name": "stdout",
     "output_type": "stream",
     "text": [
      "0. Overview of Testing Dataset:  1200\n",
      "1. Shuffled\n",
      "2. Testing Labels and Features Separated\n",
      "3. Each Testing Labels and Features Are converted into np.array\n",
      "4. Overview after type conversion:\n",
      "(1200, 224, 224, 3)\n",
      "(1200,)\n"
     ]
    }
   ],
   "source": [
    "print('0. Overview of Testing Dataset: ',len(testing_data_color))\n",
    "random.shuffle(testing_data_color)\n",
    "print('1. Shuffled')\n",
    "X_test_color = [] #feature set\n",
    "y_test_color = [] # label\n",
    "\n",
    "for features, labels in testing_data_color:\n",
    "    X_test_color.append(features)\n",
    "    y_test_color.append (labels)\n",
    "    \n",
    "print('2. Testing Labels and Features Separated')\n",
    "\n",
    "X_test_color = np.array(X_test_color)\n",
    "y_test_color = np.array(y_test_color)\n",
    "\n",
    "print('3. Each Testing Labels and Features Are converted into np.array')\n",
    "\n",
    "print('4. Overview after type conversion:')\n",
    "print (X_test_color.shape)\n",
    "print (y_test_color.shape)"
   ]
  },
  {
   "cell_type": "markdown",
   "metadata": {},
   "source": [
    "## Step 2A: Examine the size and image dimenions\n",
    "\n",
    "- Check the number of samples, dimenions and whether images are color or grayscale\n",
    "- We see that our training data consist of 1200 samples of training data, 216 samples of test data\n",
    "- Our labels are appropriately sized as well\n",
    "- Our Image dimenions are 224 x 224, with 3 color channels (i.e. they are BGR, so not grayscale channel)"
   ]
  },
  {
   "cell_type": "code",
   "execution_count": 16,
   "metadata": {
    "execution": {
     "iopub.execute_input": "2021-09-02T17:58:51.978076Z",
     "iopub.status.busy": "2021-09-02T17:58:51.977732Z",
     "iopub.status.idle": "2021-09-02T17:58:51.987431Z",
     "shell.execute_reply": "2021-09-02T17:58:51.986372Z",
     "shell.execute_reply.started": "2021-09-02T17:58:51.978047Z"
    }
   },
   "outputs": [
    {
     "name": "stdout",
     "output_type": "stream",
     "text": [
      "Initial shape or dimensions of x_train (3000, 224, 224, 3)\n",
      "Number of samples in our training data: 3000\n",
      "Number of labels in our training data: 3000\n",
      "Number of samples in our test data: 1200\n",
      "Number of labels in our test data: 1200\n",
      "\n",
      "Dimensions of x_train:(224, 224, 3)\n",
      "Labels in x_train:(3000,)\n",
      "\n",
      "Dimensions of x_test:(224, 224, 3)\n",
      "Labels in y_test:(1200,)\n"
     ]
    }
   ],
   "source": [
    "# printing the number of samples in x_train, x_test, y_train, y_test\n",
    "print(\"Initial shape or dimensions of x_train\", str(X_train_color.shape))\n",
    "\n",
    "print (\"Number of samples in our training data: \" + str(len(X_train_color)))\n",
    "print (\"Number of labels in our training data: \" + str(len(y_train_color)))\n",
    "print (\"Number of samples in our test data: \" + str(len(X_test_color)))\n",
    "print (\"Number of labels in our test data: \" + str(len(y_test_color)))\n",
    "print()\n",
    "print (\"Dimensions of x_train:\" + str(X_train_color[0].shape))\n",
    "print (\"Labels in x_train:\" + str(y_train_color.shape))\n",
    "print()\n",
    "print (\"Dimensions of x_test:\" + str(X_test_color[0].shape))\n",
    "print (\"Labels in y_test:\" + str(y_test_color.shape))"
   ]
  },
  {
   "cell_type": "markdown",
   "metadata": {},
   "source": [
    "### Step 2B - Let's take a look at some of images in this dataset\n",
    "- Using OpenCV\n",
    "- Using Matplotlib"
   ]
  },
  {
   "cell_type": "code",
   "execution_count": 17,
   "metadata": {
    "execution": {
     "iopub.execute_input": "2021-09-02T17:58:57.061197Z",
     "iopub.status.busy": "2021-09-02T17:58:57.060853Z",
     "iopub.status.idle": "2021-09-02T17:58:57.607513Z",
     "shell.execute_reply": "2021-09-02T17:58:57.606791Z",
     "shell.execute_reply.started": "2021-09-02T17:58:57.061167Z"
    }
   },
   "outputs": [
    {
     "data": {
      "image/png": "[encoded data removed]",
      "text/plain": [
       "<Figure size 432x288 with 6 Axes>"
      ]
     },
     "metadata": {
      "needs_background": "light"
     },
     "output_type": "display_data"
    }
   ],
   "source": [
    "# importing matplot lib\n",
    "import matplotlib.pyplot as plt\n",
    "\n",
    "# Plots 6 images, note subplot's arugments are nrows,ncols,index\n",
    "# we set the color map to grey since our image dataset is grayscale\n",
    "plt.subplot(331)\n",
    "random_num = np.random.randint(0,len(X_train_color))\n",
    "plt.imshow(X_train_color[random_num], cmap=plt.get_cmap('gray'))\n",
    "\n",
    "plt.subplot(332)\n",
    "random_num = np.random.randint(0,len(X_train_color))\n",
    "plt.imshow(X_train_color[random_num], cmap=plt.get_cmap('gray'))\n",
    "\n",
    "plt.subplot(333)\n",
    "random_num = np.random.randint(0,len(X_train_color))\n",
    "plt.imshow(X_train_color[random_num], cmap=plt.get_cmap('gray'))\n",
    "\n",
    "plt.subplot(334)\n",
    "random_num = np.random.randint(0,len(X_train_color))\n",
    "plt.imshow(X_train_color[random_num], cmap=plt.get_cmap('gray'))\n",
    "\n",
    "plt.subplot(335)\n",
    "random_num = np.random.randint(0,len(X_train_color))\n",
    "plt.imshow(X_train_color[random_num], cmap=plt.get_cmap('gray'))\n",
    "\n",
    "plt.subplot(336)\n",
    "random_num = np.random.randint(0,len(X_train_color))\n",
    "plt.imshow(X_train_color[random_num], cmap=plt.get_cmap('gray'))\n",
    "\n",
    "# Display out plots\n",
    "plt.show()"
   ]
  },
  {
   "cell_type": "markdown",
   "metadata": {},
   "source": [
    "### Convert X_train and X_test into Keras format and shape"
   ]
  },
  {
   "cell_type": "code",
   "execution_count": 18,
   "metadata": {
    "execution": {
     "iopub.execute_input": "2021-09-02T17:59:01.545739Z",
     "iopub.status.busy": "2021-09-02T17:59:01.545239Z",
     "iopub.status.idle": "2021-09-02T17:59:02.623956Z",
     "shell.execute_reply": "2021-09-02T17:59:02.622931Z",
     "shell.execute_reply.started": "2021-09-02T17:59:01.545708Z"
    }
   },
   "outputs": [
    {
     "name": "stdout",
     "output_type": "stream",
     "text": [
      "X_train_color shape: (3000, 224, 224, 3)\n",
      "3000 train samples\n",
      "1200 test samples\n"
     ]
    }
   ],
   "source": [
    "# Lets store the number of rows and columns\n",
    "img_rows = X_train_color[0].shape[0]\n",
    "img_cols = X_train_color[0].shape[1]\n",
    "\n",
    "# Getting our date in the right 'shape' needed for Keras\n",
    "# We need to add a 4th dimenion to our date thereby changing our\n",
    "# Our original image shape of (60000,28,28) to (60000,28,28,1)\n",
    "X_train_color = X_train_color.reshape(X_train_color.shape[0], img_rows, img_cols, 3)\n",
    "X_test_color = X_test_color.reshape(X_test_color.shape[0], img_rows, img_cols, 3)\n",
    "\n",
    "# store the shape of a single image \n",
    "input_shape = (img_rows, img_cols, 3)\n",
    "\n",
    "# change our image type to float32 data type\n",
    "X_train_color = X_train_color.astype('float32')\n",
    "X_test_color = X_test_color.astype('float32')\n",
    "\n",
    "# Normalize our data by changing the range from (0 to 255) to (0 to 1)\n",
    "X_train_color /= 255\n",
    "X_test_color /= 255\n",
    "\n",
    "print('X_train_color shape:', X_train_color.shape)\n",
    "print(X_train_color.shape[0], 'train samples')\n",
    "print(X_test_color.shape[0], 'test samples')\n"
   ]
  },
  {
   "cell_type": "markdown",
   "metadata": {},
   "source": [
    "## One-hot encode the labels of both train and test dataset"
   ]
  },
  {
   "cell_type": "code",
   "execution_count": 19,
   "metadata": {
    "execution": {
     "iopub.execute_input": "2021-09-02T17:59:06.182869Z",
     "iopub.status.busy": "2021-09-02T17:59:06.182466Z",
     "iopub.status.idle": "2021-09-02T17:59:06.190768Z",
     "shell.execute_reply": "2021-09-02T17:59:06.189863Z",
     "shell.execute_reply.started": "2021-09-02T17:59:06.182833Z"
    }
   },
   "outputs": [
    {
     "name": "stdout",
     "output_type": "stream",
     "text": [
      "Number of Classes: 6\n"
     ]
    }
   ],
   "source": [
    "import tensorflow as tf\n",
    "from tensorflow import keras \n",
    "from keras.utils import np_utils\n",
    "\n",
    "# Now we one hot encode outputs\n",
    "y_train_color = np_utils.to_categorical(y_train_color)\n",
    "y_test_color = np_utils.to_categorical(y_test_color)\n",
    "\n",
    "# Let's count the number columns in our hot encoded matrix \n",
    "print (\"Number of Classes: \" + str(y_test_color.shape[1]))\n",
    "\n",
    "num_classes = y_test_color.shape[1]\n",
    "num_pixels = X_train_color.shape[1] * X_train_color.shape[2]"
   ]
  },
  {
   "cell_type": "markdown",
   "metadata": {},
   "source": [
    "## THEN TRAINING"
   ]
  },
  {
   "cell_type": "code",
   "execution_count": 20,
   "metadata": {
    "execution": {
     "iopub.execute_input": "2021-09-02T17:59:10.142129Z",
     "iopub.status.busy": "2021-09-02T17:59:10.141742Z",
     "iopub.status.idle": "2021-09-02T18:01:18.919875Z",
     "shell.execute_reply": "2021-09-02T18:01:18.918810Z",
     "shell.execute_reply.started": "2021-09-02T17:59:10.142094Z"
    }
   },
   "outputs": [
    {
     "name": "stdout",
     "output_type": "stream",
     "text": [
      "Training started, with epoch plan:  500\n",
      "........wait until finish........\n",
      "Epoch 1/500\n",
      "23/23 [==============================] - 32s 1s/step - loss: 10.2148 - accuracy: 0.2227 - val_loss: 1.6027 - val_accuracy: 0.3825\n",
      "\n",
      "Epoch 00001: val_loss improved from inf to 1.60268, saving model to ./12_SixRace_Woman_VGG16_top2_tpu.h5\n",
      "Epoch 2/500\n",
      "23/23 [==============================] - 2s 80ms/step - loss: 1.7661 - accuracy: 0.3375 - val_loss: 1.2577 - val_accuracy: 0.5517\n",
      "\n",
      "Epoch 00002: val_loss improved from 1.60268 to 1.25773, saving model to ./12_SixRace_Woman_VGG16_top2_tpu.h5\n",
      "Epoch 3/500\n",
      "23/23 [==============================] - 2s 87ms/step - loss: 1.3468 - accuracy: 0.4976 - val_loss: 1.3004 - val_accuracy: 0.4767\n",
      "\n",
      "Epoch 00003: val_loss did not improve from 1.25773\n",
      "Epoch 4/500\n",
      "23/23 [==============================] - 2s 74ms/step - loss: 1.1786 - accuracy: 0.5464 - val_loss: 1.1668 - val_accuracy: 0.5475\n",
      "\n",
      "Epoch 00004: val_loss improved from 1.25773 to 1.16677, saving model to ./12_SixRace_Woman_VGG16_top2_tpu.h5\n",
      "Epoch 5/500\n",
      "23/23 [==============================] - 2s 75ms/step - loss: 1.0209 - accuracy: 0.6119 - val_loss: 1.2564 - val_accuracy: 0.5142\n",
      "\n",
      "Epoch 00005: val_loss did not improve from 1.16677\n",
      "Epoch 6/500\n",
      "23/23 [==============================] - 2s 73ms/step - loss: 0.9548 - accuracy: 0.6410 - val_loss: 0.9061 - val_accuracy: 0.6758\n",
      "\n",
      "Epoch 00006: val_loss improved from 1.16677 to 0.90608, saving model to ./12_SixRace_Woman_VGG16_top2_tpu.h5\n",
      "Epoch 7/500\n",
      "23/23 [==============================] - 2s 75ms/step - loss: 0.8266 - accuracy: 0.7051 - val_loss: 1.1633 - val_accuracy: 0.5750\n",
      "\n",
      "Epoch 00007: val_loss did not improve from 0.90608\n",
      "Epoch 8/500\n",
      "23/23 [==============================] - 2s 74ms/step - loss: 0.8209 - accuracy: 0.6971 - val_loss: 1.0269 - val_accuracy: 0.5858\n",
      "\n",
      "Epoch 00008: val_loss did not improve from 0.90608\n",
      "Epoch 9/500\n",
      "23/23 [==============================] - 2s 74ms/step - loss: 0.6890 - accuracy: 0.7552 - val_loss: 0.7930 - val_accuracy: 0.6892\n",
      "\n",
      "Epoch 00009: val_loss improved from 0.90608 to 0.79297, saving model to ./12_SixRace_Woman_VGG16_top2_tpu.h5\n",
      "Epoch 10/500\n",
      "23/23 [==============================] - 2s 73ms/step - loss: 0.6008 - accuracy: 0.7795 - val_loss: 1.1959 - val_accuracy: 0.5683\n",
      "\n",
      "Epoch 00010: val_loss did not improve from 0.79297\n",
      "Epoch 11/500\n",
      "23/23 [==============================] - 2s 73ms/step - loss: 0.6856 - accuracy: 0.7494 - val_loss: 1.1412 - val_accuracy: 0.6092\n",
      "\n",
      "Epoch 00011: val_loss did not improve from 0.79297\n",
      "Epoch 12/500\n",
      "23/23 [==============================] - 2s 73ms/step - loss: 0.5671 - accuracy: 0.7916 - val_loss: 0.8605 - val_accuracy: 0.7092\n",
      "\n",
      "Epoch 00012: val_loss did not improve from 0.79297\n",
      "Epoch 13/500\n",
      "23/23 [==============================] - 2s 73ms/step - loss: 0.5031 - accuracy: 0.8088 - val_loss: 0.8860 - val_accuracy: 0.6600\n",
      "\n",
      "Epoch 00013: val_loss did not improve from 0.79297\n",
      "Epoch 14/500\n",
      "23/23 [==============================] - 2s 72ms/step - loss: 0.4332 - accuracy: 0.8412 - val_loss: 0.8827 - val_accuracy: 0.6767\n",
      "\n",
      "Epoch 00014: val_loss did not improve from 0.79297\n",
      "Epoch 15/500\n",
      "23/23 [==============================] - 2s 73ms/step - loss: 0.4861 - accuracy: 0.8250 - val_loss: 0.9140 - val_accuracy: 0.6875\n",
      "\n",
      "Epoch 00015: val_loss did not improve from 0.79297\n",
      "Epoch 16/500\n",
      "23/23 [==============================] - 2s 73ms/step - loss: 0.3618 - accuracy: 0.8681 - val_loss: 0.9187 - val_accuracy: 0.7150\n",
      "\n",
      "Epoch 00016: val_loss did not improve from 0.79297\n",
      "Epoch 17/500\n",
      "23/23 [==============================] - 2s 74ms/step - loss: 0.3987 - accuracy: 0.8609 - val_loss: 0.8387 - val_accuracy: 0.6892\n",
      "\n",
      "Epoch 00017: val_loss did not improve from 0.79297\n",
      "Epoch 18/500\n",
      "23/23 [==============================] - 2s 73ms/step - loss: 0.3020 - accuracy: 0.8869 - val_loss: 1.0108 - val_accuracy: 0.6500\n",
      "\n",
      "Epoch 00018: val_loss did not improve from 0.79297\n",
      "Epoch 19/500\n",
      "23/23 [==============================] - 2s 72ms/step - loss: 0.3370 - accuracy: 0.8776 - val_loss: 0.7539 - val_accuracy: 0.7258\n",
      "\n",
      "Epoch 00019: val_loss improved from 0.79297 to 0.75392, saving model to ./12_SixRace_Woman_VGG16_top2_tpu.h5\n",
      "Epoch 20/500\n",
      "23/23 [==============================] - 2s 74ms/step - loss: 0.2876 - accuracy: 0.8962 - val_loss: 0.7534 - val_accuracy: 0.7517\n",
      "\n",
      "Epoch 00020: val_loss improved from 0.75392 to 0.75341, saving model to ./12_SixRace_Woman_VGG16_top2_tpu.h5\n",
      "Epoch 21/500\n",
      "23/23 [==============================] - 2s 74ms/step - loss: 0.2849 - accuracy: 0.8972 - val_loss: 0.8178 - val_accuracy: 0.7442\n",
      "\n",
      "Epoch 00021: val_loss did not improve from 0.75341\n",
      "Epoch 22/500\n",
      "23/23 [==============================] - 2s 74ms/step - loss: 0.3973 - accuracy: 0.8753 - val_loss: 0.7928 - val_accuracy: 0.7308\n",
      "\n",
      "Epoch 00022: val_loss did not improve from 0.75341\n",
      "Epoch 23/500\n",
      "23/23 [==============================] - 2s 72ms/step - loss: 0.2634 - accuracy: 0.9069 - val_loss: 0.7697 - val_accuracy: 0.7475\n",
      "\n",
      "Epoch 00023: val_loss did not improve from 0.75341\n",
      "Epoch 24/500\n",
      "23/23 [==============================] - 2s 90ms/step - loss: 0.2184 - accuracy: 0.9253 - val_loss: 0.7082 - val_accuracy: 0.7733\n",
      "\n",
      "Epoch 00024: val_loss improved from 0.75341 to 0.70816, saving model to ./12_SixRace_Woman_VGG16_top2_tpu.h5\n",
      "Epoch 25/500\n",
      "23/23 [==============================] - 2s 75ms/step - loss: 0.1378 - accuracy: 0.9603 - val_loss: 1.2279 - val_accuracy: 0.6333\n",
      "\n",
      "Epoch 00025: val_loss did not improve from 0.70816\n",
      "Epoch 26/500\n",
      "23/23 [==============================] - 2s 73ms/step - loss: 0.2429 - accuracy: 0.9137 - val_loss: 0.9619 - val_accuracy: 0.6933\n",
      "\n",
      "Epoch 00026: val_loss did not improve from 0.70816\n",
      "Epoch 27/500\n",
      "23/23 [==============================] - 2s 73ms/step - loss: 0.2503 - accuracy: 0.9179 - val_loss: 0.8457 - val_accuracy: 0.7367\n",
      "\n",
      "Epoch 00027: val_loss did not improve from 0.70816\n",
      "Epoch 28/500\n",
      "23/23 [==============================] - 2s 72ms/step - loss: 0.2431 - accuracy: 0.9251 - val_loss: 0.7745 - val_accuracy: 0.7492\n",
      "\n",
      "Epoch 00028: val_loss did not improve from 0.70816\n",
      "Epoch 29/500\n",
      "23/23 [==============================] - 2s 73ms/step - loss: 0.1685 - accuracy: 0.9440 - val_loss: 0.7583 - val_accuracy: 0.7758\n",
      "\n",
      "Epoch 00029: val_loss did not improve from 0.70816\n",
      "Epoch 30/500\n",
      "23/23 [==============================] - 2s 73ms/step - loss: 0.1538 - accuracy: 0.9577 - val_loss: 0.7714 - val_accuracy: 0.7692\n",
      "\n",
      "Epoch 00030: val_loss did not improve from 0.70816\n",
      "Epoch 31/500\n",
      "23/23 [==============================] - 2s 76ms/step - loss: 0.1124 - accuracy: 0.9627 - val_loss: 0.8110 - val_accuracy: 0.7567\n",
      "\n",
      "Epoch 00031: val_loss did not improve from 0.70816\n",
      "Epoch 32/500\n",
      "23/23 [==============================] - 2s 74ms/step - loss: 0.1172 - accuracy: 0.9604 - val_loss: 0.7659 - val_accuracy: 0.7700\n",
      "\n",
      "Epoch 00032: val_loss did not improve from 0.70816\n",
      "Epoch 33/500\n",
      "23/23 [==============================] - 2s 74ms/step - loss: 0.1212 - accuracy: 0.9555 - val_loss: 0.7790 - val_accuracy: 0.7775\n",
      "\n",
      "Epoch 00033: val_loss did not improve from 0.70816\n",
      "Epoch 34/500\n",
      "23/23 [==============================] - 2s 74ms/step - loss: 0.0817 - accuracy: 0.9746 - val_loss: 0.7735 - val_accuracy: 0.7575\n",
      "\n",
      "Epoch 00034: val_loss did not improve from 0.70816\n",
      "Epoch 35/500\n",
      "23/23 [==============================] - 2s 74ms/step - loss: 0.1067 - accuracy: 0.9640 - val_loss: 0.8965 - val_accuracy: 0.7450\n",
      "\n",
      "Epoch 00035: val_loss did not improve from 0.70816\n",
      "Epoch 36/500\n",
      "23/23 [==============================] - 2s 74ms/step - loss: 0.1759 - accuracy: 0.9465 - val_loss: 0.9006 - val_accuracy: 0.7492\n",
      "\n",
      "Epoch 00036: val_loss did not improve from 0.70816\n",
      "Epoch 37/500\n",
      "23/23 [==============================] - 2s 73ms/step - loss: 0.0914 - accuracy: 0.9707 - val_loss: 0.8008 - val_accuracy: 0.7783\n",
      "\n",
      "Epoch 00037: val_loss did not improve from 0.70816\n",
      "Epoch 38/500\n",
      "23/23 [==============================] - 2s 74ms/step - loss: 0.0593 - accuracy: 0.9832 - val_loss: 0.9660 - val_accuracy: 0.7592\n",
      "\n",
      "Epoch 00038: val_loss did not improve from 0.70816\n",
      "Epoch 39/500\n",
      "23/23 [==============================] - 2s 74ms/step - loss: 0.3209 - accuracy: 0.9134 - val_loss: 0.9444 - val_accuracy: 0.7425\n",
      "\n",
      "Epoch 00039: val_loss did not improve from 0.70816\n",
      "Epoch 40/500\n",
      "23/23 [==============================] - 2s 73ms/step - loss: 0.0844 - accuracy: 0.9711 - val_loss: 0.8972 - val_accuracy: 0.7417\n",
      "\n",
      "Epoch 00040: val_loss did not improve from 0.70816\n",
      "Epoch 41/500\n",
      "23/23 [==============================] - 2s 74ms/step - loss: 0.0693 - accuracy: 0.9757 - val_loss: 0.9150 - val_accuracy: 0.7733\n",
      "\n",
      "Epoch 00041: val_loss did not improve from 0.70816\n",
      "Epoch 42/500\n",
      "23/23 [==============================] - 2s 72ms/step - loss: 0.1945 - accuracy: 0.9374 - val_loss: 0.9527 - val_accuracy: 0.7525\n",
      "\n",
      "Epoch 00042: val_loss did not improve from 0.70816\n",
      "Epoch 43/500\n",
      "23/23 [==============================] - 2s 73ms/step - loss: 0.0449 - accuracy: 0.9846 - val_loss: 1.3763 - val_accuracy: 0.6867\n",
      "\n",
      "Epoch 00043: val_loss did not improve from 0.70816\n",
      "Epoch 44/500\n",
      "23/23 [==============================] - 2s 73ms/step - loss: 0.3341 - accuracy: 0.8976 - val_loss: 0.9407 - val_accuracy: 0.7517\n",
      "\n",
      "Epoch 00044: val_loss did not improve from 0.70816\n",
      "Epoch 45/500\n",
      "23/23 [==============================] - 2s 91ms/step - loss: 0.0706 - accuracy: 0.9777 - val_loss: 3.0212 - val_accuracy: 0.6058\n",
      "\n",
      "Epoch 00045: val_loss did not improve from 0.70816\n",
      "Epoch 46/500\n",
      "23/23 [==============================] - 2s 74ms/step - loss: 0.4708 - accuracy: 0.9152 - val_loss: 1.0569 - val_accuracy: 0.7258\n",
      "\n",
      "Epoch 00046: val_loss did not improve from 0.70816\n",
      "Epoch 47/500\n",
      "23/23 [==============================] - 2s 72ms/step - loss: 0.0526 - accuracy: 0.9798 - val_loss: 1.9960 - val_accuracy: 0.6483\n",
      "\n",
      "Epoch 00047: val_loss did not improve from 0.70816\n",
      "Epoch 48/500\n",
      "23/23 [==============================] - 2s 74ms/step - loss: 0.1776 - accuracy: 0.9460 - val_loss: 1.0260 - val_accuracy: 0.7250\n",
      "\n",
      "Epoch 00048: val_loss did not improve from 0.70816\n",
      "Epoch 49/500\n",
      "23/23 [==============================] - 2s 72ms/step - loss: 0.1228 - accuracy: 0.9480 - val_loss: 1.1854 - val_accuracy: 0.7083\n",
      "Restoring model weights from the end of the best epoch.\n",
      "\n",
      "Epoch 00049: val_loss did not improve from 0.70816\n",
      "Epoch 00049: early stopping\n",
      "--FINISH--\n",
      "Total time:  2 minutes 8 seconds\n"
     ]
    }
   ],
   "source": [
    "import timeit\n",
    "# We only train 5 EPOCHS\n",
    "nb_train_samples = X_train_color.shape[0]\n",
    "nb_validation_samples = X_test_color.shape[0]\n",
    "\n",
    "EPOCHS = 500\n",
    "batch_size = 16*strategy.num_replicas_in_sync\n",
    "#batch_size = 128\n",
    "\n",
    "start = timeit.default_timer()\n",
    "print('Training started, with epoch plan: ', EPOCHS)\n",
    "print('........wait until finish........')\n",
    "\n",
    "#history = model.fit_generator( <--is deprecated and will be removed in a future version\n",
    "history = model.fit(\n",
    "    X_train_color, y_train_color,\n",
    "    steps_per_epoch = nb_train_samples // batch_size,\n",
    "    epochs = EPOCHS,\n",
    "    callbacks = callbacks,\n",
    "    validation_data = (X_test_color, y_test_color),\n",
    "    validation_steps = nb_validation_samples // batch_size)\n",
    "\n",
    "stop = timeit.default_timer()\n",
    "print('--FINISH--')\n",
    "print('Total time: ',int((stop-start)//60),'minutes',int((stop-start)%60),'seconds')\n"
   ]
  },
  {
   "cell_type": "code",
   "execution_count": 21,
   "metadata": {
    "execution": {
     "iopub.execute_input": "2021-09-02T18:17:07.385496Z",
     "iopub.status.busy": "2021-09-02T18:17:07.385140Z",
     "iopub.status.idle": "2021-09-02T18:17:18.344134Z",
     "shell.execute_reply": "2021-09-02T18:17:18.343101Z",
     "shell.execute_reply.started": "2021-09-02T18:17:07.385468Z"
    }
   },
   "outputs": [
    {
     "name": "stdin",
     "output_type": "stream",
     "text": [
      "How many epochs last?__ 49\n"
     ]
    },
    {
     "name": "stdout",
     "output_type": "stream",
     "text": [
      "Time consumed: 2.63 second/epoch\n",
      "Training Speed: 23.0 epochs/minutes\n",
      "total time (seconds) =  128.76967857499994\n"
     ]
    }
   ],
   "source": [
    "numberOfEpoch = int(input('How many epochs last?__'))\n",
    "print('Time consumed:',round((stop-start)/numberOfEpoch,2),'second/epoch')\n",
    "print('Training Speed:',round(numberOfEpoch*60/(stop-start),0),'epochs/minutes')\n",
    "print('total time (seconds) = ', stop - start)"
   ]
  },
  {
   "cell_type": "markdown",
   "metadata": {},
   "source": [
    "## Calculate Training and model Performance"
   ]
  },
  {
   "cell_type": "code",
   "execution_count": 22,
   "metadata": {
    "execution": {
     "iopub.execute_input": "2021-09-02T18:17:27.310078Z",
     "iopub.status.busy": "2021-09-02T18:17:27.309712Z",
     "iopub.status.idle": "2021-09-02T18:17:27.510427Z",
     "shell.execute_reply": "2021-09-02T18:17:27.509315Z",
     "shell.execute_reply.started": "2021-09-02T18:17:27.310045Z"
    }
   },
   "outputs": [
    {
     "name": "stdout",
     "output_type": "stream",
     "text": [
      "--Loss curve after trained by TPU--\n"
     ]
    },
    {
     "data": {
      "image/png": "[encoded data removed]",
      "text/plain": [
       "<Figure size 432x288 with 1 Axes>"
      ]
     },
     "metadata": {
      "needs_background": "light"
     },
     "output_type": "display_data"
    }
   ],
   "source": [
    "# Plotting our loss charts\n",
    "import matplotlib.pyplot as plt\n",
    "print('--Loss curve after trained by TPU--')\n",
    "history_dict = history.history\n",
    "\n",
    "loss_values = history_dict['loss']\n",
    "val_loss_values = history_dict['val_loss']\n",
    "epochs = range(1, len(loss_values) + 1)\n",
    "\n",
    "line1 = plt.plot(epochs, val_loss_values, label='Validation/Test Loss')\n",
    "line2 = plt.plot(epochs, loss_values, label='Training Loss')\n",
    "plt.setp(line1, linewidth=2.0, marker = '+', markersize=10.0)\n",
    "plt.setp(line2, linewidth=2.0, marker = '4', markersize=10.0)\n",
    "plt.xlabel('Epochs') \n",
    "plt.ylabel('Loss')\n",
    "plt.grid(True)\n",
    "plt.legend()\n",
    "plt.show()\n"
   ]
  },
  {
   "cell_type": "code",
   "execution_count": 23,
   "metadata": {
    "execution": {
     "iopub.execute_input": "2021-09-02T18:17:30.827475Z",
     "iopub.status.busy": "2021-09-02T18:17:30.827084Z",
     "iopub.status.idle": "2021-09-02T18:17:31.022731Z",
     "shell.execute_reply": "2021-09-02T18:17:31.021616Z",
     "shell.execute_reply.started": "2021-09-02T18:17:30.827439Z"
    }
   },
   "outputs": [
    {
     "name": "stdout",
     "output_type": "stream",
     "text": [
      "--Accuracy curve after trained by TPU--\n"
     ]
    },
    {
     "data": {
      "image/png": "[encoded data removed]",
      "text/plain": [
       "<Figure size 432x288 with 1 Axes>"
      ]
     },
     "metadata": {
      "needs_background": "light"
     },
     "output_type": "display_data"
    }
   ],
   "source": [
    "# Plotting our accuracy charts\n",
    "import matplotlib.pyplot as plt\n",
    "\n",
    "history_dict = history.history\n",
    "print('--Accuracy curve after trained by TPU--')\n",
    "acc_values = history_dict['accuracy']\n",
    "val_acc_values = history_dict['val_accuracy']\n",
    "epochs = range(1, len(loss_values) + 1)\n",
    "\n",
    "line1 = plt.plot(epochs, val_acc_values, label='Validation/Test Accuracy')\n",
    "line2 = plt.plot(epochs, acc_values, label='Training Accuracy')\n",
    "plt.setp(line1, linewidth=2.0, marker = '+', markersize=10.0)\n",
    "plt.setp(line2, linewidth=2.0, marker = '4', markersize=10.0)\n",
    "plt.xlabel('Epochs') \n",
    "plt.ylabel('Accuracy')\n",
    "plt.grid(True)\n",
    "plt.legend()\n",
    "plt.show()\n"
   ]
  },
  {
   "cell_type": "code",
   "execution_count": 24,
   "metadata": {
    "execution": {
     "iopub.execute_input": "2021-09-02T18:17:40.120327Z",
     "iopub.status.busy": "2021-09-02T18:17:40.119922Z",
     "iopub.status.idle": "2021-09-02T18:17:54.232243Z",
     "shell.execute_reply": "2021-09-02T18:17:54.231073Z",
     "shell.execute_reply.started": "2021-09-02T18:17:40.120292Z"
    }
   },
   "outputs": [
    {
     "name": "stdout",
     "output_type": "stream",
     "text": [
      "Best condition:\n",
      "Test loss: 0.7081262469291687\n",
      "Test accuracy: 0.7725000381469727\n"
     ]
    }
   ],
   "source": [
    "#Accuracy and Loss print\n",
    "score = model.evaluate(X_test_color, y_test_color, verbose=0)\n",
    "print('Best condition:')\n",
    "print('Test loss:', score[0])\n",
    "print('Test accuracy:', score[1])"
   ]
  },
  {
   "cell_type": "markdown",
   "metadata": {},
   "source": [
    "## Confusion Matrix "
   ]
  },
  {
   "cell_type": "code",
   "execution_count": 25,
   "metadata": {
    "execution": {
     "iopub.execute_input": "2021-09-02T18:18:16.220888Z",
     "iopub.status.busy": "2021-09-02T18:18:16.220473Z",
     "iopub.status.idle": "2021-09-02T18:18:31.994507Z",
     "shell.execute_reply": "2021-09-02T18:18:31.993441Z",
     "shell.execute_reply.started": "2021-09-02T18:18:16.220856Z"
    }
   },
   "outputs": [
    {
     "data": {
      "text/plain": [
       "<AxesSubplot:>"
      ]
     },
     "execution_count": 25,
     "metadata": {},
     "output_type": "execute_result"
    },
    {
     "data": {
      "image/png": "[encoded data removed]",
      "text/plain": [
       "<Figure size 432x432 with 2 Axes>"
      ]
     },
     "metadata": {
      "needs_background": "light"
     },
     "output_type": "display_data"
    }
   ],
   "source": [
    "import sklearn.metrics as metrics\n",
    "from sklearn.metrics import classification_report, confusion_matrix\n",
    "import seaborn as sn\n",
    "import pandas as pd\n",
    "import matplotlib.pyplot as plt\n",
    "\n",
    "\n",
    "label = tf.argmax(y_test_color, axis = 1)\n",
    "#prediction1 = model.predict_classes(X_test_color) <-- IF Sequential\n",
    "prediction1 = np.argmax(model.predict(X_test_color),axis=1) # <-- IF NOT Sequential\n",
    "\n",
    "matrix = metrics.confusion_matrix(label, prediction1)\n",
    "\n",
    "\n",
    "# CATEGORIES = \n",
    "\n",
    "df_cm = pd.DataFrame(matrix, index = [i for i in CATEGORIES],\n",
    "                  columns = [i for i in CATEGORIES])\n",
    "plt.figure(figsize = (6,6))\n",
    "sn.heatmap(df_cm, annot=True)"
   ]
  },
  {
   "cell_type": "code",
   "execution_count": 26,
   "metadata": {
    "execution": {
     "iopub.execute_input": "2021-09-02T18:18:37.789068Z",
     "iopub.status.busy": "2021-09-02T18:18:37.788501Z",
     "iopub.status.idle": "2021-09-02T18:18:37.805717Z",
     "shell.execute_reply": "2021-09-02T18:18:37.804453Z",
     "shell.execute_reply.started": "2021-09-02T18:18:37.789018Z"
    }
   },
   "outputs": [
    {
     "name": "stdout",
     "output_type": "stream",
     "text": [
      "Classification Report\n",
      "              precision    recall  f1-score   support\n",
      "\n",
      "        Arab       0.82      0.81      0.82       200\n",
      "     African       0.73      0.80      0.76       200\n",
      "  East_Asian       0.76      0.79      0.77       200\n",
      "   Caucasian       0.86      0.72      0.79       200\n",
      "       ASEAN       0.75      0.84      0.79       200\n",
      " South_Asian       0.74      0.67      0.70       200\n",
      "\n",
      "    accuracy                           0.77      1200\n",
      "   macro avg       0.78      0.77      0.77      1200\n",
      "weighted avg       0.78      0.77      0.77      1200\n",
      "\n"
     ]
    }
   ],
   "source": [
    "from sklearn.metrics import classification_report, confusion_matrix\n",
    "import numpy as np\n",
    "\n",
    "print('Classification Report')\n",
    "#target_names = CATEGORIES\n",
    "print(classification_report(label, prediction1, target_names=CATEGORIES))"
   ]
  },
  {
   "cell_type": "code",
   "execution_count": 27,
   "metadata": {
    "execution": {
     "iopub.execute_input": "2021-09-02T18:18:41.353358Z",
     "iopub.status.busy": "2021-09-02T18:18:41.352995Z",
     "iopub.status.idle": "2021-09-02T18:18:41.831592Z",
     "shell.execute_reply": "2021-09-02T18:18:41.830675Z",
     "shell.execute_reply.started": "2021-09-02T18:18:41.353322Z"
    }
   },
   "outputs": [
    {
     "name": "stdout",
     "output_type": "stream",
     "text": [
      "--Normalized Version of Confusion Matrix--\n"
     ]
    },
    {
     "data": {
      "text/plain": [
       "<AxesSubplot:>"
      ]
     },
     "execution_count": 27,
     "metadata": {},
     "output_type": "execute_result"
    },
    {
     "data": {
      "image/png": "[encoded data removed]",
      "text/plain": [
       "<Figure size 648x648 with 2 Axes>"
      ]
     },
     "metadata": {
      "needs_background": "light"
     },
     "output_type": "display_data"
    }
   ],
   "source": [
    "print('--Normalized Version of Confusion Matrix--')\n",
    "\n",
    "matrix = metrics.confusion_matrix(label, prediction1, normalize='true')\n",
    "\n",
    "df_cm = pd.DataFrame(matrix, index = [i for i in CATEGORIES],\n",
    "                  columns = [i for i in CATEGORIES])\n",
    "plt.figure(figsize = (9,9))\n",
    "sn.heatmap(df_cm, annot=True)\n"
   ]
  },
  {
   "cell_type": "code",
   "execution_count": null,
   "metadata": {},
   "outputs": [],
   "source": []
  },
  {
   "cell_type": "code",
   "execution_count": null,
   "metadata": {},
   "outputs": [],
   "source": []
  },
  {
   "cell_type": "code",
   "execution_count": null,
   "metadata": {},
   "outputs": [],
   "source": []
  },
  {
   "cell_type": "code",
   "execution_count": null,
   "metadata": {},
   "outputs": [],
   "source": []
  },
  {
   "cell_type": "code",
   "execution_count": null,
   "metadata": {},
   "outputs": [],
   "source": []
  },
  {
   "cell_type": "code",
   "execution_count": null,
   "metadata": {},
   "outputs": [],
   "source": []
  }
 ],
 "metadata": {
  "kernelspec": {
   "display_name": "Python 3",
   "language": "python",
   "name": "python3"
  },
  "language_info": {
   "codemirror_mode": {
    "name": "ipython",
    "version": 3
   },
   "file_extension": ".py",
   "mimetype": "text/x-python",
   "name": "python",
   "nbconvert_exporter": "python",
   "pygments_lexer": "ipython3",
   "version": "3.8.8"
  }
 },
 "nbformat": 4,
 "nbformat_minor": 4
}
