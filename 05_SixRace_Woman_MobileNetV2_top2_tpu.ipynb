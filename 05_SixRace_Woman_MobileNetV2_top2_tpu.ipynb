{
 "cells": [
  {
   "cell_type": "markdown",
   "metadata": {},
   "source": [
    "# TRAINING with TPU and TRANSFER LEARNING from 11th Model: Resnet"
   ]
  },
  {
   "cell_type": "code",
   "execution_count": 1,
   "metadata": {
    "_cell_guid": "b1076dfc-b9ad-4769-8c92-a6c4dae69d19",
    "_uuid": "8f2839f25d086af736a60e9eeb907d3b93b6e0e5",
    "execution": {
     "iopub.execute_input": "2021-09-02T16:58:34.600360Z",
     "iopub.status.busy": "2021-09-02T16:58:34.599767Z",
     "iopub.status.idle": "2021-09-02T16:58:41.941641Z",
     "shell.execute_reply": "2021-09-02T16:58:41.940552Z",
     "shell.execute_reply.started": "2021-09-02T16:58:34.600272Z"
    }
   },
   "outputs": [
    {
     "name": "stdout",
     "output_type": "stream",
     "text": [
      "Tensorflow version 2.4.1\n"
     ]
    }
   ],
   "source": [
    "import re\n",
    "import tensorflow as tf\n",
    "import tensorflow_hub as hub\n",
    "import numpy as np\n",
    "from matplotlib import pyplot as plt\n",
    "import os\n",
    "import glob\n",
    "from tqdm import tqdm\n",
    "\n",
    "print(\"Tensorflow version \" + tf.__version__)\n",
    "AUTO = tf.data.experimental.AUTOTUNE"
   ]
  },
  {
   "cell_type": "code",
   "execution_count": 2,
   "metadata": {
    "execution": {
     "iopub.execute_input": "2021-09-02T16:58:54.459928Z",
     "iopub.status.busy": "2021-09-02T16:58:54.459493Z",
     "iopub.status.idle": "2021-09-02T16:58:59.767796Z",
     "shell.execute_reply": "2021-09-02T16:58:59.766741Z",
     "shell.execute_reply.started": "2021-09-02T16:58:54.459834Z"
    }
   },
   "outputs": [
    {
     "name": "stdout",
     "output_type": "stream",
     "text": [
      "Number of accelerators:  8\n"
     ]
    }
   ],
   "source": [
    "# NEW on TPU in TensorFlow 24: \n",
    "# shorter cross-compatible TPU/GPU/multi-GPU/\n",
    "# GPU detection code\n",
    "\n",
    "try: # detect TPUs\n",
    "#TPU detection\n",
    "    tpu = tf.distribute.cluster_resolver.TPUClusterResolver.connect()\n",
    "    strategy = tf.distribute.TPUStrategy(tpu)\n",
    "\n",
    "except ValueError: # detect GPUs\n",
    "    strategy = tf.distribute.MirroredStrategy() \n",
    "    #for GPU or multi-GPU machines\n",
    "    \n",
    "    #strategy = tf.distribute.get_strategy() # default strategy that works on\n",
    "    # CPU and single GPU\n",
    "    \n",
    "    #strategy = tf.distribute.experimental.MultiWorkerMirroredStrategy()\n",
    "    # for clusters of multi-GPU machines\n",
    "    \n",
    "print(\"Number of accelerators: \", strategy.num_replicas_in_sync)"
   ]
  },
  {
   "cell_type": "markdown",
   "metadata": {},
   "source": [
    "# Making Ethnicity Model\n",
    "\n",
    "### Loading the Model"
   ]
  },
  {
   "cell_type": "code",
   "execution_count": 3,
   "metadata": {
    "execution": {
     "iopub.execute_input": "2021-09-02T16:59:52.215521Z",
     "iopub.status.busy": "2021-09-02T16:59:52.215161Z",
     "iopub.status.idle": "2021-09-02T16:59:52.219998Z",
     "shell.execute_reply": "2021-09-02T16:59:52.219066Z",
     "shell.execute_reply.started": "2021-09-02T16:59:52.215491Z"
    }
   },
   "outputs": [],
   "source": [
    "from keras.applications import MobileNetV2"
   ]
  },
  {
   "cell_type": "code",
   "execution_count": 4,
   "metadata": {
    "execution": {
     "iopub.execute_input": "2021-09-02T16:59:55.075966Z",
     "iopub.status.busy": "2021-09-02T16:59:55.075592Z",
     "iopub.status.idle": "2021-09-02T16:59:56.682262Z",
     "shell.execute_reply": "2021-09-02T16:59:56.681136Z",
     "shell.execute_reply.started": "2021-09-02T16:59:55.075922Z"
    }
   },
   "outputs": [
    {
     "name": "stdin",
     "output_type": "stream",
     "text": [
      "What is the size of model input? 224\n"
     ]
    }
   ],
   "source": [
    "size_of_input = int(input('What is the size of model input?'))"
   ]
  },
  {
   "cell_type": "markdown",
   "metadata": {},
   "source": [
    "Inspecting Each layer"
   ]
  },
  {
   "cell_type": "markdown",
   "metadata": {},
   "source": [
    "### Let's freeze all layers except the top X"
   ]
  },
  {
   "cell_type": "code",
   "execution_count": 5,
   "metadata": {
    "execution": {
     "iopub.execute_input": "2021-09-02T17:00:04.107478Z",
     "iopub.status.busy": "2021-09-02T17:00:04.107136Z",
     "iopub.status.idle": "2021-09-02T17:00:12.474764Z",
     "shell.execute_reply": "2021-09-02T17:00:12.473811Z",
     "shell.execute_reply.started": "2021-09-02T17:00:04.107451Z"
    }
   },
   "outputs": [
    {
     "name": "stdout",
     "output_type": "stream",
     "text": [
      "Downloading data from https://storage.googleapis.com/tensorflow/keras-applications/mobilenet_v2/mobilenet_v2_weights_tf_dim_ordering_tf_kernels_1.0_224_no_top.h5\n",
      "9412608/9406464 [==============================] - 0s 0us/step\n",
      "0 InputLayer False\n",
      "1 Conv2D False\n",
      "2 BatchNormalization False\n",
      "3 ReLU False\n",
      "4 DepthwiseConv2D False\n",
      "5 BatchNormalization False\n",
      "6 ReLU False\n",
      "7 Conv2D False\n",
      "8 BatchNormalization False\n",
      "9 Conv2D False\n",
      "10 BatchNormalization False\n",
      "11 ReLU False\n",
      "12 ZeroPadding2D False\n",
      "13 DepthwiseConv2D False\n",
      "14 BatchNormalization False\n",
      "15 ReLU False\n",
      "16 Conv2D False\n",
      "17 BatchNormalization False\n",
      "18 Conv2D False\n",
      "19 BatchNormalization False\n",
      "20 ReLU False\n",
      "21 DepthwiseConv2D False\n",
      "22 BatchNormalization False\n",
      "23 ReLU False\n",
      "24 Conv2D False\n",
      "25 BatchNormalization False\n",
      "26 Add False\n",
      "27 Conv2D False\n",
      "28 BatchNormalization False\n",
      "29 ReLU False\n",
      "30 ZeroPadding2D False\n",
      "31 DepthwiseConv2D False\n",
      "32 BatchNormalization False\n",
      "33 ReLU False\n",
      "34 Conv2D False\n",
      "35 BatchNormalization False\n",
      "36 Conv2D False\n",
      "37 BatchNormalization False\n",
      "38 ReLU False\n",
      "39 DepthwiseConv2D False\n",
      "40 BatchNormalization False\n",
      "41 ReLU False\n",
      "42 Conv2D False\n",
      "43 BatchNormalization False\n",
      "44 Add False\n",
      "45 Conv2D False\n",
      "46 BatchNormalization False\n",
      "47 ReLU False\n",
      "48 DepthwiseConv2D False\n",
      "49 BatchNormalization False\n",
      "50 ReLU False\n",
      "51 Conv2D False\n",
      "52 BatchNormalization False\n",
      "53 Add False\n",
      "54 Conv2D False\n",
      "55 BatchNormalization False\n",
      "56 ReLU False\n",
      "57 ZeroPadding2D False\n",
      "58 DepthwiseConv2D False\n",
      "59 BatchNormalization False\n",
      "60 ReLU False\n",
      "61 Conv2D False\n",
      "62 BatchNormalization False\n",
      "63 Conv2D False\n",
      "64 BatchNormalization False\n",
      "65 ReLU False\n",
      "66 DepthwiseConv2D False\n",
      "67 BatchNormalization False\n",
      "68 ReLU False\n",
      "69 Conv2D False\n",
      "70 BatchNormalization False\n",
      "71 Add False\n",
      "72 Conv2D False\n",
      "73 BatchNormalization False\n",
      "74 ReLU False\n",
      "75 DepthwiseConv2D False\n",
      "76 BatchNormalization False\n",
      "77 ReLU False\n",
      "78 Conv2D False\n",
      "79 BatchNormalization False\n",
      "80 Add False\n",
      "81 Conv2D False\n",
      "82 BatchNormalization False\n",
      "83 ReLU False\n",
      "84 DepthwiseConv2D False\n",
      "85 BatchNormalization False\n",
      "86 ReLU False\n",
      "87 Conv2D False\n",
      "88 BatchNormalization False\n",
      "89 Add False\n",
      "90 Conv2D False\n",
      "91 BatchNormalization False\n",
      "92 ReLU False\n",
      "93 DepthwiseConv2D False\n",
      "94 BatchNormalization False\n",
      "95 ReLU False\n",
      "96 Conv2D False\n",
      "97 BatchNormalization False\n",
      "98 Conv2D False\n",
      "99 BatchNormalization False\n",
      "100 ReLU False\n",
      "101 DepthwiseConv2D False\n",
      "102 BatchNormalization False\n",
      "103 ReLU False\n",
      "104 Conv2D False\n",
      "105 BatchNormalization False\n",
      "106 Add False\n",
      "107 Conv2D False\n",
      "108 BatchNormalization False\n",
      "109 ReLU False\n",
      "110 DepthwiseConv2D False\n",
      "111 BatchNormalization False\n",
      "112 ReLU False\n",
      "113 Conv2D False\n",
      "114 BatchNormalization False\n",
      "115 Add False\n",
      "116 Conv2D False\n",
      "117 BatchNormalization False\n",
      "118 ReLU False\n",
      "119 ZeroPadding2D False\n",
      "120 DepthwiseConv2D False\n",
      "121 BatchNormalization False\n",
      "122 ReLU False\n",
      "123 Conv2D False\n",
      "124 BatchNormalization False\n",
      "125 Conv2D False\n",
      "126 BatchNormalization False\n",
      "127 ReLU False\n",
      "128 DepthwiseConv2D False\n",
      "129 BatchNormalization False\n",
      "130 ReLU False\n",
      "131 Conv2D False\n",
      "132 BatchNormalization False\n",
      "133 Add False\n",
      "134 Conv2D False\n",
      "135 BatchNormalization False\n",
      "136 ReLU False\n",
      "137 DepthwiseConv2D False\n",
      "138 BatchNormalization False\n",
      "139 ReLU False\n",
      "140 Conv2D False\n",
      "141 BatchNormalization False\n",
      "142 Add False\n",
      "143 Conv2D False\n",
      "144 BatchNormalization False\n",
      "145 ReLU False\n",
      "146 DepthwiseConv2D False\n",
      "147 BatchNormalization False\n",
      "148 ReLU False\n",
      "149 Conv2D False\n",
      "150 BatchNormalization False\n",
      "151 Conv2D False\n",
      "152 BatchNormalization False\n",
      "153 ReLU False\n"
     ]
    }
   ],
   "source": [
    "with strategy.scope():\n",
    "    #  was designed to work on 224 x 224 pixel input images sizes\n",
    "    img_rows = size_of_input\n",
    "    img_cols = size_of_input \n",
    "\n",
    "    # Re-loads the model without the top or FC layers\n",
    "    derived_model = MobileNetV2(weights = 'imagenet', \n",
    "                     include_top = False, \n",
    "                     input_shape = (img_rows, img_cols, 3))\n",
    "\n",
    "    # Here we freeze the last 4 layers \n",
    "    # Layers are set to trainable as True by default\n",
    "    for layer in derived_model.layers:\n",
    "        layer.trainable = False\n",
    "    \n",
    "# Let's print our layers \n",
    "for (i,layer) in enumerate(derived_model.layers):\n",
    "    print(str(i) + \" \"+ layer.__class__.__name__, layer.trainable)"
   ]
  },
  {
   "attachments": {
    "13f4ed6d-93f5-4136-9c16-592a854f233a.png": {
     "image/png": "[encoded data removed]"
    }
   },
   "cell_type": "markdown",
   "metadata": {},
   "source": [
    "### Proposed Top Layer (type 2)\n",
    "![image.png](attachment:13f4ed6d-93f5-4136-9c16-592a854f233a.png)"
   ]
  },
  {
   "cell_type": "code",
   "execution_count": 6,
   "metadata": {
    "execution": {
     "iopub.execute_input": "2021-09-02T17:00:43.158432Z",
     "iopub.status.busy": "2021-09-02T17:00:43.158062Z",
     "iopub.status.idle": "2021-09-02T17:00:43.164370Z",
     "shell.execute_reply": "2021-09-02T17:00:43.163340Z",
     "shell.execute_reply.started": "2021-09-02T17:00:43.158395Z"
    }
   },
   "outputs": [],
   "source": [
    "def addTopModelMobileNetV2(bottom_model, num_classes, D=size_of_input):\n",
    "    top_model = bottom_model.output\n",
    "    top_model = Flatten(name = \"flatten\")(top_model)\n",
    "    top_model = Dense(D, activation = \"relu\")(top_model)\n",
    "    top_model = Dropout(0.3)(top_model)\n",
    "    top_model = Dense(num_classes, activation = \"softmax\")(top_model)\n",
    "    return top_model"
   ]
  },
  {
   "cell_type": "markdown",
   "metadata": {},
   "source": [
    "## Let's add our FC Head back"
   ]
  },
  {
   "cell_type": "code",
   "execution_count": 7,
   "metadata": {
    "execution": {
     "iopub.execute_input": "2021-09-02T17:00:45.684794Z",
     "iopub.status.busy": "2021-09-02T17:00:45.684459Z",
     "iopub.status.idle": "2021-09-02T17:00:45.690851Z",
     "shell.execute_reply": "2021-09-02T17:00:45.690084Z",
     "shell.execute_reply.started": "2021-09-02T17:00:45.684767Z"
    }
   },
   "outputs": [],
   "source": [
    "from keras.models import Sequential\n",
    "from keras.layers import Dense, Dropout, Activation, Flatten\n",
    "from keras.layers import Conv2D, MaxPooling2D, ZeroPadding2D\n",
    "from keras.layers.normalization import BatchNormalization\n",
    "from keras.models import Model\n",
    "from keras.optimizers import RMSprop\n",
    "from keras.callbacks import ModelCheckpoint, EarlyStopping\n",
    "from keras.layers import GlobalAveragePooling2D"
   ]
  },
  {
   "cell_type": "code",
   "execution_count": 8,
   "metadata": {
    "execution": {
     "iopub.execute_input": "2021-09-02T17:01:30.207022Z",
     "iopub.status.busy": "2021-09-02T17:01:30.206653Z",
     "iopub.status.idle": "2021-09-02T17:01:32.720438Z",
     "shell.execute_reply": "2021-09-02T17:01:32.717996Z",
     "shell.execute_reply.started": "2021-09-02T17:01:30.206991Z"
    }
   },
   "outputs": [
    {
     "name": "stdin",
     "output_type": "stream",
     "text": [
      "How Many classes? 6\n"
     ]
    },
    {
     "name": "stdout",
     "output_type": "stream",
     "text": [
      "Model: \"model\"\n",
      "__________________________________________________________________________________________________\n",
      "Layer (type)                    Output Shape         Param #     Connected to                     \n",
      "==================================================================================================\n",
      "input_1 (InputLayer)            [(None, 224, 224, 3) 0                                            \n",
      "__________________________________________________________________________________________________\n",
      "Conv1 (Conv2D)                  (None, 112, 112, 32) 864         input_1[0][0]                    \n",
      "__________________________________________________________________________________________________\n",
      "bn_Conv1 (BatchNormalization)   (None, 112, 112, 32) 128         Conv1[0][0]                      \n",
      "__________________________________________________________________________________________________\n",
      "Conv1_relu (ReLU)               (None, 112, 112, 32) 0           bn_Conv1[0][0]                   \n",
      "__________________________________________________________________________________________________\n",
      "expanded_conv_depthwise (Depthw (None, 112, 112, 32) 288         Conv1_relu[0][0]                 \n",
      "__________________________________________________________________________________________________\n",
      "expanded_conv_depthwise_BN (Bat (None, 112, 112, 32) 128         expanded_conv_depthwise[0][0]    \n",
      "__________________________________________________________________________________________________\n",
      "expanded_conv_depthwise_relu (R (None, 112, 112, 32) 0           expanded_conv_depthwise_BN[0][0] \n",
      "__________________________________________________________________________________________________\n",
      "expanded_conv_project (Conv2D)  (None, 112, 112, 16) 512         expanded_conv_depthwise_relu[0][0\n",
      "__________________________________________________________________________________________________\n",
      "expanded_conv_project_BN (Batch (None, 112, 112, 16) 64          expanded_conv_project[0][0]      \n",
      "__________________________________________________________________________________________________\n",
      "block_1_expand (Conv2D)         (None, 112, 112, 96) 1536        expanded_conv_project_BN[0][0]   \n",
      "__________________________________________________________________________________________________\n",
      "block_1_expand_BN (BatchNormali (None, 112, 112, 96) 384         block_1_expand[0][0]             \n",
      "__________________________________________________________________________________________________\n",
      "block_1_expand_relu (ReLU)      (None, 112, 112, 96) 0           block_1_expand_BN[0][0]          \n",
      "__________________________________________________________________________________________________\n",
      "block_1_pad (ZeroPadding2D)     (None, 113, 113, 96) 0           block_1_expand_relu[0][0]        \n",
      "__________________________________________________________________________________________________\n",
      "block_1_depthwise (DepthwiseCon (None, 56, 56, 96)   864         block_1_pad[0][0]                \n",
      "__________________________________________________________________________________________________\n",
      "block_1_depthwise_BN (BatchNorm (None, 56, 56, 96)   384         block_1_depthwise[0][0]          \n",
      "__________________________________________________________________________________________________\n",
      "block_1_depthwise_relu (ReLU)   (None, 56, 56, 96)   0           block_1_depthwise_BN[0][0]       \n",
      "__________________________________________________________________________________________________\n",
      "block_1_project (Conv2D)        (None, 56, 56, 24)   2304        block_1_depthwise_relu[0][0]     \n",
      "__________________________________________________________________________________________________\n",
      "block_1_project_BN (BatchNormal (None, 56, 56, 24)   96          block_1_project[0][0]            \n",
      "__________________________________________________________________________________________________\n",
      "block_2_expand (Conv2D)         (None, 56, 56, 144)  3456        block_1_project_BN[0][0]         \n",
      "__________________________________________________________________________________________________\n",
      "block_2_expand_BN (BatchNormali (None, 56, 56, 144)  576         block_2_expand[0][0]             \n",
      "__________________________________________________________________________________________________\n",
      "block_2_expand_relu (ReLU)      (None, 56, 56, 144)  0           block_2_expand_BN[0][0]          \n",
      "__________________________________________________________________________________________________\n",
      "block_2_depthwise (DepthwiseCon (None, 56, 56, 144)  1296        block_2_expand_relu[0][0]        \n",
      "__________________________________________________________________________________________________\n",
      "block_2_depthwise_BN (BatchNorm (None, 56, 56, 144)  576         block_2_depthwise[0][0]          \n",
      "__________________________________________________________________________________________________\n",
      "block_2_depthwise_relu (ReLU)   (None, 56, 56, 144)  0           block_2_depthwise_BN[0][0]       \n",
      "__________________________________________________________________________________________________\n",
      "block_2_project (Conv2D)        (None, 56, 56, 24)   3456        block_2_depthwise_relu[0][0]     \n",
      "__________________________________________________________________________________________________\n",
      "block_2_project_BN (BatchNormal (None, 56, 56, 24)   96          block_2_project[0][0]            \n",
      "__________________________________________________________________________________________________\n",
      "block_2_add (Add)               (None, 56, 56, 24)   0           block_1_project_BN[0][0]         \n",
      "                                                                 block_2_project_BN[0][0]         \n",
      "__________________________________________________________________________________________________\n",
      "block_3_expand (Conv2D)         (None, 56, 56, 144)  3456        block_2_add[0][0]                \n",
      "__________________________________________________________________________________________________\n",
      "block_3_expand_BN (BatchNormali (None, 56, 56, 144)  576         block_3_expand[0][0]             \n",
      "__________________________________________________________________________________________________\n",
      "block_3_expand_relu (ReLU)      (None, 56, 56, 144)  0           block_3_expand_BN[0][0]          \n",
      "__________________________________________________________________________________________________\n",
      "block_3_pad (ZeroPadding2D)     (None, 57, 57, 144)  0           block_3_expand_relu[0][0]        \n",
      "__________________________________________________________________________________________________\n",
      "block_3_depthwise (DepthwiseCon (None, 28, 28, 144)  1296        block_3_pad[0][0]                \n",
      "__________________________________________________________________________________________________\n",
      "block_3_depthwise_BN (BatchNorm (None, 28, 28, 144)  576         block_3_depthwise[0][0]          \n",
      "__________________________________________________________________________________________________\n",
      "block_3_depthwise_relu (ReLU)   (None, 28, 28, 144)  0           block_3_depthwise_BN[0][0]       \n",
      "__________________________________________________________________________________________________\n",
      "block_3_project (Conv2D)        (None, 28, 28, 32)   4608        block_3_depthwise_relu[0][0]     \n",
      "__________________________________________________________________________________________________\n",
      "block_3_project_BN (BatchNormal (None, 28, 28, 32)   128         block_3_project[0][0]            \n",
      "__________________________________________________________________________________________________\n",
      "block_4_expand (Conv2D)         (None, 28, 28, 192)  6144        block_3_project_BN[0][0]         \n",
      "__________________________________________________________________________________________________\n",
      "block_4_expand_BN (BatchNormali (None, 28, 28, 192)  768         block_4_expand[0][0]             \n",
      "__________________________________________________________________________________________________\n",
      "block_4_expand_relu (ReLU)      (None, 28, 28, 192)  0           block_4_expand_BN[0][0]          \n",
      "__________________________________________________________________________________________________\n",
      "block_4_depthwise (DepthwiseCon (None, 28, 28, 192)  1728        block_4_expand_relu[0][0]        \n",
      "__________________________________________________________________________________________________\n",
      "block_4_depthwise_BN (BatchNorm (None, 28, 28, 192)  768         block_4_depthwise[0][0]          \n",
      "__________________________________________________________________________________________________\n",
      "block_4_depthwise_relu (ReLU)   (None, 28, 28, 192)  0           block_4_depthwise_BN[0][0]       \n",
      "__________________________________________________________________________________________________\n",
      "block_4_project (Conv2D)        (None, 28, 28, 32)   6144        block_4_depthwise_relu[0][0]     \n",
      "__________________________________________________________________________________________________\n",
      "block_4_project_BN (BatchNormal (None, 28, 28, 32)   128         block_4_project[0][0]            \n",
      "__________________________________________________________________________________________________\n",
      "block_4_add (Add)               (None, 28, 28, 32)   0           block_3_project_BN[0][0]         \n",
      "                                                                 block_4_project_BN[0][0]         \n",
      "__________________________________________________________________________________________________\n",
      "block_5_expand (Conv2D)         (None, 28, 28, 192)  6144        block_4_add[0][0]                \n",
      "__________________________________________________________________________________________________\n",
      "block_5_expand_BN (BatchNormali (None, 28, 28, 192)  768         block_5_expand[0][0]             \n",
      "__________________________________________________________________________________________________\n",
      "block_5_expand_relu (ReLU)      (None, 28, 28, 192)  0           block_5_expand_BN[0][0]          \n",
      "__________________________________________________________________________________________________\n",
      "block_5_depthwise (DepthwiseCon (None, 28, 28, 192)  1728        block_5_expand_relu[0][0]        \n",
      "__________________________________________________________________________________________________\n",
      "block_5_depthwise_BN (BatchNorm (None, 28, 28, 192)  768         block_5_depthwise[0][0]          \n",
      "__________________________________________________________________________________________________\n",
      "block_5_depthwise_relu (ReLU)   (None, 28, 28, 192)  0           block_5_depthwise_BN[0][0]       \n",
      "__________________________________________________________________________________________________\n",
      "block_5_project (Conv2D)        (None, 28, 28, 32)   6144        block_5_depthwise_relu[0][0]     \n",
      "__________________________________________________________________________________________________\n",
      "block_5_project_BN (BatchNormal (None, 28, 28, 32)   128         block_5_project[0][0]            \n",
      "__________________________________________________________________________________________________\n",
      "block_5_add (Add)               (None, 28, 28, 32)   0           block_4_add[0][0]                \n",
      "                                                                 block_5_project_BN[0][0]         \n",
      "__________________________________________________________________________________________________\n",
      "block_6_expand (Conv2D)         (None, 28, 28, 192)  6144        block_5_add[0][0]                \n",
      "__________________________________________________________________________________________________\n",
      "block_6_expand_BN (BatchNormali (None, 28, 28, 192)  768         block_6_expand[0][0]             \n",
      "__________________________________________________________________________________________________\n",
      "block_6_expand_relu (ReLU)      (None, 28, 28, 192)  0           block_6_expand_BN[0][0]          \n",
      "__________________________________________________________________________________________________\n",
      "block_6_pad (ZeroPadding2D)     (None, 29, 29, 192)  0           block_6_expand_relu[0][0]        \n",
      "__________________________________________________________________________________________________\n",
      "block_6_depthwise (DepthwiseCon (None, 14, 14, 192)  1728        block_6_pad[0][0]                \n",
      "__________________________________________________________________________________________________\n",
      "block_6_depthwise_BN (BatchNorm (None, 14, 14, 192)  768         block_6_depthwise[0][0]          \n",
      "__________________________________________________________________________________________________\n",
      "block_6_depthwise_relu (ReLU)   (None, 14, 14, 192)  0           block_6_depthwise_BN[0][0]       \n",
      "__________________________________________________________________________________________________\n",
      "block_6_project (Conv2D)        (None, 14, 14, 64)   12288       block_6_depthwise_relu[0][0]     \n",
      "__________________________________________________________________________________________________\n",
      "block_6_project_BN (BatchNormal (None, 14, 14, 64)   256         block_6_project[0][0]            \n",
      "__________________________________________________________________________________________________\n",
      "block_7_expand (Conv2D)         (None, 14, 14, 384)  24576       block_6_project_BN[0][0]         \n",
      "__________________________________________________________________________________________________\n",
      "block_7_expand_BN (BatchNormali (None, 14, 14, 384)  1536        block_7_expand[0][0]             \n",
      "__________________________________________________________________________________________________\n",
      "block_7_expand_relu (ReLU)      (None, 14, 14, 384)  0           block_7_expand_BN[0][0]          \n",
      "__________________________________________________________________________________________________\n",
      "block_7_depthwise (DepthwiseCon (None, 14, 14, 384)  3456        block_7_expand_relu[0][0]        \n",
      "__________________________________________________________________________________________________\n",
      "block_7_depthwise_BN (BatchNorm (None, 14, 14, 384)  1536        block_7_depthwise[0][0]          \n",
      "__________________________________________________________________________________________________\n",
      "block_7_depthwise_relu (ReLU)   (None, 14, 14, 384)  0           block_7_depthwise_BN[0][0]       \n",
      "__________________________________________________________________________________________________\n",
      "block_7_project (Conv2D)        (None, 14, 14, 64)   24576       block_7_depthwise_relu[0][0]     \n",
      "__________________________________________________________________________________________________\n",
      "block_7_project_BN (BatchNormal (None, 14, 14, 64)   256         block_7_project[0][0]            \n",
      "__________________________________________________________________________________________________\n",
      "block_7_add (Add)               (None, 14, 14, 64)   0           block_6_project_BN[0][0]         \n",
      "                                                                 block_7_project_BN[0][0]         \n",
      "__________________________________________________________________________________________________\n",
      "block_8_expand (Conv2D)         (None, 14, 14, 384)  24576       block_7_add[0][0]                \n",
      "__________________________________________________________________________________________________\n",
      "block_8_expand_BN (BatchNormali (None, 14, 14, 384)  1536        block_8_expand[0][0]             \n",
      "__________________________________________________________________________________________________\n",
      "block_8_expand_relu (ReLU)      (None, 14, 14, 384)  0           block_8_expand_BN[0][0]          \n",
      "__________________________________________________________________________________________________\n",
      "block_8_depthwise (DepthwiseCon (None, 14, 14, 384)  3456        block_8_expand_relu[0][0]        \n",
      "__________________________________________________________________________________________________\n",
      "block_8_depthwise_BN (BatchNorm (None, 14, 14, 384)  1536        block_8_depthwise[0][0]          \n",
      "__________________________________________________________________________________________________\n",
      "block_8_depthwise_relu (ReLU)   (None, 14, 14, 384)  0           block_8_depthwise_BN[0][0]       \n",
      "__________________________________________________________________________________________________\n",
      "block_8_project (Conv2D)        (None, 14, 14, 64)   24576       block_8_depthwise_relu[0][0]     \n",
      "__________________________________________________________________________________________________\n",
      "block_8_project_BN (BatchNormal (None, 14, 14, 64)   256         block_8_project[0][0]            \n",
      "__________________________________________________________________________________________________\n",
      "block_8_add (Add)               (None, 14, 14, 64)   0           block_7_add[0][0]                \n",
      "                                                                 block_8_project_BN[0][0]         \n",
      "__________________________________________________________________________________________________\n",
      "block_9_expand (Conv2D)         (None, 14, 14, 384)  24576       block_8_add[0][0]                \n",
      "__________________________________________________________________________________________________\n",
      "block_9_expand_BN (BatchNormali (None, 14, 14, 384)  1536        block_9_expand[0][0]             \n",
      "__________________________________________________________________________________________________\n",
      "block_9_expand_relu (ReLU)      (None, 14, 14, 384)  0           block_9_expand_BN[0][0]          \n",
      "__________________________________________________________________________________________________\n",
      "block_9_depthwise (DepthwiseCon (None, 14, 14, 384)  3456        block_9_expand_relu[0][0]        \n",
      "__________________________________________________________________________________________________\n",
      "block_9_depthwise_BN (BatchNorm (None, 14, 14, 384)  1536        block_9_depthwise[0][0]          \n",
      "__________________________________________________________________________________________________\n",
      "block_9_depthwise_relu (ReLU)   (None, 14, 14, 384)  0           block_9_depthwise_BN[0][0]       \n",
      "__________________________________________________________________________________________________\n",
      "block_9_project (Conv2D)        (None, 14, 14, 64)   24576       block_9_depthwise_relu[0][0]     \n",
      "__________________________________________________________________________________________________\n",
      "block_9_project_BN (BatchNormal (None, 14, 14, 64)   256         block_9_project[0][0]            \n",
      "__________________________________________________________________________________________________\n",
      "block_9_add (Add)               (None, 14, 14, 64)   0           block_8_add[0][0]                \n",
      "                                                                 block_9_project_BN[0][0]         \n",
      "__________________________________________________________________________________________________\n",
      "block_10_expand (Conv2D)        (None, 14, 14, 384)  24576       block_9_add[0][0]                \n",
      "__________________________________________________________________________________________________\n",
      "block_10_expand_BN (BatchNormal (None, 14, 14, 384)  1536        block_10_expand[0][0]            \n",
      "__________________________________________________________________________________________________\n",
      "block_10_expand_relu (ReLU)     (None, 14, 14, 384)  0           block_10_expand_BN[0][0]         \n",
      "__________________________________________________________________________________________________\n",
      "block_10_depthwise (DepthwiseCo (None, 14, 14, 384)  3456        block_10_expand_relu[0][0]       \n",
      "__________________________________________________________________________________________________\n",
      "block_10_depthwise_BN (BatchNor (None, 14, 14, 384)  1536        block_10_depthwise[0][0]         \n",
      "__________________________________________________________________________________________________\n",
      "block_10_depthwise_relu (ReLU)  (None, 14, 14, 384)  0           block_10_depthwise_BN[0][0]      \n",
      "__________________________________________________________________________________________________\n",
      "block_10_project (Conv2D)       (None, 14, 14, 96)   36864       block_10_depthwise_relu[0][0]    \n",
      "__________________________________________________________________________________________________\n",
      "block_10_project_BN (BatchNorma (None, 14, 14, 96)   384         block_10_project[0][0]           \n",
      "__________________________________________________________________________________________________\n",
      "block_11_expand (Conv2D)        (None, 14, 14, 576)  55296       block_10_project_BN[0][0]        \n",
      "__________________________________________________________________________________________________\n",
      "block_11_expand_BN (BatchNormal (None, 14, 14, 576)  2304        block_11_expand[0][0]            \n",
      "__________________________________________________________________________________________________\n",
      "block_11_expand_relu (ReLU)     (None, 14, 14, 576)  0           block_11_expand_BN[0][0]         \n",
      "__________________________________________________________________________________________________\n",
      "block_11_depthwise (DepthwiseCo (None, 14, 14, 576)  5184        block_11_expand_relu[0][0]       \n",
      "__________________________________________________________________________________________________\n",
      "block_11_depthwise_BN (BatchNor (None, 14, 14, 576)  2304        block_11_depthwise[0][0]         \n",
      "__________________________________________________________________________________________________\n",
      "block_11_depthwise_relu (ReLU)  (None, 14, 14, 576)  0           block_11_depthwise_BN[0][0]      \n",
      "__________________________________________________________________________________________________\n",
      "block_11_project (Conv2D)       (None, 14, 14, 96)   55296       block_11_depthwise_relu[0][0]    \n",
      "__________________________________________________________________________________________________\n",
      "block_11_project_BN (BatchNorma (None, 14, 14, 96)   384         block_11_project[0][0]           \n",
      "__________________________________________________________________________________________________\n",
      "block_11_add (Add)              (None, 14, 14, 96)   0           block_10_project_BN[0][0]        \n",
      "                                                                 block_11_project_BN[0][0]        \n",
      "__________________________________________________________________________________________________\n",
      "block_12_expand (Conv2D)        (None, 14, 14, 576)  55296       block_11_add[0][0]               \n",
      "__________________________________________________________________________________________________\n",
      "block_12_expand_BN (BatchNormal (None, 14, 14, 576)  2304        block_12_expand[0][0]            \n",
      "__________________________________________________________________________________________________\n",
      "block_12_expand_relu (ReLU)     (None, 14, 14, 576)  0           block_12_expand_BN[0][0]         \n",
      "__________________________________________________________________________________________________\n",
      "block_12_depthwise (DepthwiseCo (None, 14, 14, 576)  5184        block_12_expand_relu[0][0]       \n",
      "__________________________________________________________________________________________________\n",
      "block_12_depthwise_BN (BatchNor (None, 14, 14, 576)  2304        block_12_depthwise[0][0]         \n",
      "__________________________________________________________________________________________________\n",
      "block_12_depthwise_relu (ReLU)  (None, 14, 14, 576)  0           block_12_depthwise_BN[0][0]      \n",
      "__________________________________________________________________________________________________\n",
      "block_12_project (Conv2D)       (None, 14, 14, 96)   55296       block_12_depthwise_relu[0][0]    \n",
      "__________________________________________________________________________________________________\n",
      "block_12_project_BN (BatchNorma (None, 14, 14, 96)   384         block_12_project[0][0]           \n",
      "__________________________________________________________________________________________________\n",
      "block_12_add (Add)              (None, 14, 14, 96)   0           block_11_add[0][0]               \n",
      "                                                                 block_12_project_BN[0][0]        \n",
      "__________________________________________________________________________________________________\n",
      "block_13_expand (Conv2D)        (None, 14, 14, 576)  55296       block_12_add[0][0]               \n",
      "__________________________________________________________________________________________________\n",
      "block_13_expand_BN (BatchNormal (None, 14, 14, 576)  2304        block_13_expand[0][0]            \n",
      "__________________________________________________________________________________________________\n",
      "block_13_expand_relu (ReLU)     (None, 14, 14, 576)  0           block_13_expand_BN[0][0]         \n",
      "__________________________________________________________________________________________________\n",
      "block_13_pad (ZeroPadding2D)    (None, 15, 15, 576)  0           block_13_expand_relu[0][0]       \n",
      "__________________________________________________________________________________________________\n",
      "block_13_depthwise (DepthwiseCo (None, 7, 7, 576)    5184        block_13_pad[0][0]               \n",
      "__________________________________________________________________________________________________\n",
      "block_13_depthwise_BN (BatchNor (None, 7, 7, 576)    2304        block_13_depthwise[0][0]         \n",
      "__________________________________________________________________________________________________\n",
      "block_13_depthwise_relu (ReLU)  (None, 7, 7, 576)    0           block_13_depthwise_BN[0][0]      \n",
      "__________________________________________________________________________________________________\n",
      "block_13_project (Conv2D)       (None, 7, 7, 160)    92160       block_13_depthwise_relu[0][0]    \n",
      "__________________________________________________________________________________________________\n",
      "block_13_project_BN (BatchNorma (None, 7, 7, 160)    640         block_13_project[0][0]           \n",
      "__________________________________________________________________________________________________\n",
      "block_14_expand (Conv2D)        (None, 7, 7, 960)    153600      block_13_project_BN[0][0]        \n",
      "__________________________________________________________________________________________________\n",
      "block_14_expand_BN (BatchNormal (None, 7, 7, 960)    3840        block_14_expand[0][0]            \n",
      "__________________________________________________________________________________________________\n",
      "block_14_expand_relu (ReLU)     (None, 7, 7, 960)    0           block_14_expand_BN[0][0]         \n",
      "__________________________________________________________________________________________________\n",
      "block_14_depthwise (DepthwiseCo (None, 7, 7, 960)    8640        block_14_expand_relu[0][0]       \n",
      "__________________________________________________________________________________________________\n",
      "block_14_depthwise_BN (BatchNor (None, 7, 7, 960)    3840        block_14_depthwise[0][0]         \n",
      "__________________________________________________________________________________________________\n",
      "block_14_depthwise_relu (ReLU)  (None, 7, 7, 960)    0           block_14_depthwise_BN[0][0]      \n",
      "__________________________________________________________________________________________________\n",
      "block_14_project (Conv2D)       (None, 7, 7, 160)    153600      block_14_depthwise_relu[0][0]    \n",
      "__________________________________________________________________________________________________\n",
      "block_14_project_BN (BatchNorma (None, 7, 7, 160)    640         block_14_project[0][0]           \n",
      "__________________________________________________________________________________________________\n",
      "block_14_add (Add)              (None, 7, 7, 160)    0           block_13_project_BN[0][0]        \n",
      "                                                                 block_14_project_BN[0][0]        \n",
      "__________________________________________________________________________________________________\n",
      "block_15_expand (Conv2D)        (None, 7, 7, 960)    153600      block_14_add[0][0]               \n",
      "__________________________________________________________________________________________________\n",
      "block_15_expand_BN (BatchNormal (None, 7, 7, 960)    3840        block_15_expand[0][0]            \n",
      "__________________________________________________________________________________________________\n",
      "block_15_expand_relu (ReLU)     (None, 7, 7, 960)    0           block_15_expand_BN[0][0]         \n",
      "__________________________________________________________________________________________________\n",
      "block_15_depthwise (DepthwiseCo (None, 7, 7, 960)    8640        block_15_expand_relu[0][0]       \n",
      "__________________________________________________________________________________________________\n",
      "block_15_depthwise_BN (BatchNor (None, 7, 7, 960)    3840        block_15_depthwise[0][0]         \n",
      "__________________________________________________________________________________________________\n",
      "block_15_depthwise_relu (ReLU)  (None, 7, 7, 960)    0           block_15_depthwise_BN[0][0]      \n",
      "__________________________________________________________________________________________________\n",
      "block_15_project (Conv2D)       (None, 7, 7, 160)    153600      block_15_depthwise_relu[0][0]    \n",
      "__________________________________________________________________________________________________\n",
      "block_15_project_BN (BatchNorma (None, 7, 7, 160)    640         block_15_project[0][0]           \n",
      "__________________________________________________________________________________________________\n",
      "block_15_add (Add)              (None, 7, 7, 160)    0           block_14_add[0][0]               \n",
      "                                                                 block_15_project_BN[0][0]        \n",
      "__________________________________________________________________________________________________\n",
      "block_16_expand (Conv2D)        (None, 7, 7, 960)    153600      block_15_add[0][0]               \n",
      "__________________________________________________________________________________________________\n",
      "block_16_expand_BN (BatchNormal (None, 7, 7, 960)    3840        block_16_expand[0][0]            \n",
      "__________________________________________________________________________________________________\n",
      "block_16_expand_relu (ReLU)     (None, 7, 7, 960)    0           block_16_expand_BN[0][0]         \n",
      "__________________________________________________________________________________________________\n",
      "block_16_depthwise (DepthwiseCo (None, 7, 7, 960)    8640        block_16_expand_relu[0][0]       \n",
      "__________________________________________________________________________________________________\n",
      "block_16_depthwise_BN (BatchNor (None, 7, 7, 960)    3840        block_16_depthwise[0][0]         \n",
      "__________________________________________________________________________________________________\n",
      "block_16_depthwise_relu (ReLU)  (None, 7, 7, 960)    0           block_16_depthwise_BN[0][0]      \n",
      "__________________________________________________________________________________________________\n",
      "block_16_project (Conv2D)       (None, 7, 7, 320)    307200      block_16_depthwise_relu[0][0]    \n",
      "__________________________________________________________________________________________________\n",
      "block_16_project_BN (BatchNorma (None, 7, 7, 320)    1280        block_16_project[0][0]           \n",
      "__________________________________________________________________________________________________\n",
      "Conv_1 (Conv2D)                 (None, 7, 7, 1280)   409600      block_16_project_BN[0][0]        \n",
      "__________________________________________________________________________________________________\n",
      "Conv_1_bn (BatchNormalization)  (None, 7, 7, 1280)   5120        Conv_1[0][0]                     \n",
      "__________________________________________________________________________________________________\n",
      "out_relu (ReLU)                 (None, 7, 7, 1280)   0           Conv_1_bn[0][0]                  \n",
      "__________________________________________________________________________________________________\n",
      "flatten (Flatten)               (None, 62720)        0           out_relu[0][0]                   \n",
      "__________________________________________________________________________________________________\n",
      "dense (Dense)                   (None, 224)          14049504    flatten[0][0]                    \n",
      "__________________________________________________________________________________________________\n",
      "dropout (Dropout)               (None, 224)          0           dense[0][0]                      \n",
      "__________________________________________________________________________________________________\n",
      "dense_1 (Dense)                 (None, 6)            1350        dropout[0][0]                    \n",
      "==================================================================================================\n",
      "Total params: 16,308,838\n",
      "Trainable params: 14,050,854\n",
      "Non-trainable params: 2,257,984\n",
      "__________________________________________________________________________________________________\n",
      "None\n"
     ]
    }
   ],
   "source": [
    "with strategy.scope():\n",
    "    num_classes = int(input('How Many classes?'))\n",
    "\n",
    "    FC_Head = addTopModelMobileNetV2(derived_model, num_classes)\n",
    "\n",
    "    model = Model(inputs=derived_model.input, outputs=FC_Head)\n",
    "    \n",
    "    checkpoint = ModelCheckpoint(\"./05_SixRace_Woman_MobileNetV2_top2_tpu.h5\",\n",
    "                                 monitor=\"val_loss\",\n",
    "                                 mode=\"min\",\n",
    "                                 save_best_only = True,\n",
    "                                 verbose=1)\n",
    "\n",
    "    earlystop = EarlyStopping(monitor = 'val_loss', \n",
    "                              min_delta = 0, \n",
    "                              patience = 25,\n",
    "                              verbose = 1,\n",
    "                              restore_best_weights = True)\n",
    "\n",
    "    # we put our call backs into a callback list\n",
    "    callbacks = [earlystop, checkpoint]\n",
    "    \n",
    "    # Note we use a very small learning rate \n",
    "    model.compile(loss = 'categorical_crossentropy',\n",
    "                  optimizer = RMSprop(lr = 0.001),\n",
    "                  metrics = ['accuracy'])\n",
    "\n",
    "print(model.summary())"
   ]
  },
  {
   "cell_type": "code",
   "execution_count": null,
   "metadata": {},
   "outputs": [],
   "source": [
    "from keras.utils.vis_utils import plot_model\n",
    "#model\n",
    "plot_model(model, to_file='ethnicity_mmix_gmix_Mobnet_topv1.png', show_shapes=True, show_layer_names=True)"
   ]
  },
  {
   "cell_type": "markdown",
   "metadata": {},
   "source": [
    "## Load Dataset"
   ]
  },
  {
   "cell_type": "code",
   "execution_count": 9,
   "metadata": {
    "execution": {
     "iopub.execute_input": "2021-09-02T17:02:40.647619Z",
     "iopub.status.busy": "2021-09-02T17:02:40.647257Z",
     "iopub.status.idle": "2021-09-02T17:03:21.435386Z",
     "shell.execute_reply": "2021-09-02T17:03:21.434590Z",
     "shell.execute_reply.started": "2021-09-02T17:02:40.647589Z"
    }
   },
   "outputs": [
    {
     "name": "stderr",
     "output_type": "stream",
     "text": [
      "  0%|          | 0/6 [00:00<?, ?it/s]"
     ]
    },
    {
     "name": "stdout",
     "output_type": "stream",
     "text": [
      "Loading...\n"
     ]
    },
    {
     "name": "stderr",
     "output_type": "stream",
     "text": [
      "100%|██████████| 6/6 [00:40<00:00,  6.76s/it]"
     ]
    },
    {
     "name": "stdout",
     "output_type": "stream",
     "text": [
      "Training Data And Labels Are Built!!\n"
     ]
    },
    {
     "name": "stderr",
     "output_type": "stream",
     "text": [
      "\n"
     ]
    }
   ],
   "source": [
    "import numpy as np\n",
    "import matplotlib.pyplot as plt\n",
    "import os\n",
    "import cv2\n",
    "import random\n",
    "\n",
    "DATADIR = '../input/ds-race-mixmask-gensep/Female_Train/'\n",
    "path_folder = glob.glob(str(DATADIR)+'*')\n",
    "\n",
    "CATEGORIES = []\n",
    "\n",
    "for content in path_folder:\n",
    "    CATEGORIES.append(content.split('/')[-1])\n",
    "\n",
    "IMG_SIZE = size_of_input\n",
    "\n",
    "training_data_color = []\n",
    "class_index = []\n",
    "\n",
    "def build_training_data():\n",
    "    #count = 0\n",
    "    for category in tqdm(CATEGORIES):\n",
    "        path = os.path.join (DATADIR, category) # path to each\n",
    "        class_num = CATEGORIES.index(category)\n",
    "        class_index.append(class_num)\n",
    "        for img in os.listdir(path):\n",
    "            try:\n",
    "                img_array = cv2.imread (os.path.join(path,img))\n",
    "                new_array = cv2.resize (img_array, (IMG_SIZE,IMG_SIZE))\n",
    "                training_data_color.append([new_array,class_num])\n",
    "                \n",
    "                #if (count %600 == 0):\n",
    "                #    print('PROGRESS:',round(100*count/6000,2),'%')\n",
    "                #count +=1\n",
    "                \n",
    "            except Exception as e:\n",
    "                count +=1\n",
    "                pass\n",
    "\n",
    "print('Loading...')\n",
    "build_training_data()\n",
    "print('Training Data And Labels Are Built!!')"
   ]
  },
  {
   "cell_type": "code",
   "execution_count": 10,
   "metadata": {
    "execution": {
     "iopub.execute_input": "2021-09-02T17:03:42.409456Z",
     "iopub.status.busy": "2021-09-02T17:03:42.407991Z",
     "iopub.status.idle": "2021-09-02T17:03:42.435683Z",
     "shell.execute_reply": "2021-09-02T17:03:42.434554Z",
     "shell.execute_reply.started": "2021-09-02T17:03:42.409392Z"
    }
   },
   "outputs": [
    {
     "name": "stdout",
     "output_type": "stream",
     "text": [
      "True\n"
     ]
    }
   ],
   "source": [
    "a = os.listdir('../input/ds-race-mixmask-gensep/Female_Test')\n",
    "b = os.listdir('../input/ds-race-mixmask-gensep/Female_Train')\n",
    "print(a==b)"
   ]
  },
  {
   "cell_type": "code",
   "execution_count": 11,
   "metadata": {
    "execution": {
     "iopub.execute_input": "2021-09-02T17:03:45.171852Z",
     "iopub.status.busy": "2021-09-02T17:03:45.171501Z",
     "iopub.status.idle": "2021-09-02T17:03:45.177606Z",
     "shell.execute_reply": "2021-09-02T17:03:45.176450Z",
     "shell.execute_reply.started": "2021-09-02T17:03:45.171823Z"
    }
   },
   "outputs": [
    {
     "name": "stdout",
     "output_type": "stream",
     "text": [
      "['Arab', 'African', 'East_Asian', 'Caucasian', 'ASEAN', 'South_Asian']\n",
      "[0, 1, 2, 3, 4, 5]\n",
      "0\n",
      "1\n",
      "2\n",
      "3\n",
      "4\n",
      "5\n"
     ]
    }
   ],
   "source": [
    "print(CATEGORIES)\n",
    "print(class_index)\n",
    "\n",
    "for kk in CATEGORIES:\n",
    "    print(CATEGORIES.index(kk))"
   ]
  },
  {
   "cell_type": "code",
   "execution_count": 12,
   "metadata": {
    "execution": {
     "iopub.execute_input": "2021-09-02T17:03:49.301704Z",
     "iopub.status.busy": "2021-09-02T17:03:49.301202Z",
     "iopub.status.idle": "2021-09-02T17:03:49.531693Z",
     "shell.execute_reply": "2021-09-02T17:03:49.530378Z",
     "shell.execute_reply.started": "2021-09-02T17:03:49.301674Z"
    }
   },
   "outputs": [
    {
     "name": "stdout",
     "output_type": "stream",
     "text": [
      "1. Shuffling The Training Data\n",
      "2. Separate Features and Labels\n",
      "3. Convert Them into np.array\n",
      "4. Check their size/shape\n",
      "(3000, 224, 224, 3)\n",
      "(3000,)\n"
     ]
    }
   ],
   "source": [
    "#Shuffle\n",
    "print('1. Shuffling The Training Data')\n",
    "random.shuffle (training_data_color)\n",
    "\n",
    "print('2. Separate Features and Labels')\n",
    "X_train_color = []\n",
    "y_train_color = []\n",
    "\n",
    "for features, labels in training_data_color:\n",
    "    X_train_color.append(features)\n",
    "    y_train_color.append (labels)\n",
    "    \n",
    "print('3. Convert Them into np.array')\n",
    "X_train_color = np.array (X_train_color)\n",
    "y_train_color = np.array (y_train_color)\n",
    "print('4. Check their size/shape')\n",
    "print (X_train_color.shape)\n",
    "print (y_train_color.shape)"
   ]
  },
  {
   "cell_type": "markdown",
   "metadata": {},
   "source": [
    "#### Load Testing Dataset"
   ]
  },
  {
   "cell_type": "code",
   "execution_count": 13,
   "metadata": {
    "execution": {
     "iopub.execute_input": "2021-09-02T17:03:53.741986Z",
     "iopub.status.busy": "2021-09-02T17:03:53.741612Z",
     "iopub.status.idle": "2021-09-02T17:04:06.145856Z",
     "shell.execute_reply": "2021-09-02T17:04:06.144822Z",
     "shell.execute_reply.started": "2021-09-02T17:03:53.741955Z"
    }
   },
   "outputs": [
    {
     "name": "stderr",
     "output_type": "stream",
     "text": [
      "100%|██████████| 6/6 [00:12<00:00,  2.07s/it]"
     ]
    },
    {
     "name": "stdout",
     "output_type": "stream",
     "text": [
      "Testing Data And Labels Are Built!!\n"
     ]
    },
    {
     "name": "stderr",
     "output_type": "stream",
     "text": [
      "\n"
     ]
    }
   ],
   "source": [
    "#create test dataset for colored images\n",
    "#print('--Loading testing Dataset--')\n",
    "#print('...wait...')\n",
    "import numpy as np\n",
    "import matplotlib.pyplot as plt\n",
    "import os\n",
    "import cv2\n",
    "import random\n",
    "\n",
    "DATADIR = '../input/ds-race-mixmask-gensep/Female_Test/'\n",
    "\n",
    "testing_data_color = []\n",
    "\n",
    "def build_testing_data():\n",
    "    for category in tqdm(CATEGORIES):\n",
    "        path = os.path.join (DATADIR, category) # path to each\n",
    "        class_num = CATEGORIES.index(category)\n",
    "        for img in os.listdir(path):\n",
    "            try:\n",
    "                img_array = cv2.imread (os.path.join(path,img))\n",
    "                new_array = cv2.resize (img_array, (IMG_SIZE,IMG_SIZE))\n",
    "                testing_data_color.append([new_array,class_num])\n",
    "            except Exception as e:\n",
    "                pass\n",
    "\n",
    "build_testing_data()\n",
    "print('Testing Data And Labels Are Built!!')"
   ]
  },
  {
   "cell_type": "code",
   "execution_count": 14,
   "metadata": {
    "execution": {
     "iopub.execute_input": "2021-09-02T17:04:12.216643Z",
     "iopub.status.busy": "2021-09-02T17:04:12.216288Z",
     "iopub.status.idle": "2021-09-02T17:04:12.226228Z",
     "shell.execute_reply": "2021-09-02T17:04:12.225200Z",
     "shell.execute_reply.started": "2021-09-02T17:04:12.216615Z"
    }
   },
   "outputs": [
    {
     "name": "stdout",
     "output_type": "stream",
     "text": [
      "['Arab', 'African', 'East_Asian', 'Caucasian', 'ASEAN', 'South_Asian']\n",
      "['Arab', 'African', 'East_Asian', 'Caucasian', 'ASEAN', 'South_Asian']\n",
      "0\n",
      "1\n",
      "2\n",
      "3\n",
      "4\n",
      "5\n"
     ]
    }
   ],
   "source": [
    "print(CATEGORIES)\n",
    "print(os.listdir(DATADIR))\n",
    "\n",
    "for kk in CATEGORIES:\n",
    "    print(CATEGORIES.index(kk))"
   ]
  },
  {
   "cell_type": "code",
   "execution_count": 15,
   "metadata": {
    "execution": {
     "iopub.execute_input": "2021-09-02T17:04:15.178769Z",
     "iopub.status.busy": "2021-09-02T17:04:15.178421Z",
     "iopub.status.idle": "2021-09-02T17:04:15.273279Z",
     "shell.execute_reply": "2021-09-02T17:04:15.272227Z",
     "shell.execute_reply.started": "2021-09-02T17:04:15.178739Z"
    }
   },
   "outputs": [
    {
     "name": "stdout",
     "output_type": "stream",
     "text": [
      "0. Overview of Testing Dataset:  1200\n",
      "1. Shuffled\n",
      "2. Testing Labels and Features Separated\n",
      "3. Each Testing Labels and Features Are converted into np.array\n",
      "4. Overview after type conversion:\n",
      "(1200, 224, 224, 3)\n",
      "(1200,)\n"
     ]
    }
   ],
   "source": [
    "print('0. Overview of Testing Dataset: ',len(testing_data_color))\n",
    "random.shuffle(testing_data_color)\n",
    "print('1. Shuffled')\n",
    "X_test_color = [] #feature set\n",
    "y_test_color = [] # label\n",
    "\n",
    "for features, labels in testing_data_color:\n",
    "    X_test_color.append(features)\n",
    "    y_test_color.append (labels)\n",
    "    \n",
    "print('2. Testing Labels and Features Separated')\n",
    "\n",
    "X_test_color = np.array(X_test_color)\n",
    "y_test_color = np.array(y_test_color)\n",
    "\n",
    "print('3. Each Testing Labels and Features Are converted into np.array')\n",
    "\n",
    "print('4. Overview after type conversion:')\n",
    "print (X_test_color.shape)\n",
    "print (y_test_color.shape)"
   ]
  },
  {
   "cell_type": "markdown",
   "metadata": {},
   "source": [
    "## Step 2A: Examine the size and image dimenions\n",
    "\n",
    "- Check the number of samples, dimenions and whether images are color or grayscale\n",
    "- We see that our training data consist of 1200 samples of training data, 216 samples of test data\n",
    "- Our labels are appropriately sized as well\n",
    "- Our Image dimenions are 224 x 224, with 3 color channels (i.e. they are BGR, so not grayscale channel)"
   ]
  },
  {
   "cell_type": "code",
   "execution_count": 16,
   "metadata": {
    "execution": {
     "iopub.execute_input": "2021-09-02T17:04:18.643138Z",
     "iopub.status.busy": "2021-09-02T17:04:18.642770Z",
     "iopub.status.idle": "2021-09-02T17:04:18.652766Z",
     "shell.execute_reply": "2021-09-02T17:04:18.651670Z",
     "shell.execute_reply.started": "2021-09-02T17:04:18.643106Z"
    }
   },
   "outputs": [
    {
     "name": "stdout",
     "output_type": "stream",
     "text": [
      "Initial shape or dimensions of x_train (3000, 224, 224, 3)\n",
      "Number of samples in our training data: 3000\n",
      "Number of labels in our training data: 3000\n",
      "Number of samples in our test data: 1200\n",
      "Number of labels in our test data: 1200\n",
      "\n",
      "Dimensions of x_train:(224, 224, 3)\n",
      "Labels in x_train:(3000,)\n",
      "\n",
      "Dimensions of x_test:(224, 224, 3)\n",
      "Labels in y_test:(1200,)\n"
     ]
    }
   ],
   "source": [
    "# printing the number of samples in x_train, x_test, y_train, y_test\n",
    "print(\"Initial shape or dimensions of x_train\", str(X_train_color.shape))\n",
    "\n",
    "print (\"Number of samples in our training data: \" + str(len(X_train_color)))\n",
    "print (\"Number of labels in our training data: \" + str(len(y_train_color)))\n",
    "print (\"Number of samples in our test data: \" + str(len(X_test_color)))\n",
    "print (\"Number of labels in our test data: \" + str(len(y_test_color)))\n",
    "print()\n",
    "print (\"Dimensions of x_train:\" + str(X_train_color[0].shape))\n",
    "print (\"Labels in x_train:\" + str(y_train_color.shape))\n",
    "print()\n",
    "print (\"Dimensions of x_test:\" + str(X_test_color[0].shape))\n",
    "print (\"Labels in y_test:\" + str(y_test_color.shape))"
   ]
  },
  {
   "cell_type": "markdown",
   "metadata": {},
   "source": [
    "### Step 2B - Let's take a look at some of images in this dataset\n",
    "- Using OpenCV\n",
    "- Using Matplotlib"
   ]
  },
  {
   "cell_type": "code",
   "execution_count": 17,
   "metadata": {
    "execution": {
     "iopub.execute_input": "2021-09-02T17:04:22.951510Z",
     "iopub.status.busy": "2021-09-02T17:04:22.951125Z",
     "iopub.status.idle": "2021-09-02T17:04:23.529266Z",
     "shell.execute_reply": "2021-09-02T17:04:23.528178Z",
     "shell.execute_reply.started": "2021-09-02T17:04:22.951480Z"
    }
   },
   "outputs": [
    {
     "data": {
      "image/png": "[encoded data removed]",
      "text/plain": [
       "<Figure size 432x288 with 6 Axes>"
      ]
     },
     "metadata": {
      "needs_background": "light"
     },
     "output_type": "display_data"
    }
   ],
   "source": [
    "# importing matplot lib\n",
    "import matplotlib.pyplot as plt\n",
    "\n",
    "# Plots 6 images, note subplot's arugments are nrows,ncols,index\n",
    "# we set the color map to grey since our image dataset is grayscale\n",
    "plt.subplot(331)\n",
    "random_num = np.random.randint(0,len(X_train_color))\n",
    "plt.imshow(X_train_color[random_num], cmap=plt.get_cmap('gray'))\n",
    "\n",
    "plt.subplot(332)\n",
    "random_num = np.random.randint(0,len(X_train_color))\n",
    "plt.imshow(X_train_color[random_num], cmap=plt.get_cmap('gray'))\n",
    "\n",
    "plt.subplot(333)\n",
    "random_num = np.random.randint(0,len(X_train_color))\n",
    "plt.imshow(X_train_color[random_num], cmap=plt.get_cmap('gray'))\n",
    "\n",
    "plt.subplot(334)\n",
    "random_num = np.random.randint(0,len(X_train_color))\n",
    "plt.imshow(X_train_color[random_num], cmap=plt.get_cmap('gray'))\n",
    "\n",
    "plt.subplot(335)\n",
    "random_num = np.random.randint(0,len(X_train_color))\n",
    "plt.imshow(X_train_color[random_num], cmap=plt.get_cmap('gray'))\n",
    "\n",
    "plt.subplot(336)\n",
    "random_num = np.random.randint(0,len(X_train_color))\n",
    "plt.imshow(X_train_color[random_num], cmap=plt.get_cmap('gray'))\n",
    "\n",
    "# Display out plots\n",
    "plt.show()"
   ]
  },
  {
   "cell_type": "markdown",
   "metadata": {},
   "source": [
    "### Convert X_train and X_test into Keras format and shape"
   ]
  },
  {
   "cell_type": "code",
   "execution_count": 18,
   "metadata": {
    "execution": {
     "iopub.execute_input": "2021-09-02T17:04:28.342172Z",
     "iopub.status.busy": "2021-09-02T17:04:28.341791Z",
     "iopub.status.idle": "2021-09-02T17:04:29.448395Z",
     "shell.execute_reply": "2021-09-02T17:04:29.447242Z",
     "shell.execute_reply.started": "2021-09-02T17:04:28.342132Z"
    }
   },
   "outputs": [
    {
     "name": "stdout",
     "output_type": "stream",
     "text": [
      "X_train_color shape: (3000, 224, 224, 3)\n",
      "3000 train samples\n",
      "1200 test samples\n"
     ]
    }
   ],
   "source": [
    "# Lets store the number of rows and columns\n",
    "img_rows = X_train_color[0].shape[0]\n",
    "img_cols = X_train_color[0].shape[1]\n",
    "\n",
    "# Getting our date in the right 'shape' needed for Keras\n",
    "# We need to add a 4th dimenion to our date thereby changing our\n",
    "# Our original image shape of (60000,28,28) to (60000,28,28,1)\n",
    "X_train_color = X_train_color.reshape(X_train_color.shape[0], img_rows, img_cols, 3)\n",
    "X_test_color = X_test_color.reshape(X_test_color.shape[0], img_rows, img_cols, 3)\n",
    "\n",
    "# store the shape of a single image \n",
    "input_shape = (img_rows, img_cols, 3)\n",
    "\n",
    "# change our image type to float32 data type\n",
    "X_train_color = X_train_color.astype('float32')\n",
    "X_test_color = X_test_color.astype('float32')\n",
    "\n",
    "# Normalize our data by changing the range from (0 to 255) to (0 to 1)\n",
    "X_train_color /= 255\n",
    "X_test_color /= 255\n",
    "\n",
    "print('X_train_color shape:', X_train_color.shape)\n",
    "print(X_train_color.shape[0], 'train samples')\n",
    "print(X_test_color.shape[0], 'test samples')\n"
   ]
  },
  {
   "cell_type": "markdown",
   "metadata": {},
   "source": [
    "## One-hot encode the labels of both train and test dataset"
   ]
  },
  {
   "cell_type": "code",
   "execution_count": 19,
   "metadata": {
    "execution": {
     "iopub.execute_input": "2021-09-02T17:04:34.054424Z",
     "iopub.status.busy": "2021-09-02T17:04:34.054061Z",
     "iopub.status.idle": "2021-09-02T17:04:34.063339Z",
     "shell.execute_reply": "2021-09-02T17:04:34.062330Z",
     "shell.execute_reply.started": "2021-09-02T17:04:34.054393Z"
    }
   },
   "outputs": [
    {
     "name": "stdout",
     "output_type": "stream",
     "text": [
      "Number of Classes: 6\n"
     ]
    }
   ],
   "source": [
    "import tensorflow as tf\n",
    "from tensorflow import keras \n",
    "from keras.utils import np_utils\n",
    "\n",
    "# Now we one hot encode outputs\n",
    "y_train_color = np_utils.to_categorical(y_train_color)\n",
    "y_test_color = np_utils.to_categorical(y_test_color)\n",
    "\n",
    "# Let's count the number columns in our hot encoded matrix \n",
    "print (\"Number of Classes: \" + str(y_test_color.shape[1]))\n",
    "\n",
    "num_classes = y_test_color.shape[1]\n",
    "num_pixels = X_train_color.shape[1] * X_train_color.shape[2]"
   ]
  },
  {
   "cell_type": "markdown",
   "metadata": {},
   "source": [
    "## THEN TRAINING"
   ]
  },
  {
   "cell_type": "code",
   "execution_count": 20,
   "metadata": {
    "execution": {
     "iopub.execute_input": "2021-09-02T17:04:43.520313Z",
     "iopub.status.busy": "2021-09-02T17:04:43.519903Z",
     "iopub.status.idle": "2021-09-02T17:06:11.919422Z",
     "shell.execute_reply": "2021-09-02T17:06:11.917665Z",
     "shell.execute_reply.started": "2021-09-02T17:04:43.520279Z"
    }
   },
   "outputs": [
    {
     "name": "stdout",
     "output_type": "stream",
     "text": [
      "Training started, with epoch plan:  500\n",
      "........wait until finish........\n",
      "Epoch 1/500\n",
      "23/23 [==============================] - 27s 755ms/step - loss: 44.1925 - accuracy: 0.2849 - val_loss: 1.2638 - val_accuracy: 0.5392\n",
      "\n",
      "Epoch 00001: val_loss improved from inf to 1.26384, saving model to ./05_SixRace_Woman_MobileNetV2_top2_tpu.h5\n",
      "Epoch 2/500\n",
      "23/23 [==============================] - 1s 63ms/step - loss: 1.5161 - accuracy: 0.5336 - val_loss: 1.3656 - val_accuracy: 0.4792\n",
      "\n",
      "Epoch 00002: val_loss did not improve from 1.26384\n",
      "Epoch 3/500\n",
      "23/23 [==============================] - 1s 63ms/step - loss: 1.4327 - accuracy: 0.5019 - val_loss: 1.3132 - val_accuracy: 0.4525\n",
      "\n",
      "Epoch 00003: val_loss did not improve from 1.26384\n",
      "Epoch 4/500\n",
      "23/23 [==============================] - 1s 63ms/step - loss: 2.1545 - accuracy: 0.4805 - val_loss: 1.2642 - val_accuracy: 0.4975\n",
      "\n",
      "Epoch 00004: val_loss did not improve from 1.26384\n",
      "Epoch 5/500\n",
      "23/23 [==============================] - 1s 59ms/step - loss: 1.3886 - accuracy: 0.5693 - val_loss: 1.5216 - val_accuracy: 0.4717\n",
      "\n",
      "Epoch 00005: val_loss did not improve from 1.26384\n",
      "Epoch 6/500\n",
      "23/23 [==============================] - 1s 59ms/step - loss: 1.1189 - accuracy: 0.6764 - val_loss: 1.3320 - val_accuracy: 0.5717\n",
      "\n",
      "Epoch 00006: val_loss did not improve from 1.26384\n",
      "Epoch 7/500\n",
      "23/23 [==============================] - 1s 59ms/step - loss: 1.1212 - accuracy: 0.6769 - val_loss: 1.0904 - val_accuracy: 0.6217\n",
      "\n",
      "Epoch 00007: val_loss improved from 1.26384 to 1.09042, saving model to ./05_SixRace_Woman_MobileNetV2_top2_tpu.h5\n",
      "Epoch 8/500\n",
      "23/23 [==============================] - 1s 59ms/step - loss: 0.6494 - accuracy: 0.7663 - val_loss: 1.2806 - val_accuracy: 0.5750\n",
      "\n",
      "Epoch 00008: val_loss did not improve from 1.09042\n",
      "Epoch 9/500\n",
      "23/23 [==============================] - 1s 61ms/step - loss: 0.5822 - accuracy: 0.7958 - val_loss: 1.6656 - val_accuracy: 0.5608\n",
      "\n",
      "Epoch 00009: val_loss did not improve from 1.09042\n",
      "Epoch 10/500\n",
      "23/23 [==============================] - 1s 60ms/step - loss: 0.4960 - accuracy: 0.8170 - val_loss: 1.4900 - val_accuracy: 0.6150\n",
      "\n",
      "Epoch 00010: val_loss did not improve from 1.09042\n",
      "Epoch 11/500\n",
      "23/23 [==============================] - 1s 59ms/step - loss: 0.4676 - accuracy: 0.8347 - val_loss: 1.2092 - val_accuracy: 0.6525\n",
      "\n",
      "Epoch 00011: val_loss did not improve from 1.09042\n",
      "Epoch 12/500\n",
      "23/23 [==============================] - 1s 63ms/step - loss: 0.4005 - accuracy: 0.8489 - val_loss: 1.2133 - val_accuracy: 0.6692\n",
      "\n",
      "Epoch 00012: val_loss did not improve from 1.09042\n",
      "Epoch 13/500\n",
      "23/23 [==============================] - 1s 59ms/step - loss: 0.3760 - accuracy: 0.8715 - val_loss: 1.1580 - val_accuracy: 0.6517\n",
      "\n",
      "Epoch 00013: val_loss did not improve from 1.09042\n",
      "Epoch 14/500\n",
      "23/23 [==============================] - 1s 58ms/step - loss: 0.2425 - accuracy: 0.9044 - val_loss: 1.3912 - val_accuracy: 0.6717\n",
      "\n",
      "Epoch 00014: val_loss did not improve from 1.09042\n",
      "Epoch 15/500\n",
      "23/23 [==============================] - 2s 73ms/step - loss: 0.2917 - accuracy: 0.9090 - val_loss: 1.4114 - val_accuracy: 0.6550\n",
      "\n",
      "Epoch 00015: val_loss did not improve from 1.09042\n",
      "Epoch 16/500\n",
      "23/23 [==============================] - 1s 59ms/step - loss: 0.3123 - accuracy: 0.9037 - val_loss: 1.2449 - val_accuracy: 0.7008\n",
      "\n",
      "Epoch 00016: val_loss did not improve from 1.09042\n",
      "Epoch 17/500\n",
      "23/23 [==============================] - 1s 59ms/step - loss: 0.1846 - accuracy: 0.9288 - val_loss: 1.4775 - val_accuracy: 0.7025\n",
      "\n",
      "Epoch 00017: val_loss did not improve from 1.09042\n",
      "Epoch 18/500\n",
      "23/23 [==============================] - 1s 59ms/step - loss: 0.2490 - accuracy: 0.9120 - val_loss: 1.4675 - val_accuracy: 0.6700\n",
      "\n",
      "Epoch 00018: val_loss did not improve from 1.09042\n",
      "Epoch 19/500\n",
      "23/23 [==============================] - 1s 58ms/step - loss: 0.2813 - accuracy: 0.9069 - val_loss: 2.0499 - val_accuracy: 0.6417\n",
      "\n",
      "Epoch 00019: val_loss did not improve from 1.09042\n",
      "Epoch 20/500\n",
      "23/23 [==============================] - 1s 58ms/step - loss: 0.3123 - accuracy: 0.8922 - val_loss: 1.3508 - val_accuracy: 0.7000\n",
      "\n",
      "Epoch 00020: val_loss did not improve from 1.09042\n",
      "Epoch 21/500\n",
      "23/23 [==============================] - 1s 58ms/step - loss: 0.1952 - accuracy: 0.9358 - val_loss: 1.2222 - val_accuracy: 0.6950\n",
      "\n",
      "Epoch 00021: val_loss did not improve from 1.09042\n",
      "Epoch 22/500\n",
      "23/23 [==============================] - 1s 59ms/step - loss: 0.1913 - accuracy: 0.9327 - val_loss: 1.5082 - val_accuracy: 0.7017\n",
      "\n",
      "Epoch 00022: val_loss did not improve from 1.09042\n",
      "Epoch 23/500\n",
      "23/23 [==============================] - 1s 59ms/step - loss: 0.1108 - accuracy: 0.9586 - val_loss: 1.5864 - val_accuracy: 0.7083\n",
      "\n",
      "Epoch 00023: val_loss did not improve from 1.09042\n",
      "Epoch 24/500\n",
      "23/23 [==============================] - 1s 59ms/step - loss: 0.1365 - accuracy: 0.9498 - val_loss: 1.7205 - val_accuracy: 0.6683\n",
      "\n",
      "Epoch 00024: val_loss did not improve from 1.09042\n",
      "Epoch 25/500\n",
      "23/23 [==============================] - 1s 60ms/step - loss: 0.1562 - accuracy: 0.9535 - val_loss: 1.7465 - val_accuracy: 0.7183\n",
      "\n",
      "Epoch 00025: val_loss did not improve from 1.09042\n",
      "Epoch 26/500\n",
      "23/23 [==============================] - 1s 59ms/step - loss: 0.1572 - accuracy: 0.9506 - val_loss: 2.4232 - val_accuracy: 0.6658\n",
      "\n",
      "Epoch 00026: val_loss did not improve from 1.09042\n",
      "Epoch 27/500\n",
      "23/23 [==============================] - 1s 58ms/step - loss: 0.2101 - accuracy: 0.9467 - val_loss: 1.7812 - val_accuracy: 0.6875\n",
      "\n",
      "Epoch 00027: val_loss did not improve from 1.09042\n",
      "Epoch 28/500\n",
      "23/23 [==============================] - 1s 59ms/step - loss: 0.1500 - accuracy: 0.9496 - val_loss: 2.4629 - val_accuracy: 0.6608\n",
      "\n",
      "Epoch 00028: val_loss did not improve from 1.09042\n",
      "Epoch 29/500\n",
      "23/23 [==============================] - 1s 58ms/step - loss: 0.1886 - accuracy: 0.9427 - val_loss: 2.2447 - val_accuracy: 0.6625\n",
      "\n",
      "Epoch 00029: val_loss did not improve from 1.09042\n",
      "Epoch 30/500\n",
      "23/23 [==============================] - 1s 60ms/step - loss: 0.1930 - accuracy: 0.9445 - val_loss: 2.3219 - val_accuracy: 0.6667\n",
      "\n",
      "Epoch 00030: val_loss did not improve from 1.09042\n",
      "Epoch 31/500\n",
      "23/23 [==============================] - 1s 60ms/step - loss: 0.1310 - accuracy: 0.9613 - val_loss: 1.5565 - val_accuracy: 0.7017\n",
      "\n",
      "Epoch 00031: val_loss did not improve from 1.09042\n",
      "Epoch 32/500\n",
      "23/23 [==============================] - 1s 60ms/step - loss: 0.1306 - accuracy: 0.9544 - val_loss: 2.7635 - val_accuracy: 0.6383\n",
      "Restoring model weights from the end of the best epoch.\n",
      "\n",
      "Epoch 00032: val_loss did not improve from 1.09042\n",
      "Epoch 00032: early stopping\n",
      "--FINISH--\n",
      "Total time:  1 minutes 28 seconds\n"
     ]
    }
   ],
   "source": [
    "import timeit\n",
    "# We only train 5 EPOCHS\n",
    "nb_train_samples = X_train_color.shape[0]\n",
    "nb_validation_samples = X_test_color.shape[0]\n",
    "\n",
    "EPOCHS = 500\n",
    "batch_size = 16*strategy.num_replicas_in_sync\n",
    "#batch_size = 128\n",
    "\n",
    "start = timeit.default_timer()\n",
    "print('Training started, with epoch plan: ', EPOCHS)\n",
    "print('........wait until finish........')\n",
    "\n",
    "#history = model.fit_generator( <--is deprecated and will be removed in a future version\n",
    "history = model.fit(\n",
    "    X_train_color, y_train_color,\n",
    "    steps_per_epoch = nb_train_samples // batch_size,\n",
    "    epochs = EPOCHS,\n",
    "    callbacks = callbacks,\n",
    "    validation_data = (X_test_color, y_test_color),\n",
    "    validation_steps = nb_validation_samples // batch_size)\n",
    "\n",
    "stop = timeit.default_timer()\n",
    "print('--FINISH--')\n",
    "print('Total time: ',int((stop-start)//60),'minutes',int((stop-start)%60),'seconds')\n"
   ]
  },
  {
   "cell_type": "code",
   "execution_count": 22,
   "metadata": {
    "execution": {
     "iopub.execute_input": "2021-09-02T17:06:34.505370Z",
     "iopub.status.busy": "2021-09-02T17:06:34.504981Z",
     "iopub.status.idle": "2021-09-02T17:06:34.510977Z",
     "shell.execute_reply": "2021-09-02T17:06:34.510174Z",
     "shell.execute_reply.started": "2021-09-02T17:06:34.505338Z"
    }
   },
   "outputs": [
    {
     "name": "stdout",
     "output_type": "stream",
     "text": [
      "Time consumed: 2.76 second/epoch\n",
      "Training Speed: 22.0 epochs/minutes\n"
     ]
    }
   ],
   "source": [
    "print('Time consumed:',round((stop-start)/32,2),'second/epoch')\n",
    "print('Training Speed:',round(32*60/(stop-start),0),'epochs/minutes')"
   ]
  },
  {
   "cell_type": "markdown",
   "metadata": {},
   "source": [
    "## Calculate Training and model Performance"
   ]
  },
  {
   "cell_type": "code",
   "execution_count": 23,
   "metadata": {
    "execution": {
     "iopub.execute_input": "2021-09-02T17:06:37.477980Z",
     "iopub.status.busy": "2021-09-02T17:06:37.477437Z",
     "iopub.status.idle": "2021-09-02T17:06:37.668499Z",
     "shell.execute_reply": "2021-09-02T17:06:37.667260Z",
     "shell.execute_reply.started": "2021-09-02T17:06:37.477944Z"
    }
   },
   "outputs": [
    {
     "name": "stdout",
     "output_type": "stream",
     "text": [
      "--Loss curve after trained by TPU--\n"
     ]
    },
    {
     "data": {
      "image/png": "[encoded data removed]",
      "text/plain": [
       "<Figure size 432x288 with 1 Axes>"
      ]
     },
     "metadata": {
      "needs_background": "light"
     },
     "output_type": "display_data"
    }
   ],
   "source": [
    "# Plotting our loss charts\n",
    "import matplotlib.pyplot as plt\n",
    "print('--Loss curve after trained by TPU--')\n",
    "history_dict = history.history\n",
    "\n",
    "loss_values = history_dict['loss']\n",
    "val_loss_values = history_dict['val_loss']\n",
    "epochs = range(1, len(loss_values) + 1)\n",
    "\n",
    "line1 = plt.plot(epochs, val_loss_values, label='Validation/Test Loss')\n",
    "line2 = plt.plot(epochs, loss_values, label='Training Loss')\n",
    "plt.setp(line1, linewidth=2.0, marker = '+', markersize=10.0)\n",
    "plt.setp(line2, linewidth=2.0, marker = '4', markersize=10.0)\n",
    "plt.xlabel('Epochs') \n",
    "plt.ylabel('Loss')\n",
    "plt.grid(True)\n",
    "plt.legend()\n",
    "plt.show()\n"
   ]
  },
  {
   "cell_type": "code",
   "execution_count": 24,
   "metadata": {
    "execution": {
     "iopub.execute_input": "2021-09-02T17:06:40.701975Z",
     "iopub.status.busy": "2021-09-02T17:06:40.701606Z",
     "iopub.status.idle": "2021-09-02T17:06:40.888503Z",
     "shell.execute_reply": "2021-09-02T17:06:40.887612Z",
     "shell.execute_reply.started": "2021-09-02T17:06:40.701941Z"
    }
   },
   "outputs": [
    {
     "name": "stdout",
     "output_type": "stream",
     "text": [
      "--Accuracy curve after trained by TPU--\n"
     ]
    },
    {
     "data": {
      "image/png": "[encoded data removed]",
      "text/plain": [
       "<Figure size 432x288 with 1 Axes>"
      ]
     },
     "metadata": {
      "needs_background": "light"
     },
     "output_type": "display_data"
    }
   ],
   "source": [
    "# Plotting our accuracy charts\n",
    "import matplotlib.pyplot as plt\n",
    "\n",
    "history_dict = history.history\n",
    "print('--Accuracy curve after trained by TPU--')\n",
    "acc_values = history_dict['accuracy']\n",
    "val_acc_values = history_dict['val_accuracy']\n",
    "epochs = range(1, len(loss_values) + 1)\n",
    "\n",
    "line1 = plt.plot(epochs, val_acc_values, label='Validation/Test Accuracy')\n",
    "line2 = plt.plot(epochs, acc_values, label='Training Accuracy')\n",
    "plt.setp(line1, linewidth=2.0, marker = '+', markersize=10.0)\n",
    "plt.setp(line2, linewidth=2.0, marker = '4', markersize=10.0)\n",
    "plt.xlabel('Epochs') \n",
    "plt.ylabel('Accuracy')\n",
    "plt.grid(True)\n",
    "plt.legend()\n",
    "plt.show()\n"
   ]
  },
  {
   "cell_type": "code",
   "execution_count": 25,
   "metadata": {
    "execution": {
     "iopub.execute_input": "2021-09-02T17:06:57.490779Z",
     "iopub.status.busy": "2021-09-02T17:06:57.490425Z",
     "iopub.status.idle": "2021-09-02T17:07:06.736826Z",
     "shell.execute_reply": "2021-09-02T17:07:06.735713Z",
     "shell.execute_reply.started": "2021-09-02T17:06:57.490747Z"
    }
   },
   "outputs": [
    {
     "name": "stdout",
     "output_type": "stream",
     "text": [
      "Best condition:\n",
      "Test loss: 1.0907481908798218\n",
      "Test accuracy: 0.621666669845581\n"
     ]
    }
   ],
   "source": [
    "#Accuracy and Loss print\n",
    "score = model.evaluate(X_test_color, y_test_color, verbose=0)\n",
    "print('Best condition:')\n",
    "print('Test loss:', score[0])\n",
    "print('Test accuracy:', score[1])"
   ]
  },
  {
   "cell_type": "markdown",
   "metadata": {},
   "source": [
    "## Confusion Matrix "
   ]
  },
  {
   "cell_type": "code",
   "execution_count": 26,
   "metadata": {
    "execution": {
     "iopub.execute_input": "2021-09-02T17:07:12.790425Z",
     "iopub.status.busy": "2021-09-02T17:07:12.789867Z",
     "iopub.status.idle": "2021-09-02T17:07:24.696220Z",
     "shell.execute_reply": "2021-09-02T17:07:24.695096Z",
     "shell.execute_reply.started": "2021-09-02T17:07:12.790394Z"
    }
   },
   "outputs": [
    {
     "data": {
      "text/plain": [
       "<AxesSubplot:>"
      ]
     },
     "execution_count": 26,
     "metadata": {},
     "output_type": "execute_result"
    },
    {
     "data": {
      "image/png": "[encoded data removed]",
      "text/plain": [
       "<Figure size 432x432 with 2 Axes>"
      ]
     },
     "metadata": {
      "needs_background": "light"
     },
     "output_type": "display_data"
    }
   ],
   "source": [
    "import sklearn.metrics as metrics\n",
    "from sklearn.metrics import classification_report, confusion_matrix\n",
    "import seaborn as sn\n",
    "import pandas as pd\n",
    "import matplotlib.pyplot as plt\n",
    "\n",
    "\n",
    "label = tf.argmax(y_test_color, axis = 1)\n",
    "#prediction1 = model.predict_classes(X_test_color) <-- IF Sequential\n",
    "prediction1 = np.argmax(model.predict(X_test_color),axis=1) # <-- IF NOT Sequential\n",
    "\n",
    "matrix = metrics.confusion_matrix(label, prediction1)\n",
    "\n",
    "\n",
    "# CATEGORIES = \n",
    "\n",
    "df_cm = pd.DataFrame(matrix, index = [i for i in CATEGORIES],\n",
    "                  columns = [i for i in CATEGORIES])\n",
    "plt.figure(figsize = (6,6))\n",
    "sn.heatmap(df_cm, annot=True)"
   ]
  },
  {
   "cell_type": "code",
   "execution_count": 27,
   "metadata": {
    "execution": {
     "iopub.execute_input": "2021-09-02T17:07:28.370570Z",
     "iopub.status.busy": "2021-09-02T17:07:28.370153Z",
     "iopub.status.idle": "2021-09-02T17:07:28.385515Z",
     "shell.execute_reply": "2021-09-02T17:07:28.384642Z",
     "shell.execute_reply.started": "2021-09-02T17:07:28.370536Z"
    }
   },
   "outputs": [
    {
     "name": "stdout",
     "output_type": "stream",
     "text": [
      "Classification Report\n",
      "              precision    recall  f1-score   support\n",
      "\n",
      "        Arab       0.69      0.74      0.71       200\n",
      "     African       0.55      0.66      0.60       200\n",
      "  East_Asian       0.87      0.37      0.52       200\n",
      "   Caucasian       0.66      0.70      0.68       200\n",
      "       ASEAN       0.78      0.65      0.71       200\n",
      " South_Asian       0.43      0.60      0.50       200\n",
      "\n",
      "    accuracy                           0.62      1200\n",
      "   macro avg       0.66      0.62      0.62      1200\n",
      "weighted avg       0.66      0.62      0.62      1200\n",
      "\n"
     ]
    }
   ],
   "source": [
    "from sklearn.metrics import classification_report, confusion_matrix\n",
    "import numpy as np\n",
    "\n",
    "print('Classification Report')\n",
    "#target_names = CATEGORIES\n",
    "print(classification_report(label, prediction1, target_names=CATEGORIES))"
   ]
  },
  {
   "cell_type": "code",
   "execution_count": 28,
   "metadata": {
    "execution": {
     "iopub.execute_input": "2021-09-02T17:07:36.347237Z",
     "iopub.status.busy": "2021-09-02T17:07:36.346858Z",
     "iopub.status.idle": "2021-09-02T17:07:36.821834Z",
     "shell.execute_reply": "2021-09-02T17:07:36.820992Z",
     "shell.execute_reply.started": "2021-09-02T17:07:36.347206Z"
    }
   },
   "outputs": [
    {
     "name": "stdout",
     "output_type": "stream",
     "text": [
      "--Normalized Version of Confusion Matrix--\n"
     ]
    },
    {
     "data": {
      "text/plain": [
       "<AxesSubplot:>"
      ]
     },
     "execution_count": 28,
     "metadata": {},
     "output_type": "execute_result"
    },
    {
     "data": {
      "image/png": "[encoded data removed]",
      "text/plain": [
       "<Figure size 648x648 with 2 Axes>"
      ]
     },
     "metadata": {
      "needs_background": "light"
     },
     "output_type": "display_data"
    }
   ],
   "source": [
    "print('--Normalized Version of Confusion Matrix--')\n",
    "\n",
    "matrix = metrics.confusion_matrix(label, prediction1, normalize='true')\n",
    "\n",
    "df_cm = pd.DataFrame(matrix, index = [i for i in CATEGORIES],\n",
    "                  columns = [i for i in CATEGORIES])\n",
    "plt.figure(figsize = (9,9))\n",
    "sn.heatmap(df_cm, annot=True)\n"
   ]
  },
  {
   "cell_type": "code",
   "execution_count": null,
   "metadata": {},
   "outputs": [],
   "source": []
  },
  {
   "cell_type": "code",
   "execution_count": null,
   "metadata": {},
   "outputs": [],
   "source": []
  },
  {
   "cell_type": "code",
   "execution_count": null,
   "metadata": {},
   "outputs": [],
   "source": []
  },
  {
   "cell_type": "code",
   "execution_count": null,
   "metadata": {},
   "outputs": [],
   "source": []
  },
  {
   "cell_type": "code",
   "execution_count": null,
   "metadata": {},
   "outputs": [],
   "source": []
  },
  {
   "cell_type": "code",
   "execution_count": null,
   "metadata": {},
   "outputs": [],
   "source": []
  }
 ],
 "metadata": {
  "kernelspec": {
   "display_name": "Python 3",
   "language": "python",
   "name": "python3"
  },
  "language_info": {
   "codemirror_mode": {
    "name": "ipython",
    "version": 3
   },
   "file_extension": ".py",
   "mimetype": "text/x-python",
   "name": "python",
   "nbconvert_exporter": "python",
   "pygments_lexer": "ipython3",
   "version": "3.8.8"
  }
 },
 "nbformat": 4,
 "nbformat_minor": 4
}
