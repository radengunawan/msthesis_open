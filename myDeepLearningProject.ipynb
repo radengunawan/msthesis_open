{
 "cells": [
  {
   "cell_type": "markdown",
   "metadata": {},
   "source": [
    "## \n",
    "#### 108998408 - Raden Gunawan\n",
    "### Training Face Classifier"
   ]
  },
  {
   "cell_type": "code",
   "execution_count": 1,
   "metadata": {
    "execution": {
     "iopub.execute_input": "2021-06-13T16:28:07.449544Z",
     "iopub.status.busy": "2021-06-13T16:28:07.449145Z",
     "iopub.status.idle": "2021-06-13T16:28:09.567939Z",
     "shell.execute_reply": "2021-06-13T16:28:09.567133Z",
     "shell.execute_reply.started": "2021-06-13T16:28:07.449458Z"
    }
   },
   "outputs": [
    {
     "name": "stdout",
     "output_type": "stream",
     "text": [
      "Found 4800 images belonging to 6 classes.\n",
      "Found 1200 images belonging to 6 classes.\n"
     ]
    }
   ],
   "source": [
    "from __future__ import print_function\n",
    "import keras\n",
    "from keras.preprocessing.image import ImageDataGenerator\n",
    "from keras.models import Sequential\n",
    "from keras.layers import Dense, Dropout, Activation, Flatten\n",
    "from keras.layers import Conv2D, MaxPooling2D\n",
    "import os\n",
    "\n",
    "num_classes = 6\n",
    "img_rows, img_cols = 100, 100\n",
    "batch_size = 16\n",
    "\n",
    "from keras.preprocessing.image import ImageDataGenerator\n",
    "\n",
    "train_data_dir = '../input/face-datasets/face_datasets'\n",
    "validation_data_dir = '../input/face-testing/face_datasets_tests'\n",
    "\n",
    "# Let's use some data augmentaiton \n",
    "train_datagen = ImageDataGenerator(\n",
    "      rescale=1./255,                    # normalize pixel values to [0,1]\n",
    "      rotation_range=45,                 # randomly applies rotations until max. 90 degree\n",
    "      width_shift_range=0.3,            # randomly applies width shifting\n",
    "      height_shift_range=0.3,             # randomly applies height shifting\n",
    "      horizontal_flip=True,               # randonly flips the image\n",
    "      fill_mode='nearest')            # uses the fill mode nearest to fill gaps created by the above\n",
    " \n",
    "validation_datagen = ImageDataGenerator(rescale=1./255)\n",
    " \n",
    "train_generator = train_datagen.flow_from_directory(\n",
    "        train_data_dir,\n",
    "        target_size=(img_rows, img_cols),\n",
    "        batch_size=batch_size,\n",
    "        class_mode='categorical',\n",
    "        shuffle=True)\n",
    " \n",
    "validation_generator = validation_datagen.flow_from_directory(\n",
    "        validation_data_dir,\n",
    "        target_size=(img_rows, img_cols),\n",
    "        batch_size=batch_size,\n",
    "        class_mode='categorical',\n",
    "        shuffle=False)"
   ]
  },
  {
   "cell_type": "markdown",
   "metadata": {},
   "source": [
    "### Let's define our model"
   ]
  },
  {
   "cell_type": "markdown",
   "metadata": {},
   "source": [
    "##### create our layers to replicate AlexNet"
   ]
  },
  {
   "cell_type": "code",
   "execution_count": 2,
   "metadata": {
    "execution": {
     "iopub.execute_input": "2021-06-13T16:28:21.336462Z",
     "iopub.status.busy": "2021-06-13T16:28:21.336118Z",
     "iopub.status.idle": "2021-06-13T16:28:21.341533Z",
     "shell.execute_reply": "2021-06-13T16:28:21.340583Z",
     "shell.execute_reply.started": "2021-06-13T16:28:21.336432Z"
    }
   },
   "outputs": [],
   "source": [
    "from keras.layers.normalization import BatchNormalization\n",
    "from keras.regularizers import l2\n",
    "from keras.layers import ZeroPadding2D"
   ]
  },
  {
   "cell_type": "code",
   "execution_count": 3,
   "metadata": {
    "execution": {
     "iopub.execute_input": "2021-06-13T16:28:23.806151Z",
     "iopub.status.busy": "2021-06-13T16:28:23.805797Z",
     "iopub.status.idle": "2021-06-13T16:28:24.923845Z",
     "shell.execute_reply": "2021-06-13T16:28:24.923106Z",
     "shell.execute_reply.started": "2021-06-13T16:28:23.806118Z"
    }
   },
   "outputs": [
    {
     "name": "stdout",
     "output_type": "stream",
     "text": [
      "Model: \"sequential\"\n",
      "_________________________________________________________________\n",
      "Layer (type)                 Output Shape              Param #   \n",
      "=================================================================\n",
      "conv2d (Conv2D)              (None, 100, 100, 96)      34944     \n",
      "_________________________________________________________________\n",
      "batch_normalization (BatchNo (None, 100, 100, 96)      384       \n",
      "_________________________________________________________________\n",
      "activation (Activation)      (None, 100, 100, 96)      0         \n",
      "_________________________________________________________________\n",
      "max_pooling2d (MaxPooling2D) (None, 50, 50, 96)        0         \n",
      "_________________________________________________________________\n",
      "conv2d_1 (Conv2D)            (None, 50, 50, 256)       614656    \n",
      "_________________________________________________________________\n",
      "batch_normalization_1 (Batch (None, 50, 50, 256)       1024      \n",
      "_________________________________________________________________\n",
      "activation_1 (Activation)    (None, 50, 50, 256)       0         \n",
      "_________________________________________________________________\n",
      "max_pooling2d_1 (MaxPooling2 (None, 25, 25, 256)       0         \n",
      "_________________________________________________________________\n",
      "zero_padding2d (ZeroPadding2 (None, 27, 27, 256)       0         \n",
      "_________________________________________________________________\n",
      "conv2d_2 (Conv2D)            (None, 27, 27, 512)       1180160   \n",
      "_________________________________________________________________\n",
      "batch_normalization_2 (Batch (None, 27, 27, 512)       2048      \n",
      "_________________________________________________________________\n",
      "activation_2 (Activation)    (None, 27, 27, 512)       0         \n",
      "_________________________________________________________________\n",
      "max_pooling2d_2 (MaxPooling2 (None, 13, 13, 512)       0         \n",
      "_________________________________________________________________\n",
      "zero_padding2d_1 (ZeroPaddin (None, 15, 15, 512)       0         \n",
      "_________________________________________________________________\n",
      "conv2d_3 (Conv2D)            (None, 15, 15, 1024)      4719616   \n",
      "_________________________________________________________________\n",
      "batch_normalization_3 (Batch (None, 15, 15, 1024)      4096      \n",
      "_________________________________________________________________\n",
      "activation_3 (Activation)    (None, 15, 15, 1024)      0         \n",
      "_________________________________________________________________\n",
      "zero_padding2d_2 (ZeroPaddin (None, 17, 17, 1024)      0         \n",
      "_________________________________________________________________\n",
      "conv2d_4 (Conv2D)            (None, 17, 17, 1024)      9438208   \n",
      "_________________________________________________________________\n",
      "batch_normalization_4 (Batch (None, 17, 17, 1024)      4096      \n",
      "_________________________________________________________________\n",
      "activation_4 (Activation)    (None, 17, 17, 1024)      0         \n",
      "_________________________________________________________________\n",
      "max_pooling2d_3 (MaxPooling2 (None, 8, 8, 1024)        0         \n",
      "_________________________________________________________________\n",
      "flatten (Flatten)            (None, 65536)             0         \n",
      "_________________________________________________________________\n",
      "dense (Dense)                (None, 3072)              201329664 \n",
      "_________________________________________________________________\n",
      "batch_normalization_5 (Batch (None, 3072)              12288     \n",
      "_________________________________________________________________\n",
      "activation_5 (Activation)    (None, 3072)              0         \n",
      "_________________________________________________________________\n",
      "dropout (Dropout)            (None, 3072)              0         \n",
      "_________________________________________________________________\n",
      "dense_1 (Dense)              (None, 4096)              12587008  \n",
      "_________________________________________________________________\n",
      "batch_normalization_6 (Batch (None, 4096)              16384     \n",
      "_________________________________________________________________\n",
      "activation_6 (Activation)    (None, 4096)              0         \n",
      "_________________________________________________________________\n",
      "dropout_1 (Dropout)          (None, 4096)              0         \n",
      "_________________________________________________________________\n",
      "dense_2 (Dense)              (None, 6)                 24582     \n",
      "_________________________________________________________________\n",
      "batch_normalization_7 (Batch (None, 6)                 24        \n",
      "_________________________________________________________________\n",
      "activation_7 (Activation)    (None, 6)                 0         \n",
      "=================================================================\n",
      "Total params: 229,969,182\n",
      "Trainable params: 229,949,010\n",
      "Non-trainable params: 20,172\n",
      "_________________________________________________________________\n",
      "None\n"
     ]
    }
   ],
   "source": [
    "l2_reg = 0\n",
    "\n",
    "# Initialize model\n",
    "model = Sequential()\n",
    "\n",
    "# 1st Conv Layer \n",
    "model.add(Conv2D(96, (11, 11), input_shape=(img_rows, img_cols, 3),\n",
    "    padding='same', kernel_regularizer=l2(l2_reg)))\n",
    "model.add(BatchNormalization())\n",
    "model.add(Activation('relu'))\n",
    "model.add(MaxPooling2D(pool_size=(2, 2)))\n",
    "\n",
    "# 2nd Conv Layer \n",
    "model.add(Conv2D(256, (5, 5), padding='same'))\n",
    "model.add(BatchNormalization())\n",
    "model.add(Activation('relu'))\n",
    "model.add(MaxPooling2D(pool_size=(2, 2)))\n",
    "\n",
    "# 3rd Conv Layer \n",
    "model.add(ZeroPadding2D((1, 1)))\n",
    "model.add(Conv2D(512, (3, 3), padding='same'))\n",
    "model.add(BatchNormalization())\n",
    "model.add(Activation('relu'))\n",
    "model.add(MaxPooling2D(pool_size=(2, 2)))\n",
    "\n",
    "# 4th Conv Layer \n",
    "model.add(ZeroPadding2D((1, 1)))\n",
    "model.add(Conv2D(1024, (3, 3), padding='same'))\n",
    "model.add(BatchNormalization())\n",
    "model.add(Activation('relu'))\n",
    "\n",
    "# 5th Conv Layer \n",
    "model.add(ZeroPadding2D((1, 1)))\n",
    "model.add(Conv2D(1024, (3, 3), padding='same'))\n",
    "model.add(BatchNormalization())\n",
    "model.add(Activation('relu'))\n",
    "model.add(MaxPooling2D(pool_size=(2, 2)))\n",
    "\n",
    "# 1st FC Layer\n",
    "model.add(Flatten())\n",
    "model.add(Dense(3072))\n",
    "model.add(BatchNormalization())\n",
    "model.add(Activation('relu'))\n",
    "model.add(Dropout(0.5))\n",
    "\n",
    "# 2nd FC Layer\n",
    "model.add(Dense(4096))\n",
    "model.add(BatchNormalization())\n",
    "model.add(Activation('relu'))\n",
    "model.add(Dropout(0.5))\n",
    "\n",
    "# 3rd FC Layer\n",
    "model.add(Dense(num_classes))\n",
    "model.add(BatchNormalization())\n",
    "model.add(Activation('softmax'))\n",
    "\n",
    "print(model.summary())\n",
    "\n",
    "#model.compile(loss = 'categorical_crossentropy',\n",
    "#              optimizer = keras.optimizers.Adadelta(),\n",
    "#              metrics = ['accuracy'])\n"
   ]
  },
  {
   "cell_type": "code",
   "execution_count": 4,
   "metadata": {
    "execution": {
     "iopub.execute_input": "2021-06-13T16:28:54.520541Z",
     "iopub.status.busy": "2021-06-13T16:28:54.520214Z",
     "iopub.status.idle": "2021-06-13T16:28:54.537895Z",
     "shell.execute_reply": "2021-06-13T16:28:54.537067Z",
     "shell.execute_reply.started": "2021-06-13T16:28:54.520513Z"
    }
   },
   "outputs": [],
   "source": [
    "from keras.optimizers import RMSprop, SGD\n",
    "from keras.callbacks import ModelCheckpoint, EarlyStopping, ReduceLROnPlateau\n",
    "\n",
    "                     \n",
    "checkpoint = ModelCheckpoint(\"face_classifier_by_Raden_v01.h5\",\n",
    "                             monitor=\"val_loss\",\n",
    "                             mode=\"min\",\n",
    "                             save_best_only = True,\n",
    "                             verbose=1)\n",
    "\n",
    "earlystop = EarlyStopping(monitor = 'val_loss', \n",
    "                          min_delta = 0, \n",
    "                          patience = 3,\n",
    "                          verbose = 1,\n",
    "                          restore_best_weights = True)\n",
    "\n",
    "reduce_lr = ReduceLROnPlateau(monitor = 'val_loss',\n",
    "                              factor = 0.2,\n",
    "                              patience = 3,\n",
    "                              verbose = 1,\n",
    "                              min_delta = 0.0001)\n",
    "\n",
    "# we put our call backs into a callback list\n",
    "callbacks = [earlystop, checkpoint, reduce_lr]\n",
    "\n",
    "# We use a very small learning rate \n",
    "model.compile(loss = 'categorical_crossentropy',\n",
    "              optimizer = RMSprop(lr = 0.001),\n",
    "              metrics = ['accuracy'])\n",
    "\n",
    "nb_train_samples = 4800\n",
    "nb_validation_samples = 1200\n"
   ]
  },
  {
   "cell_type": "code",
   "execution_count": 5,
   "metadata": {
    "execution": {
     "iopub.execute_input": "2021-06-13T16:29:06.942384Z",
     "iopub.status.busy": "2021-06-13T16:29:06.942032Z",
     "iopub.status.idle": "2021-06-13T16:32:34.983788Z",
     "shell.execute_reply": "2021-06-13T16:32:34.982805Z",
     "shell.execute_reply.started": "2021-06-13T16:29:06.942354Z"
    }
   },
   "outputs": [
    {
     "name": "stdout",
     "output_type": "stream",
     "text": [
      "Training STARTED!!\n",
      "....................\n",
      "Epoch 1/50\n",
      "300/300 [==============================] - 35s 104ms/step - loss: 1.8267 - accuracy: 0.2301 - val_loss: 11.6023 - val_accuracy: 0.2150\n",
      "\n",
      "Epoch 00001: val_loss improved from inf to 11.60229, saving model to face_classifier_by_Raden_v01.h5\n",
      "Epoch 2/50\n",
      "300/300 [==============================] - 31s 103ms/step - loss: 1.7283 - accuracy: 0.2716 - val_loss: 2.5327 - val_accuracy: 0.2050\n",
      "\n",
      "Epoch 00002: val_loss improved from 11.60229 to 2.53272, saving model to face_classifier_by_Raden_v01.h5\n",
      "Epoch 3/50\n",
      "300/300 [==============================] - 31s 103ms/step - loss: 1.6851 - accuracy: 0.3023 - val_loss: 1.7044 - val_accuracy: 0.3025\n",
      "\n",
      "Epoch 00003: val_loss improved from 2.53272 to 1.70441, saving model to face_classifier_by_Raden_v01.h5\n",
      "Epoch 4/50\n",
      "300/300 [==============================] - 31s 102ms/step - loss: 1.6689 - accuracy: 0.3258 - val_loss: 1.8158 - val_accuracy: 0.2817\n",
      "\n",
      "Epoch 00004: val_loss did not improve from 1.70441\n",
      "Epoch 5/50\n",
      "300/300 [==============================] - 31s 103ms/step - loss: 1.6436 - accuracy: 0.3271 - val_loss: 1.7958 - val_accuracy: 0.2750\n",
      "\n",
      "Epoch 00005: val_loss did not improve from 1.70441\n",
      "Epoch 6/50\n",
      "300/300 [==============================] - 31s 103ms/step - loss: 1.6014 - accuracy: 0.3524 - val_loss: 1.8380 - val_accuracy: 0.2983\n",
      "Restoring model weights from the end of the best epoch.\n",
      "\n",
      "Epoch 00006: val_loss did not improve from 1.70441\n",
      "\n",
      "Epoch 00006: ReduceLROnPlateau reducing learning rate to 0.00020000000949949026.\n",
      "Epoch 00006: early stopping\n",
      "Training Finished!!\n"
     ]
    }
   ],
   "source": [
    "import timeit\n",
    "start = timeit.default_timer()\n",
    "\n",
    "epochs = 50\n",
    "\n",
    "print('Training STARTED!!')\n",
    "print('....................')\n",
    "history = model.fit(\n",
    "    train_generator,\n",
    "    steps_per_epoch = nb_train_samples // batch_size,\n",
    "    epochs = epochs,\n",
    "    callbacks = callbacks,\n",
    "    validation_data = validation_generator,\n",
    "    validation_steps = nb_validation_samples // batch_size)\n",
    "\n",
    "print('Training Finished!!')\n",
    "stop = timeit.default_timer()"
   ]
  },
  {
   "cell_type": "markdown",
   "metadata": {},
   "source": [
    "### Displaying our Confusion Matrix"
   ]
  },
  {
   "cell_type": "code",
   "execution_count": 6,
   "metadata": {
    "execution": {
     "iopub.execute_input": "2021-06-13T16:33:28.027499Z",
     "iopub.status.busy": "2021-06-13T16:33:28.027130Z",
     "iopub.status.idle": "2021-06-13T16:33:28.032872Z",
     "shell.execute_reply": "2021-06-13T16:33:28.032044Z",
     "shell.execute_reply.started": "2021-06-13T16:33:28.027466Z"
    }
   },
   "outputs": [],
   "source": [
    "#generator= train_datagen.flow_from_directory(\"train\", batch_size=batch_size)\n",
    "#label_map = (generator.class_indices)\n",
    "\n",
    "#train_generator\n",
    "class_labels = (train_generator.class_indices)"
   ]
  },
  {
   "cell_type": "code",
   "execution_count": 7,
   "metadata": {
    "execution": {
     "iopub.execute_input": "2021-06-13T16:33:31.678444Z",
     "iopub.status.busy": "2021-06-13T16:33:31.678091Z",
     "iopub.status.idle": "2021-06-13T16:33:31.686751Z",
     "shell.execute_reply": "2021-06-13T16:33:31.685544Z",
     "shell.execute_reply.started": "2021-06-13T16:33:31.678416Z"
    }
   },
   "outputs": [
    {
     "data": {
      "text/plain": [
       "{'ASEAN': 0,\n",
       " 'African': 1,\n",
       " 'Arab': 2,\n",
       " 'European': 3,\n",
       " 'Indian': 4,\n",
       " 'Taiwanese': 5}"
      ]
     },
     "execution_count": 7,
     "metadata": {},
     "output_type": "execute_result"
    }
   ],
   "source": [
    "class_labels"
   ]
  },
  {
   "cell_type": "code",
   "execution_count": 8,
   "metadata": {
    "execution": {
     "iopub.execute_input": "2021-06-13T16:33:35.808379Z",
     "iopub.status.busy": "2021-06-13T16:33:35.808001Z",
     "iopub.status.idle": "2021-06-13T16:33:35.815128Z",
     "shell.execute_reply": "2021-06-13T16:33:35.814140Z",
     "shell.execute_reply.started": "2021-06-13T16:33:35.808348Z"
    }
   },
   "outputs": [
    {
     "data": {
      "text/plain": [
       "array([0, 0, 0, ..., 5, 5, 5], dtype=int32)"
      ]
     },
     "execution_count": 8,
     "metadata": {},
     "output_type": "execute_result"
    }
   ],
   "source": [
    "validation_generator.classes"
   ]
  },
  {
   "cell_type": "code",
   "execution_count": 13,
   "metadata": {
    "execution": {
     "iopub.execute_input": "2021-06-13T16:38:35.384424Z",
     "iopub.status.busy": "2021-06-13T16:38:35.384048Z",
     "iopub.status.idle": "2021-06-13T16:38:35.389945Z",
     "shell.execute_reply": "2021-06-13T16:38:35.389117Z",
     "shell.execute_reply.started": "2021-06-13T16:38:35.384393Z"
    }
   },
   "outputs": [
    {
     "data": {
      "text/plain": [
       "['ASEAN', 'African', 'Arab', 'European', 'Indian', 'Taiwanese']"
      ]
     },
     "execution_count": 13,
     "metadata": {},
     "output_type": "execute_result"
    }
   ],
   "source": [
    "list(class_labels.values())"
   ]
  },
  {
   "cell_type": "code",
   "execution_count": 14,
   "metadata": {
    "execution": {
     "iopub.execute_input": "2021-06-13T16:38:49.894340Z",
     "iopub.status.busy": "2021-06-13T16:38:49.893973Z",
     "iopub.status.idle": "2021-06-13T16:38:51.481489Z",
     "shell.execute_reply": "2021-06-13T16:38:51.480548Z",
     "shell.execute_reply.started": "2021-06-13T16:38:49.894309Z"
    }
   },
   "outputs": [
    {
     "name": "stdout",
     "output_type": "stream",
     "text": [
      "Confusion Matrix\n",
      "[[  0  24   9  14   7 146]\n",
      " [  0  58  16  15  29  82]\n",
      " [  1  20   5  14  11 149]\n",
      " [  3  20   0  28  12 137]\n",
      " [  0  44   9  16  15 116]\n",
      " [  0   1   0   1   2 196]]\n"
     ]
    }
   ],
   "source": [
    "from sklearn.metrics import classification_report, confusion_matrix\n",
    "import numpy as np\n",
    "\n",
    "#Confution Matrix and Classification Report\n",
    "Y_pred = model.predict(validation_generator, nb_validation_samples // batch_size+1)\n",
    "y_pred = np.argmax(Y_pred, axis=1)\n",
    "print('Confusion Matrix')\n",
    "print(confusion_matrix(validation_generator.classes, y_pred))\n"
   ]
  },
  {
   "cell_type": "code",
   "execution_count": 15,
   "metadata": {
    "execution": {
     "iopub.execute_input": "2021-06-13T16:38:57.740064Z",
     "iopub.status.busy": "2021-06-13T16:38:57.739707Z",
     "iopub.status.idle": "2021-06-13T16:38:57.751946Z",
     "shell.execute_reply": "2021-06-13T16:38:57.751048Z",
     "shell.execute_reply.started": "2021-06-13T16:38:57.740018Z"
    }
   },
   "outputs": [
    {
     "name": "stdout",
     "output_type": "stream",
     "text": [
      "Classification Report\n",
      "              precision    recall  f1-score   support\n",
      "\n",
      "       ASEAN       0.00      0.00      0.00       200\n",
      "     African       0.35      0.29      0.32       200\n",
      "        Arab       0.13      0.03      0.04       200\n",
      "    European       0.32      0.14      0.19       200\n",
      "      Indian       0.20      0.07      0.11       200\n",
      "   Taiwanese       0.24      0.98      0.38       200\n",
      "\n",
      "    accuracy                           0.25      1200\n",
      "   macro avg       0.20      0.25      0.17      1200\n",
      "weighted avg       0.20      0.25      0.17      1200\n",
      "\n"
     ]
    }
   ],
   "source": [
    "print('Classification Report')\n",
    "target_names = list(class_labels.values())\n",
    "print(classification_report(validation_generator.classes, y_pred, target_names=target_names))"
   ]
  },
  {
   "cell_type": "code",
   "execution_count": 19,
   "metadata": {
    "execution": {
     "iopub.execute_input": "2021-06-13T16:46:00.607247Z",
     "iopub.status.busy": "2021-06-13T16:46:00.606867Z",
     "iopub.status.idle": "2021-06-13T16:46:06.156843Z",
     "shell.execute_reply": "2021-06-13T16:46:06.156112Z",
     "shell.execute_reply.started": "2021-06-13T16:46:00.607214Z"
    }
   },
   "outputs": [
    {
     "data": {
      "image/png": "[encoded data removed]",
      "text/plain": [
       "<Figure size 576x576 with 2 Axes>"
      ]
     },
     "metadata": {
      "needs_background": "light"
     },
     "output_type": "display_data"
    }
   ],
   "source": [
    "import matplotlib.pyplot as plt\n",
    "import sklearn\n",
    "from sklearn.metrics import classification_report, confusion_matrix\n",
    "import numpy as np\n",
    "from keras.models import load_model\n",
    "\n",
    "img_row, img_height, img_depth = 32,32,3\n",
    "model = load_model('./fruits_fresh_cnn_1.h5')\n",
    "\n",
    "class_labels = validation_generator.class_indices\n",
    "class_labels = {v: k for k, v in class_labels.items()}\n",
    "classes = list(class_labels.values())\n",
    "\n",
    "nb_train_samples = 4800\n",
    "nb_validation_samples = 1200\n",
    "\n",
    "#Confution Matrix and Classification Report\n",
    "Y_pred = model.predict(validation_generator, nb_validation_samples // batch_size+1)\n",
    "y_pred = np.argmax(Y_pred, axis=1)\n",
    "\n",
    "target_names = list(class_labels.values())\n",
    "\n",
    "plt.figure(figsize=(8,8))\n",
    "cnf_matrix = confusion_matrix(validation_generator.classes, y_pred)\n",
    "\n",
    "plt.imshow(cnf_matrix, interpolation='nearest')\n",
    "plt.colorbar()\n",
    "tick_marks = np.arange(len(classes))\n",
    "_ = plt.xticks(tick_marks, classes, rotation=90)\n",
    "_ = plt.yticks(tick_marks, classes)"
   ]
  },
  {
   "cell_type": "code",
   "execution_count": 16,
   "metadata": {
    "execution": {
     "iopub.execute_input": "2021-06-13T16:41:21.248840Z",
     "iopub.status.busy": "2021-06-13T16:41:21.248496Z",
     "iopub.status.idle": "2021-06-13T16:41:21.391505Z",
     "shell.execute_reply": "2021-06-13T16:41:21.390595Z",
     "shell.execute_reply.started": "2021-06-13T16:41:21.248810Z"
    }
   },
   "outputs": [
    {
     "data": {
      "image/png": "[encoded data removed]",
      "text/plain": [
       "<Figure size 432x288 with 1 Axes>"
      ]
     },
     "metadata": {
      "needs_background": "light"
     },
     "output_type": "display_data"
    }
   ],
   "source": [
    "# Plotting our loss charts\n",
    "import matplotlib.pyplot as plt\n",
    "\n",
    "history_dict = history.history\n",
    "\n",
    "loss_values = history_dict['loss']\n",
    "val_loss_values = history_dict['val_loss']\n",
    "epochs = range(1, len(loss_values) + 1)\n",
    "\n",
    "line1 = plt.plot(epochs, val_loss_values, label='Validation/Test Loss')\n",
    "line2 = plt.plot(epochs, loss_values, label='Training Loss')\n",
    "plt.setp(line1, linewidth=2.0, marker = '+', markersize=10.0)\n",
    "plt.setp(line2, linewidth=2.0, marker = '4', markersize=10.0)\n",
    "plt.xlabel('Epochs') \n",
    "plt.ylabel('Loss')\n",
    "plt.grid(True)\n",
    "plt.legend()\n",
    "plt.show()\n"
   ]
  },
  {
   "cell_type": "code",
   "execution_count": 17,
   "metadata": {
    "execution": {
     "iopub.execute_input": "2021-06-13T16:41:34.595526Z",
     "iopub.status.busy": "2021-06-13T16:41:34.595205Z",
     "iopub.status.idle": "2021-06-13T16:41:34.755581Z",
     "shell.execute_reply": "2021-06-13T16:41:34.754728Z",
     "shell.execute_reply.started": "2021-06-13T16:41:34.595496Z"
    }
   },
   "outputs": [
    {
     "data": {
      "image/png": "[encoded data removed]",
      "text/plain": [
       "<Figure size 432x288 with 1 Axes>"
      ]
     },
     "metadata": {
      "needs_background": "light"
     },
     "output_type": "display_data"
    }
   ],
   "source": [
    "# Plotting our accuracy charts\n",
    "import matplotlib.pyplot as plt\n",
    "\n",
    "history_dict = history.history\n",
    "\n",
    "acc_values = history_dict['accuracy']\n",
    "val_acc_values = history_dict['val_accuracy']\n",
    "epochs = range(1, len(loss_values) + 1)\n",
    "\n",
    "line1 = plt.plot(epochs, val_acc_values, label='Validation/Test Accuracy')\n",
    "line2 = plt.plot(epochs, acc_values, label='Training Accuracy')\n",
    "plt.setp(line1, linewidth=2.0, marker = '+', markersize=10.0)\n",
    "plt.setp(line2, linewidth=2.0, marker = '4', markersize=10.0)\n",
    "plt.xlabel('Epochs') \n",
    "plt.ylabel('Accuracy')\n",
    "plt.grid(True)\n",
    "plt.legend()\n",
    "plt.show()\n"
   ]
  },
  {
   "cell_type": "markdown",
   "metadata": {},
   "source": [
    "## Saving Model"
   ]
  },
  {
   "cell_type": "markdown",
   "metadata": {},
   "source": [
    "#### Let's save our history file"
   ]
  },
  {
   "cell_type": "code",
   "execution_count": 20,
   "metadata": {
    "execution": {
     "iopub.execute_input": "2021-06-13T16:48:03.010706Z",
     "iopub.status.busy": "2021-06-13T16:48:03.010354Z",
     "iopub.status.idle": "2021-06-13T16:48:03.017420Z",
     "shell.execute_reply": "2021-06-13T16:48:03.016262Z",
     "shell.execute_reply.started": "2021-06-13T16:48:03.010676Z"
    }
   },
   "outputs": [],
   "source": [
    "import pickle \n",
    "\n",
    "pickle_out = open(\"face_classifier_Raden1.pickle\",\"wb\")\n",
    "pickle.dump(history.history, pickle_out)\n",
    "pickle_out.close()"
   ]
  },
  {
   "cell_type": "markdown",
   "metadata": {},
   "source": [
    "#### Loading out saved history is as simple as these two lines"
   ]
  },
  {
   "cell_type": "code",
   "execution_count": null,
   "metadata": {},
   "outputs": [],
   "source": [
    "import pickle \n",
    "\n",
    "pickle_in = open(\"face_classifier_Raden1.pickle\",\"rb\")\n",
    "saved_history = pickle.load(pickle_in)\n",
    "print(saved_history)"
   ]
  },
  {
   "cell_type": "markdown",
   "metadata": {},
   "source": [
    "### Testing our fruit classifier"
   ]
  },
  {
   "cell_type": "code",
   "execution_count": null,
   "metadata": {},
   "outputs": [],
   "source": [
    "from keras.models import load_model\n",
    "from keras.preprocessing import image\n",
    "import numpy as np\n",
    "import os\n",
    "import cv2\n",
    "import numpy as np\n",
    "from os import listdir\n",
    "from os.path import isfile, join\n",
    "import re\n",
    "\n",
    "def draw_test(name, pred, im, true_label):\n",
    "    BLACK = [0,0,0]\n",
    "    expanded_image = cv2.copyMakeBorder(im, 160, 0, 0, 500 ,cv2.BORDER_CONSTANT,value=BLACK)\n",
    "    cv2.putText(expanded_image, \"predited - \"+ pred, (20, 60) , cv2.FONT_HERSHEY_SIMPLEX,1, (0,0,255), 2)\n",
    "    cv2.putText(expanded_image, \"true - \"+ true_label, (20, 120) , cv2.FONT_HERSHEY_SIMPLEX,1, (0,255,0), 2)\n",
    "    cv2.imshow(name, expanded_image)\n",
    "\n",
    "\n",
    "def getRandomImage(path, img_width, img_height):\n",
    "    \"\"\"function loads a random images from a random folder in our test path \"\"\"\n",
    "    folders = list(filter(lambda x: os.path.isdir(os.path.join(path, x)), os.listdir(path)))\n",
    "    random_directory = np.random.randint(0,len(folders))\n",
    "    path_class = folders[random_directory]\n",
    "    file_path = path + path_class\n",
    "    file_names = [f for f in listdir(file_path) if isfile(join(file_path, f))]\n",
    "    random_file_index = np.random.randint(0,len(file_names))\n",
    "    image_name = file_names[random_file_index]\n",
    "    final_path = file_path + \"/\" + image_name\n",
    "    return image.load_img(final_path, target_size = (img_width, img_height)), final_path, path_class\n",
    "\n",
    "# dimensions of our images\n",
    "img_width, img_height = 32, 32\n",
    "\n",
    "\n",
    "files = []\n",
    "predictions = []\n",
    "true_labels = []\n",
    "# predicting images\n",
    "for i in range(0, 10):\n",
    "    path = './fruits-360/validation/' \n",
    "    img, final_path, true_label = getRandomImage(path, img_width, img_height)\n",
    "    files.append(final_path)\n",
    "    true_labels.append(true_label)\n",
    "    x = image.img_to_array(img)\n",
    "    x = x * 1./255\n",
    "    x = np.expand_dims(x, axis=0)\n",
    "    images = np.vstack([x])\n",
    "    classes = model.predict_classes(images, batch_size = 10)\n",
    "    predictions.append(classes)\n",
    "    \n",
    "for i in range(0, len(files)):\n",
    "    image = cv2.imread((files[i]))\n",
    "    draw_test(\"Prediction\", class_labels[predictions[i][0]], image, true_labels[i])\n",
    "    cv2.waitKey(0)\n",
    "\n",
    "cv2.destroyAllWindows()"
   ]
  },
  {
   "cell_type": "code",
   "execution_count": null,
   "metadata": {},
   "outputs": [],
   "source": []
  },
  {
   "cell_type": "code",
   "execution_count": null,
   "metadata": {},
   "outputs": [],
   "source": []
  },
  {
   "cell_type": "code",
   "execution_count": null,
   "metadata": {},
   "outputs": [],
   "source": []
  },
  {
   "cell_type": "code",
   "execution_count": null,
   "metadata": {},
   "outputs": [],
   "source": []
  },
  {
   "cell_type": "code",
   "execution_count": null,
   "metadata": {},
   "outputs": [],
   "source": []
  },
  {
   "cell_type": "code",
   "execution_count": null,
   "metadata": {},
   "outputs": [],
   "source": []
  }
 ],
 "metadata": {
  "kernelspec": {
   "display_name": "Python 3",
   "language": "python",
   "name": "python3"
  },
  "language_info": {
   "codemirror_mode": {
    "name": "ipython",
    "version": 3
   },
   "file_extension": ".py",
   "mimetype": "text/x-python",
   "name": "python",
   "nbconvert_exporter": "python",
   "pygments_lexer": "ipython3",
   "version": "3.8.8"
  }
 },
 "nbformat": 4,
 "nbformat_minor": 4
}
